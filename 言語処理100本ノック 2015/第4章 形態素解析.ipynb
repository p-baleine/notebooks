{
 "cells": [
  {
   "cell_type": "markdown",
   "metadata": {
    "collapsed": false
   },
   "source": [
    "夏目漱石の小説『吾輩は猫である』の文章（[neko.txt](http://www.cl.ecei.tohoku.ac.jp/nlp100/data/neko.txt)）をMeCabを使って形態素解析し，その結果をneko.txt.mecabというファイルに保存せよ．このファイルを用いて，以下の問に対応するプログラムを実装せよ．\n",
    "\n",
    "なお，問題37, 38, 39はmatplotlibもしくはGnuplotを用いるとよい．"
   ]
  },
  {
   "cell_type": "code",
   "execution_count": 1,
   "metadata": {
    "collapsed": false
   },
   "outputs": [
    {
     "name": "stdout",
     "output_type": "stream",
     "text": [
      "一\t名詞,数,*,*,*,*,一,イチ,イチ\r\n",
      "EOS\r\n",
      "EOS\r\n",
      "　\t記号,空白,*,*,*,*,　,　,　\r\n",
      "吾輩\t名詞,代名詞,一般,*,*,*,吾輩,ワガハイ,ワガハイ\r\n",
      "は\t助詞,係助詞,*,*,*,*,は,ハ,ワ\r\n",
      "猫\t名詞,一般,*,*,*,*,猫,ネコ,ネコ\r\n",
      "で\t助動詞,*,*,*,特殊・ダ,連用形,だ,デ,デ\r\n",
      "ある\t助動詞,*,*,*,五段・ラ行アル,基本形,ある,アル,アル\r\n",
      "。\t記号,句点,*,*,*,*,。,。,。\r\n",
      "EOS\r\n",
      "名前\t名詞,一般,*,*,*,*,名前,ナマエ,ナマエ\r\n",
      "は\t助詞,係助詞,*,*,*,*,は,ハ,ワ\r\n",
      "まだ\t副詞,助詞類接続,*,*,*,*,まだ,マダ,マダ\r\n",
      "無い\t形容詞,自立,*,*,形容詞・アウオ段,基本形,無い,ナイ,ナイ\r\n",
      "。\t記号,句点,*,*,*,*,。,。,。\r\n",
      "EOS\r\n",
      "EOS\r\n",
      "　\t記号,空白,*,*,*,*,　,　,　\r\n",
      "どこ\t名詞,代名詞,一般,*,*,*,どこ,ドコ,ドコ\r\n"
     ]
    }
   ],
   "source": [
    "import MeCab\n",
    "import requests\n",
    "import shutil\n",
    "import sys\n",
    "\n",
    "r = requests.get(\"http://www.cl.ecei.tohoku.ac.jp/nlp100/data/neko.txt\", stream=True)\n",
    "\n",
    "with open(\"neko.txt\", 'wb') as f:\n",
    "    r.raw.decode_content = True\n",
    "    shutil.copyfileobj(r.raw, f)\n",
    "\n",
    "! mecab neko.txt -o neko.txt.mecab\n",
    "! head -n 20 neko.txt.mecab"
   ]
  },
  {
   "cell_type": "markdown",
   "metadata": {},
   "source": [
    "---\n",
    "\n",
    "### 30. 形態素解析結果の読み込み\n",
    "形態素解析結果（neko.txt.mecab）を読み込むプログラムを実装せよ．ただし，各形態素は表層形（surface），基本形（base），品詞（pos），品詞細分類1（pos1）をキーとするマッピング型に格納し，1文を形態素（マッピング型）のリストとして表現せよ．第4章の残りの問題では，ここで作ったプログラムを活用せよ．"
   ]
  },
  {
   "cell_type": "code",
   "execution_count": 2,
   "metadata": {
    "collapsed": false
   },
   "outputs": [
    {
     "name": "stdout",
     "output_type": "stream",
     "text": [
      "[[{'pos': '名詞', 'pos1': '数', 'surface': '一', 'base': '一'}], [{'pos': '記号', 'pos1': '空白', 'surface': '\\u3000', 'base': '\\u3000'}, {'pos': '名詞', 'pos1': '代名詞', 'surface': '吾輩', 'base': '吾輩'}, {'pos': '助詞', 'pos1': '係助詞', 'surface': 'は', 'base': 'は'}, {'pos': '名詞', 'pos1': '一般', 'surface': '猫', 'base': '猫'}, {'pos': '助動詞', 'pos1': '*', 'surface': 'で', 'base': 'だ'}, {'pos': '助動詞', 'pos1': '*', 'surface': 'ある', 'base': 'ある'}, {'pos': '記号', 'pos1': '句点', 'surface': '。', 'base': '。'}]]\n"
     ]
    }
   ],
   "source": [
    "import numpy as np\n",
    "import re\n",
    "\n",
    "def neko_mecabed():\n",
    "    keys = [(0, 'surface'), (7, 'base'), (1, 'pos'), (2, 'pos1')]\n",
    "\n",
    "    def todict(word):\n",
    "        return dict((key, word[idx]) for idx, key in keys)\n",
    "\n",
    "    with open(\"neko.txt.mecab\", \"rt\") as neko:\n",
    "        return [[todict(re.split('[\\t,]', word)) for word in line.split('\\n') if len(word) >= 4]\n",
    "               for line in re.split(r'EOS\\n', neko.read()) if len(line) is not 0]\n",
    "\n",
    "print(neko_mecabed()[0:2])"
   ]
  },
  {
   "cell_type": "markdown",
   "metadata": {
    "collapsed": true
   },
   "source": [
    "### 31. 動詞\n",
    "動詞の表層形をすべて抽出せよ．"
   ]
  },
  {
   "cell_type": "code",
   "execution_count": 3,
   "metadata": {
    "collapsed": false
   },
   "outputs": [
    {
     "data": {
      "text/plain": [
       "['生れ', 'つか', 'し', '泣い', 'し', 'いる', '始め', '見', '聞く', '捕え']"
      ]
     },
     "execution_count": 3,
     "metadata": {},
     "output_type": "execute_result"
    }
   ],
   "source": [
    "[word[\"surface\"] for line in neko_mecabed() for word in line if word[\"pos\"] == \"動詞\"][:10]"
   ]
  },
  {
   "cell_type": "markdown",
   "metadata": {},
   "source": [
    "### 32. 動詞の原形\n",
    "動詞の原形をすべて抽出せよ．"
   ]
  },
  {
   "cell_type": "code",
   "execution_count": 4,
   "metadata": {
    "collapsed": false
   },
   "outputs": [
    {
     "data": {
      "text/plain": [
       "['生れる', 'つく', 'する', '泣く', 'する', 'いる', '始める', '見る', '聞く', '捕える']"
      ]
     },
     "execution_count": 4,
     "metadata": {},
     "output_type": "execute_result"
    }
   ],
   "source": [
    "[word[\"base\"] for line in neko_mecabed() for word in line if word[\"pos\"] == \"動詞\"][:10]"
   ]
  },
  {
   "cell_type": "markdown",
   "metadata": {},
   "source": [
    "### 33. サ変名詞\n",
    "サ変接続の名詞をすべて抽出せよ．"
   ]
  },
  {
   "cell_type": "code",
   "execution_count": 5,
   "metadata": {
    "collapsed": false
   },
   "outputs": [
    {
     "data": {
      "text/plain": [
       "[{'base': '見当', 'pos': '名詞', 'pos1': 'サ変接続', 'surface': '見当'},\n",
       " {'base': '記憶', 'pos': '名詞', 'pos1': 'サ変接続', 'surface': '記憶'},\n",
       " {'base': '話', 'pos': '名詞', 'pos1': 'サ変接続', 'surface': '話'},\n",
       " {'base': '装飾', 'pos': '名詞', 'pos1': 'サ変接続', 'surface': '装飾'},\n",
       " {'base': '突起', 'pos': '名詞', 'pos1': 'サ変接続', 'surface': '突起'},\n",
       " {'base': '運転', 'pos': '名詞', 'pos1': 'サ変接続', 'surface': '運転'},\n",
       " {'base': '記憶', 'pos': '名詞', 'pos1': 'サ変接続', 'surface': '記憶'},\n",
       " {'base': '分別', 'pos': '名詞', 'pos1': 'サ変接続', 'surface': '分別'},\n",
       " {'base': '決心', 'pos': '名詞', 'pos1': 'サ変接続', 'surface': '決心'},\n",
       " {'base': '我慢', 'pos': '名詞', 'pos1': 'サ変接続', 'surface': '我慢'}]"
      ]
     },
     "execution_count": 5,
     "metadata": {},
     "output_type": "execute_result"
    }
   ],
   "source": [
    "[word for line in neko_mecabed() for word in line if word[\"pos\"] == \"名詞\" and word[\"pos1\"] == \"サ変接続\"][:10]"
   ]
  },
  {
   "cell_type": "markdown",
   "metadata": {},
   "source": [
    "### 34. 「AのB」\n",
    "2つの名詞が「の」で連結されている名詞句を抽出せよ．"
   ]
  },
  {
   "cell_type": "code",
   "execution_count": 6,
   "metadata": {
    "collapsed": false
   },
   "outputs": [
    {
     "data": {
      "text/plain": [
       "['彼の掌', '掌の上', '書生の顔', 'はずの顔', '顔の真中', '穴の中', '書生の掌', '掌の裏', '何の事', '肝心の母親']"
      ]
     },
     "execution_count": 6,
     "metadata": {},
     "output_type": "execute_result"
    }
   ],
   "source": [
    "[\"\".join(map(lambda w: w[\"surface\"], words)) for words in [(word[0], word[1], word[2])\n",
    "    for line in neko_mecabed()\n",
    "    for word in zip(line, line[1:], line[2:])\n",
    "        if word[0][\"pos\"] == \"名詞\" and word[1][\"base\"] == \"の\" and word[2][\"pos\"] == \"名詞\"]][:10]"
   ]
  },
  {
   "cell_type": "markdown",
   "metadata": {},
   "source": [
    "### 35. 名詞の連接\n",
    "名詞の連接（連続して出現する名詞）を最長一致で抽出せよ．"
   ]
  },
  {
   "cell_type": "code",
   "execution_count": 7,
   "metadata": {
    "collapsed": false
   },
   "outputs": [
    {
     "data": {
      "text/plain": [
       "[[{'base': '*', 'pos': '名詞', 'pos1': '一般', 'surface': 'many'},\n",
       "  {'base': '*', 'pos': '名詞', 'pos1': '一般', 'surface': 'a'},\n",
       "  {'base': '*', 'pos': '名詞', 'pos1': '一般', 'surface': 'slip'},\n",
       "  {'base': '*', 'pos': '名詞', 'pos1': 'サ変接続', 'surface': \"'\"},\n",
       "  {'base': '*', 'pos': '名詞', 'pos1': '一般', 'surface': 'twixt'},\n",
       "  {'base': '*', 'pos': '名詞', 'pos1': '一般', 'surface': 'the'},\n",
       "  {'base': '*', 'pos': '名詞', 'pos1': '一般', 'surface': 'cup'},\n",
       "  {'base': '*', 'pos': '名詞', 'pos1': '一般', 'surface': 'and'},\n",
       "  {'base': '*', 'pos': '名詞', 'pos1': '一般', 'surface': 'the'},\n",
       "  {'base': '*', 'pos': '名詞', 'pos1': '一般', 'surface': 'lip'}],\n",
       " [{'base': '明治', 'pos': '名詞', 'pos1': '固有名詞', 'surface': '明治'},\n",
       "  {'base': '三', 'pos': '名詞', 'pos1': '数', 'surface': '三'},\n",
       "  {'base': '十', 'pos': '名詞', 'pos1': '数', 'surface': '十'},\n",
       "  {'base': '八', 'pos': '名詞', 'pos1': '数', 'surface': '八'},\n",
       "  {'base': '年', 'pos': '名詞', 'pos1': '接尾', 'surface': '年'},\n",
       "  {'base': '何', 'pos': '名詞', 'pos1': '数', 'surface': '何'},\n",
       "  {'base': '月', 'pos': '名詞', 'pos1': '一般', 'surface': '月'},\n",
       "  {'base': '何', 'pos': '名詞', 'pos1': '数', 'surface': '何'},\n",
       "  {'base': '日', 'pos': '名詞', 'pos1': '接尾', 'surface': '日'},\n",
       "  {'base': '戸締り', 'pos': '名詞', 'pos1': 'サ変接続', 'surface': '戸締り'}],\n",
       " [{'base': '*', 'pos': '名詞', 'pos1': '一般', 'surface': 'a'},\n",
       "  {'base': '*', 'pos': '名詞', 'pos1': '一般', 'surface': 'slip'},\n",
       "  {'base': '*', 'pos': '名詞', 'pos1': 'サ変接続', 'surface': \"'\"},\n",
       "  {'base': '*', 'pos': '名詞', 'pos1': '一般', 'surface': 'twixt'},\n",
       "  {'base': '*', 'pos': '名詞', 'pos1': '一般', 'surface': 'the'},\n",
       "  {'base': '*', 'pos': '名詞', 'pos1': '一般', 'surface': 'cup'},\n",
       "  {'base': '*', 'pos': '名詞', 'pos1': '一般', 'surface': 'and'},\n",
       "  {'base': '*', 'pos': '名詞', 'pos1': '一般', 'surface': 'the'},\n",
       "  {'base': '*', 'pos': '名詞', 'pos1': '一般', 'surface': 'lip'}]]"
      ]
     },
     "execution_count": 7,
     "metadata": {},
     "output_type": "execute_result"
    }
   ],
   "source": [
    "def noun_junction():\n",
    "    def recur(line, idx):\n",
    "        return [line[idx]] + recur(line, idx + 1) if idx < len(line) and line[idx][\"pos\"] == \"名詞\" else []\n",
    "    \n",
    "    def noun_indexes(line):\n",
    "        return [idx for idx, word in enumerate(line) if word[\"pos\"] == \"名詞\"]\n",
    "\n",
    "    return [recur(line, idx)\n",
    "            for line in neko_mecabed() if \"名詞\" in map(lambda w: w[\"pos\"], line)\n",
    "            for idx in noun_indexes(line)]\n",
    "\n",
    "sorted(noun_junction(), key=len, reverse=True)[:3]"
   ]
  },
  {
   "cell_type": "markdown",
   "metadata": {},
   "source": [
    "### 36. 単語の出現頻度\n",
    "文章中に出現する単語とその出現頻度を求め，出現頻度の高い順に並べよ．"
   ]
  },
  {
   "cell_type": "code",
   "execution_count": 8,
   "metadata": {
    "collapsed": false
   },
   "outputs": [
    {
     "data": {
      "text/plain": [
       "[('の', 9194), ('。', 7486), ('て', 6848), ('、', 6772), ('は', 6420)]"
      ]
     },
     "execution_count": 8,
     "metadata": {},
     "output_type": "execute_result"
    }
   ],
   "source": [
    "from collections import Counter\n",
    "\n",
    "Counter([word[\"base\"] for line in neko_mecabed() for word in line]).most_common()[:5]"
   ]
  },
  {
   "cell_type": "markdown",
   "metadata": {},
   "source": [
    "### 37. 頻度上位10語\n",
    "出現頻度が高い10語とその出現頻度をグラフ（例えば棒グラフなど）で表示せよ．"
   ]
  },
  {
   "cell_type": "code",
   "execution_count": 9,
   "metadata": {
    "collapsed": false
   },
   "outputs": [
    {
     "data": {
      "text/plain": [
       "<Container object of 10 artists>"
      ]
     },
     "execution_count": 9,
     "metadata": {},
     "output_type": "execute_result"
    },
    {
     "data": {
      "image/png": "[encoded data removed]",
      "text/plain": [
       "<matplotlib.figure.Figure at 0x106b60898>"
      ]
     },
     "metadata": {},
     "output_type": "display_data"
    }
   ],
   "source": [
    "%matplotlib inline\n",
    "import matplotlib.pyplot as plt\n",
    "\n",
    "most_commons = Counter([word[\"base\"] for line in neko_mecabed() for word in line]).most_common()[:10]\n",
    "plt.xticks(range(10), list(map(lambda x: x[0], most_commons)))\n",
    "plt.bar(range(10), list(map(lambda x: x[1], most_commons)))"
   ]
  },
  {
   "cell_type": "markdown",
   "metadata": {
    "collapsed": true
   },
   "source": [
    "### 38. ヒストグラム\n",
    "単語の出現頻度のヒストグラム（横軸に出現頻度，縦軸に出現頻度をとる単語の種類数を棒グラフで表したもの）を描け．"
   ]
  },
  {
   "cell_type": "markdown",
   "metadata": {},
   "source": [
    "### 39. Zipfの法則\n",
    "単語の出現頻度順位を横軸，その出現頻度を縦軸として，両対数グラフをプロットせ"
   ]
  },
  {
   "cell_type": "code",
   "execution_count": 10,
   "metadata": {
    "collapsed": false
   },
   "outputs": [
    {
     "data": {
      "text/plain": [
       "[<matplotlib.lines.Line2D at 0x10d96a780>]"
      ]
     },
     "execution_count": 10,
     "metadata": {},
     "output_type": "execute_result"
    },
    {
     "data": {
      "image/png": "[encoded data removed]",
      "text/plain": [
       "<matplotlib.figure.Figure at 0x1019bbb70>"
      ]
     },
     "metadata": {},
     "output_type": "display_data"
    }
   ],
   "source": [
    "most_commons = Counter([word[\"base\"] for line in neko_mecabed() for word in line]).most_common()\n",
    "order = np.array([idx for idx, _ in enumerate(most_commons)])\n",
    "frequency = np.array(list(map(lambda x: x[1], most_commons)))\n",
    "\n",
    "plt.plot(np.log(order), np.log(frequency))"
   ]
  },
  {
   "cell_type": "code",
   "execution_count": null,
   "metadata": {
    "collapsed": true
   },
   "outputs": [],
   "source": []
  }
 ],
 "metadata": {
  "kernelspec": {
   "display_name": "Python 3",
   "language": "python",
   "name": "python3"
  },
  "language_info": {
   "codemirror_mode": {
    "name": "ipython",
    "version": 3
   },
   "file_extension": ".py",
   "mimetype": "text/x-python",
   "name": "python",
   "nbconvert_exporter": "python",
   "pygments_lexer": "ipython3",
   "version": "3.5.0"
  }
 },
 "nbformat": 4,
 "nbformat_minor": 0
}
