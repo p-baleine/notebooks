{
 "cells": [
  {
   "cell_type": "code",
   "execution_count": 1,
   "metadata": {
    "collapsed": false
   },
   "outputs": [
    {
     "name": "stdout",
     "output_type": "stream",
     "text": [
      "今日\tキョウ\t今日\t名詞-副詞可能\t\t\n",
      "も\tモ\tも\t助詞-係助詞\t\t\n",
      "し\tシ\tする\t動詞-自立\tサ変・スル\t未然形\n",
      "ない\tナイ\tない\t助動詞\t特殊・ナイ\t基本形\n",
      "と\tト\tと\t助詞-接続助詞\t\t\n",
      "ね\tネ\tね\t助詞-終助詞\t\t\n",
      "EOS\n",
      "\n"
     ]
    }
   ],
   "source": [
    "import MeCab\n",
    "m = MeCab.Tagger (\"-Ochasen\")\n",
    "print(m.parse(\"今日もしないとね\"))"
   ]
  },
  {
   "cell_type": "code",
   "execution_count": null,
   "metadata": {
    "collapsed": true
   },
   "outputs": [],
   "source": []
  }
 ],
 "metadata": {
  "kernelspec": {
   "display_name": "Python 3",
   "language": "python",
   "name": "python3"
  },
  "language_info": {
   "codemirror_mode": {
    "name": "ipython",
    "version": 3
   },
   "file_extension": ".py",
   "mimetype": "text/x-python",
   "name": "python",
   "nbconvert_exporter": "python",
   "pygments_lexer": "ipython3",
   "version": "3.5.1"
  }
 },
 "nbformat": 4,
 "nbformat_minor": 0
}
