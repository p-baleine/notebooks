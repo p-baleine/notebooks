{
 "cells": [
  {
   "cell_type": "markdown",
   "metadata": {},
   "source": [
    "[言語処理100本ノック 2015](http://www.cl.ecei.tohoku.ac.jp/nlp100/) 第1章 準備運動\n",
    "\n",
    "---\n",
    "\n",
    "### 00. 文字列の逆順\n",
    "文字列\"stressed\"の文字を逆に（末尾から先頭に向かって）並べた文字列を得よ．"
   ]
  },
  {
   "cell_type": "code",
   "execution_count": 1,
   "metadata": {
    "collapsed": false
   },
   "outputs": [
    {
     "data": {
      "text/plain": [
       "'desserts'"
      ]
     },
     "execution_count": 1,
     "metadata": {},
     "output_type": "execute_result"
    }
   ],
   "source": [
    "\"stressed\"[::-1]"
   ]
  },
  {
   "cell_type": "markdown",
   "metadata": {},
   "source": [
    "### 01. 「パタトクカシーー」\n",
    "「パタトクカシーー」という文字列の1,3,5,7文字目を取り出して連結した文字列を得よ．"
   ]
  },
  {
   "cell_type": "code",
   "execution_count": 2,
   "metadata": {
    "collapsed": false
   },
   "outputs": [
    {
     "data": {
      "text/plain": [
       "'パトカー'"
      ]
     },
     "execution_count": 2,
     "metadata": {},
     "output_type": "execute_result"
    }
   ],
   "source": [
    "str = \"パタトクカシーー\"\n",
    "str[0] + str[2] + str[4] + str[6]"
   ]
  },
  {
   "cell_type": "markdown",
   "metadata": {},
   "source": [
    "### 02. 「パトカー」＋「タクシー」＝「パタトクカシーー」\n",
    "「パトカー」＋「タクシー」の文字を先頭から交互に連結して文字列「パタトクカシーー」を得よ"
   ]
  },
  {
   "cell_type": "code",
   "execution_count": 3,
   "metadata": {
    "collapsed": false
   },
   "outputs": [
    {
     "data": {
      "text/plain": [
       "'パタトクカシーー'"
      ]
     },
     "execution_count": 3,
     "metadata": {},
     "output_type": "execute_result"
    }
   ],
   "source": [
    "\"\".join([l + r for l, r in zip(\"パトカー\", \"タクシー\")])"
   ]
  },
  {
   "cell_type": "markdown",
   "metadata": {},
   "source": [
    "### 03. 円周率\n",
    "\"Now I need a drink, alcoholic of course, after the heavy lectures involving quantum mechanics.\"という文を単語に分解し，各単語の（アルファベットの）文字数を先頭から出現順に並べたリストを作成せよ．"
   ]
  },
  {
   "cell_type": "code",
   "execution_count": 4,
   "metadata": {
    "collapsed": false
   },
   "outputs": [
    {
     "data": {
      "text/plain": [
       "[3, 1, 4, 1, 5, 9, 2, 6, 5, 3, 5, 8, 9, 7, 9]"
      ]
     },
     "execution_count": 4,
     "metadata": {},
     "output_type": "execute_result"
    }
   ],
   "source": [
    "import re\n",
    "\n",
    "string = \"Now I need a drink, alcoholic of course, after the heavy lectures involving quantum mechanics.\"\n",
    "string = re.sub(r'[\\.,]', '', string)\n",
    "[len(word) for word in string.split(\" \")]"
   ]
  },
  {
   "cell_type": "markdown",
   "metadata": {},
   "source": [
    "### 04. 元素記号\n",
    "\"Hi He Lied Because Boron Could Not Oxidize Fluorine. New Nations Might Also Sign Peace Security Clause. Arthur King Can.\"という文を単語に分解し，1, 5, 6, 7, 8, 9, 15, 16, 19番目の単語は先頭の1文字，それ以外の単語は先頭に2文字を取り出し，取り出した文字列から単語の位置（先頭から何番目の単語か）への連想配列（辞書型もしくはマップ型）を作成せよ．"
   ]
  },
  {
   "cell_type": "code",
   "execution_count": 5,
   "metadata": {
    "collapsed": false
   },
   "outputs": [
    {
     "data": {
      "text/plain": [
       "{'Al': 12,\n",
       " 'Ar': 17,\n",
       " 'B': 4,\n",
       " 'Be': 3,\n",
       " 'C': 5,\n",
       " 'Ca': 19,\n",
       " 'Cl': 16,\n",
       " 'F': 8,\n",
       " 'H': 0,\n",
       " 'He': 1,\n",
       " 'K': 18,\n",
       " 'Li': 2,\n",
       " 'Mi': 11,\n",
       " 'N': 6,\n",
       " 'Na': 10,\n",
       " 'Ne': 9,\n",
       " 'O': 7,\n",
       " 'P': 14,\n",
       " 'S': 15,\n",
       " 'Si': 13}"
      ]
     },
     "execution_count": 5,
     "metadata": {},
     "output_type": "execute_result"
    }
   ],
   "source": [
    "import numpy as np\n",
    "import re\n",
    "\n",
    "sentence = \"Hi He Lied Because Boron Could Not Oxidize Fluorine. New Nations Might Also Sign Peace Security Clause. Arthur King Can.\"\n",
    "words = re.sub(r'[\\.,]', '', sentence).split(\" \")\n",
    "first_characters = np.array([1, 5, 6, 7, 8, 9, 15, 16, 19]) - 1\n",
    "dict((w[0] if idx in first_characters else \"\".join(w[0:2]), idx) for idx, w in enumerate(words))"
   ]
  },
  {
   "cell_type": "markdown",
   "metadata": {},
   "source": [
    "### 05. n-gram\n",
    "与えられたシーケンス（文字列やリストなど）からn-gramを作る関数を作成せよ．この関数を用い，\"I am an NLPer\"という文から単語bi-gram，文字bi-gramを得よ．"
   ]
  },
  {
   "cell_type": "code",
   "execution_count": 6,
   "metadata": {
    "collapsed": false
   },
   "outputs": [
    {
     "name": "stdout",
     "output_type": "stream",
     "text": [
      "word bi-gram: ['I am', 'am an', 'an NLPer']\n",
      "chara bi-gram: ['Ia', 'am', 'ma', 'an', 'nN', 'NL', 'LP', 'Pe', 'er']\n"
     ]
    }
   ],
   "source": [
    "import re\n",
    "\n",
    "def word_ngram(seq, n):\n",
    "    seq = re.sub(r'[\\.,?]', '', seq).split(\" \")\n",
    "\n",
    "    if n > len(seq):\n",
    "        raise TypeError()\n",
    "\n",
    "    subseqs = [seq[i:] for i in range(n)]\n",
    "    return [\" \".join(x) for x in zip(*subseqs)]    \n",
    "        \n",
    "def chara_ngram(seq, n):\n",
    "    seq = re.sub(r'[ \\.,?]', '', seq)\n",
    "\n",
    "    if n > len(seq):\n",
    "        raise TypeError()\n",
    "    \n",
    "    subseqs = [seq[i:] for i in range(n)]\n",
    "    return [\"\".join(x) for x in zip(*subseqs)]\n",
    "    \n",
    "print(\"word bi-gram: %s\" % word_ngram(\"I am an NLPer\", n=2))\n",
    "print(\"chara bi-gram: %s\" % chara_ngram(\"I am an NLPer\", n=2))"
   ]
  },
  {
   "cell_type": "markdown",
   "metadata": {
    "collapsed": true
   },
   "source": [
    "### 06. 集合\n",
    "\"paraparaparadise\"と\"paragraph\"に含まれる文字bi-gramの集合を，それぞれ, XとYとして求め，XとYの和集合，積集合，差集合を求めよ．さらに，'se'というbi-gramがXおよびYに含まれるかどうかを調べよ．"
   ]
  },
  {
   "cell_type": "code",
   "execution_count": 7,
   "metadata": {
    "collapsed": false
   },
   "outputs": [
    {
     "name": "stdout",
     "output_type": "stream",
     "text": [
      "X: {'ar', 'is', 'ap', 'se', 'ra', 'pa', 'ad', 'di'}\n",
      "Y: {'ar', 'ap', 'ph', 'ag', 'ra', 'gr', 'pa'}\n",
      "X or Y: {'ar', 'is', 'ap', 'se', 'ph', 'ag', 'ra', 'gr', 'pa', 'ad', 'di'}\n",
      "X and Y: {'ar', 'pa', 'ra', 'ap'}\n",
      "X subtract Y: {'ad', 'is', 'di', 'se'}\n",
      "\"se\" in X: True\n",
      "\"se\" in Y: False\n"
     ]
    }
   ],
   "source": [
    "str1 = \"paraparaparadise\"\n",
    "str2 = \"paragraph\"\n",
    "\n",
    "X = set(chara_ngram(str1, 2))\n",
    "Y = set(chara_ngram(str2, 2))\n",
    "\n",
    "print(\"X: %s\" % X)\n",
    "print(\"Y: %s\" % Y)\n",
    "print(\"X or Y: %s\" % (X | Y))\n",
    "print(\"X and Y: %s\" % (X & Y))\n",
    "print(\"X subtract Y: %s\" % (X - Y))\n",
    "print(\"\\\"se\\\" in X: %s\" % (\"se\" in X))\n",
    "print(\"\\\"se\\\" in Y: %s\" % (\"se\" in Y))"
   ]
  },
  {
   "cell_type": "markdown",
   "metadata": {},
   "source": [
    "### 07. テンプレートによる文生成\n",
    "引数x, y, zを受け取り「x時のyはz」という文字列を返す関数を実装せよ．さらに，x=12, y=\"気温\", z=22.4として，実行結果を確認せよ"
   ]
  },
  {
   "cell_type": "code",
   "execution_count": 8,
   "metadata": {
    "collapsed": false
   },
   "outputs": [
    {
     "data": {
      "text/plain": [
       "'12時の気温は22.4'"
      ]
     },
     "execution_count": 8,
     "metadata": {},
     "output_type": "execute_result"
    }
   ],
   "source": [
    "def template(x, y, z):\n",
    "    return \"%s時の%sは%s\" % (x, y, z)\n",
    "\n",
    "template(x=12, y=\"気温\", z=22.4)"
   ]
  },
  {
   "cell_type": "markdown",
   "metadata": {},
   "source": [
    "### 08. 暗号文\n",
    "与えられた文字列の各文字を，以下の仕様で変換する関数cipherを実装せよ．\n",
    "\n",
    "* 英小文字ならば(219 - 文字コード)の文字に置換\n",
    "* その他の文字はそのまま出力\n",
    "\n",
    "この関数を用い，英語のメッセージを暗号化・復号化せよ．"
   ]
  },
  {
   "cell_type": "code",
   "execution_count": 9,
   "metadata": {
    "collapsed": false
   },
   "outputs": [
    {
     "data": {
      "text/plain": [
       "'Nlgsrmt evmgfiv、mlgsrmt drm.'"
      ]
     },
     "execution_count": 9,
     "metadata": {},
     "output_type": "execute_result"
    }
   ],
   "source": [
    "def cipher(seq):\n",
    "    return [(219 - ord(c)) if re.match(r'[a-z]', c) else c for c in seq]\n",
    "\n",
    "def decipher(seq):\n",
    "    return [chr(c) if type(c) is int else c for c in seq]\n",
    "\n",
    "\"\".join(decipher(cipher(list(\"Nothing venture、nothing win.\"))))"
   ]
  },
  {
   "cell_type": "markdown",
   "metadata": {},
   "source": [
    "### 09. Typoglycemia\n",
    "スペースで区切られた単語列に対して，各単語の先頭と末尾の文字は残し，それ以外の文字の順序をランダムに並び替えるプログラムを作成せよ．ただし，長さが４以下の単語は並び替えないこととする．適当な英語の文（例えば\"I couldn't believe that I could actually understand what I was reading : the phenomenal power of the human mind .\"）を与え，その実行結果を確認せよ．"
   ]
  },
  {
   "cell_type": "code",
   "execution_count": 10,
   "metadata": {
    "collapsed": false
   },
   "outputs": [
    {
     "data": {
      "text/plain": [
       "\"I cduln'ot beivele that I cluod alaltucy udsnrneatd what I was rinedag : the pohneeanml peowr of the hmaun mind .\""
      ]
     },
     "execution_count": 10,
     "metadata": {},
     "output_type": "execute_result"
    }
   ],
   "source": [
    "import random\n",
    "\n",
    "def typoglycemia(sentence):\n",
    "    return [word[0] + \"\".join(random.sample(list(word[1:-1]), len(word) - 2)) + word[-1]\n",
    "     if len(word) > 4 else word for word in sentence]\n",
    "\n",
    "\" \".join(typoglycemia(\n",
    "    \"I couldn't believe that I could actually understand what I was reading : the phenomenal power of the human mind .\".split(\" \")\n",
    "))"
   ]
  },
  {
   "cell_type": "code",
   "execution_count": null,
   "metadata": {
    "collapsed": true
   },
   "outputs": [],
   "source": []
  }
 ],
 "metadata": {
  "kernelspec": {
   "display_name": "Python 3",
   "language": "python",
   "name": "python3"
  },
  "language_info": {
   "codemirror_mode": {
    "name": "ipython",
    "version": 3
   },
   "file_extension": ".py",
   "mimetype": "text/x-python",
   "name": "python",
   "nbconvert_exporter": "python",
   "pygments_lexer": "ipython3",
   "version": "3.5.1"
  }
 },
 "nbformat": 4,
 "nbformat_minor": 0
}
