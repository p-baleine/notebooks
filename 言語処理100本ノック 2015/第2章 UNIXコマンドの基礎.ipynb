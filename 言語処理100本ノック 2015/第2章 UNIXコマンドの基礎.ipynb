{
 "cells": [
  {
   "cell_type": "markdown",
   "metadata": {},
   "source": [
    "[hightemp.txt](http://www.cl.ecei.tohoku.ac.jp/nlp100/data/hightemp.txt)は，日本の最高気温の記録を「都道府県」「地点」「℃」「日」のタブ区切り形式で格納したファイルである．以下の処理を行うプログラムを作成し，[hightemp.txt](http://www.cl.ecei.tohoku.ac.jp/nlp100/data/hightemp.txt)を入力ファイルとして実行せよ．さらに，同様の処理をUNIXコマンドでも実行し，プログラムの実行結果を確認せよ．"
   ]
  },
  {
   "cell_type": "code",
   "execution_count": 1,
   "metadata": {
    "collapsed": false
   },
   "outputs": [],
   "source": [
    "import urllib.request\n",
    "import shutil\n",
    "\n",
    "url = \"http://www.cl.ecei.tohoku.ac.jp/nlp100/data/hightemp.txt\"\n",
    "\n",
    "response = urllib.request.urlopen(url).read()\n",
    "hightemp = response.decode('utf-8')\n",
    "\n",
    "with urllib.request.urlopen(url) as response, open(\"hightemp.txt\", \"wb\") as out:\n",
    "    shutil.copyfileobj(response, out)"
   ]
  },
  {
   "cell_type": "markdown",
   "metadata": {},
   "source": [
    "### 10. 行数のカウント\n",
    "行数をカウントせよ．確認にはwcコマンドを用いよ．"
   ]
  },
  {
   "cell_type": "code",
   "execution_count": 2,
   "metadata": {
    "collapsed": false
   },
   "outputs": [
    {
     "name": "stdout",
     "output_type": "stream",
     "text": [
      "24\n",
      "check:\n",
      "24 hightemp.txt\r\n"
     ]
    }
   ],
   "source": [
    "import subprocess\n",
    "\n",
    "with open(\"hightemp.txt\", \"rt\") as hightemp:\n",
    "    print(len([line for line in hightemp.read().split('\\n') if len(line) > 0]))\n",
    "\n",
    "print(\"check:\")\n",
    "! wc -l hightemp.txt"
   ]
  },
  {
   "cell_type": "markdown",
   "metadata": {},
   "source": [
    "### 11. タブをスペースに置換\n",
    "タブ1文字につきスペース1文字に置換せよ．確認にはsedコマンド，trコマンド，もしくはexpandコマンドを用いよ．"
   ]
  },
  {
   "cell_type": "code",
   "execution_count": 3,
   "metadata": {
    "collapsed": false
   },
   "outputs": [
    {
     "name": "stdout",
     "output_type": "stream",
     "text": [
      "高知県 江川崎 41 2013-08-12\n",
      "埼玉県 熊谷 40.9 2007-08-16\n",
      "岐阜県 多治見 40.9 2007-08-16\n",
      "山形県 山形 40.8 1933-07-25\n",
      "山梨県 甲府 40.7 2013-08-10\n",
      "和歌山県 かつらぎ 40.6 1994-08-08\n",
      "静岡県 天竜 40.6 1994-08-04\n",
      "山梨県 勝沼 40.5 2013-08-10\n",
      "埼玉県 越谷 40.4 2007-08-16\n",
      "群馬県 館林 40.3 2007-08-16\n",
      "群馬県 上里見 40.3 1998-07-04\n",
      "愛知県 愛西 40.3 1994-08-05\n",
      "千葉県 牛久 40.2 2004-07-20\n",
      "静岡県 佐久間 40.2 2001-07-24\n",
      "愛媛県 宇和島 40.2 1927-07-22\n",
      "山形県 酒田 40.1 1978-08-03\n",
      "岐阜県 美濃 40 2007-08-16\n",
      "群馬県 前橋 40 2001-07-24\n",
      "千葉県 茂原 39.9 2013-08-11\n",
      "埼玉県 鳩山 39.9 1997-07-05\n",
      "大阪府 豊中 39.9 1994-08-08\n",
      "山梨県 大月 39.9 1990-07-19\n",
      "山形県 鶴岡 39.9 1978-08-03\n",
      "愛知県 名古屋 39.9 1942-08-02\n",
      "\n",
      "check:\n",
      "高知県 江川崎 41 2013-08-12\r\n",
      "埼玉県 熊谷 40.9 2007-08-16\r\n",
      "岐阜県 多治見 40.9 2007-08-16\r\n",
      "山形県 山形 40.8 1933-07-25\r\n",
      "山梨県 甲府 40.7 2013-08-10\r\n",
      "和歌山県 かつらぎ 40.6 1994-08-08\r\n",
      "静岡県 天竜 40.6 1994-08-04\r\n",
      "山梨県 勝沼 40.5 2013-08-10\r\n",
      "埼玉県 越谷 40.4 2007-08-16\r\n",
      "群馬県 館林 40.3 2007-08-16\r\n",
      "群馬県 上里見 40.3 1998-07-04\r\n",
      "愛知県 愛西 40.3 1994-08-05\r\n",
      "千葉県 牛久 40.2 2004-07-20\r\n",
      "静岡県 佐久間 40.2 2001-07-24\r\n",
      "愛媛県 宇和島 40.2 1927-07-22\r\n",
      "山形県 酒田 40.1 1978-08-03\r\n",
      "岐阜県 美濃 40 2007-08-16\r\n",
      "群馬県 前橋 40 2001-07-24\r\n",
      "千葉県 茂原 39.9 2013-08-11\r\n",
      "埼玉県 鳩山 39.9 1997-07-05\r\n",
      "大阪府 豊中 39.9 1994-08-08\r\n",
      "山梨県 大月 39.9 1990-07-19\r\n",
      "山形県 鶴岡 39.9 1978-08-03\r\n",
      "愛知県 名古屋 39.9 1942-08-02\r\n"
     ]
    }
   ],
   "source": [
    "import re\n",
    "\n",
    "with open(\"hightemp.txt\", \"rt\") as hightemp:\n",
    "    print(\"\".join([re.sub('\\t', ' ', line) for line in hightemp]))\n",
    "    \n",
    "print(\"check:\")\n",
    "! sed 's/\\t/ /g' hightemp.txt"
   ]
  },
  {
   "cell_type": "markdown",
   "metadata": {},
   "source": [
    "### 12. 1列目をcol1.txtに，2列目をcol2.txtに保存\n",
    "各行の1列目だけを抜き出したものをcol1.txtに，2列目だけを抜き出したものをcol2.txtとしてファイルに保存せよ．確認にはcutコマンドを用いよ．"
   ]
  },
  {
   "cell_type": "code",
   "execution_count": 4,
   "metadata": {
    "collapsed": false
   },
   "outputs": [
    {
     "name": "stdout",
     "output_type": "stream",
     "text": [
      "高知県\n",
      "埼玉県\n",
      "岐阜県\n",
      "\n",
      "江川崎\n",
      "熊谷\n",
      "多治見\n",
      "\n",
      "check\n",
      "\n",
      "高知県\n",
      "埼玉県\n",
      "岐阜県\n",
      "\n",
      "江川崎\n",
      "熊谷\n",
      "多治見\n"
     ]
    }
   ],
   "source": [
    "import numpy as np\n",
    "\n",
    "with open(\"hightemp.txt\", \"rt\") as hightemp, \\\n",
    "    open(\"col1.txt\", \"wt\") as col1, \\\n",
    "    open(\"col2.txt\", \"wt\") as col2:\n",
    "    lines = np.array([l.split('\\t') for l in list(hightemp)])\n",
    "    col1.write(\"\\n\".join(lines[:, 0]))\n",
    "    col2.write(\"\\n\".join(lines[:, 1]))\n",
    "\n",
    "with open(\"col1.txt\", \"rt\") as col1, open(\"col2.txt\", \"rt\") as col2:\n",
    "    print(\"\".join(list(col1)[0:3]))\n",
    "    print(\"\".join(list(col2)[0:3]))\n",
    "\n",
    "print(\"check\\n\")\n",
    "\n",
    "! cat hightemp.txt | cut -f 1 | head -n 3\n",
    "! echo \"\"\n",
    "! cat hightemp.txt | cut -f 2 | head -n 3"
   ]
  },
  {
   "cell_type": "markdown",
   "metadata": {
    "collapsed": true
   },
   "source": [
    "### 13. col1.txtとcol2.txtをマージ\n",
    "12で作ったcol1.txtとcol2.txtを結合し，元のファイルの1列目と2列目をタブ区切りで並べたテキストファイルを作成せよ．確認にはpasteコマンドを用いよ"
   ]
  },
  {
   "cell_type": "code",
   "execution_count": 5,
   "metadata": {
    "collapsed": false
   },
   "outputs": [
    {
     "name": "stdout",
     "output_type": "stream",
     "text": [
      "高知県\t江川崎\n",
      "埼玉県\t熊谷\n",
      "岐阜県\t多治見\n",
      "\n",
      "check\n",
      "\n",
      "高知県\t江川崎\r\n",
      "埼玉県\t熊谷\r\n",
      "岐阜県\t多治見\r\n"
     ]
    }
   ],
   "source": [
    "with open(\"col1.txt\", \"rt\") as col1, \\\n",
    "    open(\"col2.txt\", \"rt\") as col2, \\\n",
    "    open(\"out.txt\", \"wt\") as out:\n",
    "    zipped = zip(np.array(list(col1)), np.array(list(col2)))\n",
    "    [out.write(\"\\t\".join((re.sub('\\n', '', l), r))) for (l, r) in zipped]\n",
    "\n",
    "with open(\"out.txt\", \"rt\") as out:\n",
    "    print(\"\".join(list(out)[0:3]))\n",
    "    \n",
    "print(\"check\\n\")\n",
    "\n",
    "! paste col1.txt col2.txt | head -n 3"
   ]
  },
  {
   "cell_type": "markdown",
   "metadata": {},
   "source": [
    "### 14. 先頭からN行を出力\n",
    "自然数Nをコマンドライン引数などの手段で受け取り，入力のうち先頭のN行だけを表示せよ．確認にはheadコマンドを用いよ．"
   ]
  },
  {
   "cell_type": "code",
   "execution_count": 6,
   "metadata": {
    "collapsed": false
   },
   "outputs": [
    {
     "name": "stdout",
     "output_type": "stream",
     "text": [
      "高知県\t江川崎\t41\t2013-08-12\n",
      "埼玉県\t熊谷\t40.9\t2007-08-16\n",
      "岐阜県\t多治見\t40.9\t2007-08-16\n",
      "\n",
      "check\n",
      "\n",
      "高知県\t江川崎\t41\t2013-08-12\r\n",
      "埼玉県\t熊谷\t40.9\t2007-08-16\r\n",
      "岐阜県\t多治見\t40.9\t2007-08-16\r\n"
     ]
    }
   ],
   "source": [
    "N=3\n",
    "\n",
    "with open(\"hightemp.txt\", \"rt\") as hightemp:\n",
    "    print(\"\".join(list(hightemp)[0:N]))\n",
    "\n",
    "print(\"check\\n\")\n",
    "    \n",
    "! head -n 3 hightemp.txt"
   ]
  },
  {
   "cell_type": "markdown",
   "metadata": {},
   "source": [
    "### 15. 末尾のN行を出力\n",
    "自然数Nをコマンドライン引数などの手段で受け取り，入力のうち末尾のN行だけを表示せよ．確認にはtailコマンドを用いよ．"
   ]
  },
  {
   "cell_type": "code",
   "execution_count": 7,
   "metadata": {
    "collapsed": false
   },
   "outputs": [
    {
     "name": "stdout",
     "output_type": "stream",
     "text": [
      "山梨県\t大月\t39.9\t1990-07-19\n",
      "山形県\t鶴岡\t39.9\t1978-08-03\n",
      "愛知県\t名古屋\t39.9\t1942-08-02\n",
      "\n",
      "check\n",
      "\n",
      "山梨県\t大月\t39.9\t1990-07-19\r\n",
      "山形県\t鶴岡\t39.9\t1978-08-03\r\n",
      "愛知県\t名古屋\t39.9\t1942-08-02\r\n"
     ]
    }
   ],
   "source": [
    "N=3\n",
    "\n",
    "with open(\"hightemp.txt\", \"rt\") as hightemp:\n",
    "    lines = list(hightemp)\n",
    "    print(\"\".join(lines[len(lines) - N:]))\n",
    "\n",
    "print(\"check\\n\")\n",
    "\n",
    "! tail -n 3 hightemp.txt"
   ]
  },
  {
   "cell_type": "markdown",
   "metadata": {},
   "source": [
    "### 16. ファイルをN分割する\n",
    "自然数Nをコマンドライン引数などの手段で受け取り，入力のファイルを行単位でN分割せよ．同様の処理をsplitコマンドで実現せよ．"
   ]
  },
  {
   "cell_type": "code",
   "execution_count": 8,
   "metadata": {
    "collapsed": false
   },
   "outputs": [
    {
     "name": "stdout",
     "output_type": "stream",
     "text": [
      "高知県\t江川崎\t41\t2013-08-12\n",
      "埼玉県\t越谷\t40.4\t2007-08-16\n",
      "岐阜県\t美濃\t40\t2007-08-16\n",
      "08-10\t\t\t\t\t\t\t      <\n",
      "8-08-03\t\t\t\t\t\t\t      <\n"
     ]
    }
   ],
   "source": [
    "N=3\n",
    "\n",
    "with open(\"hightemp.txt\", \"rt\") as hightemp:\n",
    "    lines = list(hightemp)\n",
    "    linenum = len(lines)\n",
    "    indexes = list(range(linenum))[0:linenum:int(linenum / N)] + [linenum]\n",
    "    docs = [lines[l:r] for l, r in zip(indexes, indexes[1:])]\n",
    "    for i in range(len(docs)):\n",
    "        f = open(\"out%d.txt\" % i, \"wt\")\n",
    "        f.writelines(docs[i])\n",
    "        f.close()\n",
    "\n",
    "! head -n 1 out0.txt && head -n 1 out1.txt && head -n 1 out2.txt\n",
    "! cat out0.txt out1.txt out2.txt > out.txt\n",
    "! sdiff out.txt hightemp.txt | grep '[|<>]'\n",
    "! split -d -n 3 hightemp.txt split\n",
    "! sdiff split00 out0.txt | grep '[|<>]'\n",
    "! sdiff split01 out1.txt | grep '[|<>]'\n",
    "! sdiff split02 out2.txt | grep '[|<>]'"
   ]
  },
  {
   "cell_type": "markdown",
   "metadata": {},
   "source": [
    "### 17. １列目の文字列の異なり\n",
    "1列目の文字列の種類（異なる文字列の集合）を求めよ．確認にはsort, uniqコマンドを用いよ．"
   ]
  },
  {
   "cell_type": "code",
   "execution_count": 9,
   "metadata": {
    "collapsed": false
   },
   "outputs": [
    {
     "name": "stdout",
     "output_type": "stream",
     "text": [
      "{'高知県', '山形県', '大阪府', '和歌山県', '群馬県', '岐阜県', '埼玉県', '静岡県', '愛媛県', '千葉県', '山梨県', '愛知県'}\n",
      "千葉県\r\n",
      "和歌山県\r\n",
      "埼玉県\r\n",
      "大阪府\r\n",
      "山形県\r\n",
      "山梨県\r\n",
      "岐阜県\r\n",
      "愛媛県\r\n",
      "愛知県\r\n",
      "群馬県\r\n",
      "静岡県\r\n",
      "高知県\r\n"
     ]
    }
   ],
   "source": [
    "with open(\"hightemp.txt\", \"rt\") as hightemp:\n",
    "    print(set(line.split('\\t')[0] for line in hightemp))\n",
    "\n",
    "! awk '{print $1}' hightemp.txt | sort | uniq"
   ]
  },
  {
   "cell_type": "markdown",
   "metadata": {},
   "source": [
    "### 18. 各行を3コラム目の数値の降順にソート\n",
    "各行を3コラム目の数値の逆順で整列せよ（注意: 各行の内容は変更せずに並び替えよ）．確認にはsortコマンドを用いよ（この問題はコマンドで実行した時の結果と合わなくてもよい）．"
   ]
  },
  {
   "cell_type": "code",
   "execution_count": 10,
   "metadata": {
    "collapsed": false
   },
   "outputs": [
    {
     "name": "stdout",
     "output_type": "stream",
     "text": [
      "高知県\t江川崎\t41\t2013-08-12\n",
      "埼玉県\t熊谷\t40.9\t2007-08-16\n",
      "岐阜県\t多治見\t40.9\t2007-08-16\n",
      "山形県\t山形\t40.8\t1933-07-25\n",
      "山梨県\t甲府\t40.7\t2013-08-10\n",
      "和歌山県\tかつらぎ\t40.6\t1994-08-08\n",
      "静岡県\t天竜\t40.6\t1994-08-04\n",
      "山梨県\t勝沼\t40.5\t2013-08-10\n",
      "埼玉県\t越谷\t40.4\t2007-08-16\n",
      "群馬県\t館林\t40.3\t2007-08-16\n",
      "群馬県\t上里見\t40.3\t1998-07-04\n",
      "愛知県\t愛西\t40.3\t1994-08-05\n",
      "千葉県\t牛久\t40.2\t2004-07-20\n",
      "静岡県\t佐久間\t40.2\t2001-07-24\n",
      "愛媛県\t宇和島\t40.2\t1927-07-22\n",
      "山形県\t酒田\t40.1\t1978-08-03\n",
      "岐阜県\t美濃\t40\t2007-08-16\n",
      "群馬県\t前橋\t40\t2001-07-24\n",
      "千葉県\t茂原\t39.9\t2013-08-11\n",
      "埼玉県\t鳩山\t39.9\t1997-07-05\n",
      "大阪府\t豊中\t39.9\t1994-08-08\n",
      "山梨県\t大月\t39.9\t1990-07-19\n",
      "山形県\t鶴岡\t39.9\t1978-08-03\n",
      "愛知県\t名古屋\t39.9\t1942-08-02\n",
      "\n",
      "check\n",
      "\n",
      "高知県\t江川崎\t41\t2013-08-12\r\n",
      "岐阜県\t多治見\t40.9\t2007-08-16\r\n",
      "埼玉県\t熊谷\t40.9\t2007-08-16\r\n",
      "山形県\t山形\t40.8\t1933-07-25\r\n",
      "山梨県\t甲府\t40.7\t2013-08-10\r\n",
      "和歌山県\tかつらぎ\t40.6\t1994-08-08\r\n",
      "静岡県\t天竜\t40.6\t1994-08-04\r\n",
      "山梨県\t勝沼\t40.5\t2013-08-10\r\n",
      "埼玉県\t越谷\t40.4\t2007-08-16\r\n",
      "群馬県\t館林\t40.3\t2007-08-16\r\n",
      "群馬県\t上里見\t40.3\t1998-07-04\r\n",
      "愛知県\t愛西\t40.3\t1994-08-05\r\n",
      "千葉県\t牛久\t40.2\t2004-07-20\r\n",
      "静岡県\t佐久間\t40.2\t2001-07-24\r\n",
      "愛媛県\t宇和島\t40.2\t1927-07-22\r\n",
      "岐阜県\t美濃\t40\t2007-08-16\r\n",
      "群馬県\t前橋\t40\t2001-07-24\r\n",
      "山形県\t酒田\t40.1\t1978-08-03\r\n",
      "千葉県\t茂原\t39.9\t2013-08-11\r\n",
      "埼玉県\t鳩山\t39.9\t1997-07-05\r\n",
      "大阪府\t豊中\t39.9\t1994-08-08\r\n",
      "山梨県\t大月\t39.9\t1990-07-19\r\n",
      "山形県\t鶴岡\t39.9\t1978-08-03\r\n",
      "愛知県\t名古屋\t39.9\t1942-08-02\r\n"
     ]
    }
   ],
   "source": [
    "with open(\"hightemp.txt\", \"rt\") as hightemp:\n",
    "    lines = [line.split('\\t') for line in hightemp]\n",
    "    print(''.join(['\\t'.join(line) for line in sorted(lines, key=lambda line: line[2], reverse=True)]))\n",
    "\n",
    "print(\"check\\n\")\n",
    "\n",
    "! sort -k 3 -r hightemp.txt"
   ]
  },
  {
   "cell_type": "markdown",
   "metadata": {},
   "source": [
    "### 19. 各行の1コラム目の文字列の出現頻度を求め，出現頻度の高い順に並べる\n",
    "各行の1列目の文字列の出現頻度を求め，その高い順に並べて表示せよ．確認にはcut, uniq, sortコマンドを用いよ．"
   ]
  },
  {
   "cell_type": "code",
   "execution_count": 11,
   "metadata": {
    "collapsed": false
   },
   "outputs": [
    {
     "name": "stdout",
     "output_type": "stream",
     "text": [
      "['山形県', '群馬県', '埼玉県', '山梨県', '静岡県', '岐阜県', '千葉県', '愛知県', '高知県', '大阪府', '和歌山県', '愛媛県']\n"
     ]
    }
   ],
   "source": [
    "from collections import Counter\n",
    "\n",
    "with open(\"hightemp.txt\", \"rt\") as hightemp:\n",
    "    lines = np.array([line.split('\\t') for line in hightemp])\n",
    "    print([key for key, _ in Counter(lines[:, 0]).most_common()])"
   ]
  },
  {
   "cell_type": "code",
   "execution_count": null,
   "metadata": {
    "collapsed": true
   },
   "outputs": [],
   "source": []
  }
 ],
 "metadata": {
  "kernelspec": {
   "display_name": "Python 3",
   "language": "python",
   "name": "python3"
  },
  "language_info": {
   "codemirror_mode": {
    "name": "ipython",
    "version": 3
   },
   "file_extension": ".py",
   "mimetype": "text/x-python",
   "name": "python",
   "nbconvert_exporter": "python",
   "pygments_lexer": "ipython3",
   "version": "3.5.1"
  }
 },
 "nbformat": 4,
 "nbformat_minor": 0
}
