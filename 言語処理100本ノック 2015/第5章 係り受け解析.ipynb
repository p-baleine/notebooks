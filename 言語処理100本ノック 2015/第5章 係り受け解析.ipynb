{
 "cells": [
  {
   "cell_type": "markdown",
   "metadata": {},
   "source": [
    "夏目漱石の小説『吾輩は猫である』の文章（neko.txt）をCaboChaを使って係り受け解析し，その結果をneko.txt.cabochaというファイルに保存せよ．このファイルを用いて，以下の問に対応するプログラムを実装せよ．"
   ]
  },
  {
   "cell_type": "code",
   "execution_count": 1,
   "metadata": {
    "collapsed": true
   },
   "outputs": [],
   "source": [
    "! cabocha -f1 neko.txt > neko.txt.cabocha"
   ]
  },
  {
   "cell_type": "markdown",
   "metadata": {},
   "source": [
    "---\n",
    "\n",
    "### 40. 係り受け解析結果の読み込み（形態素）\n",
    "形態素を表すクラスMorphを実装せよ．このクラスは表層形（surface），基本形（base），品詞（pos），品詞細分類1（pos1）をメンバ変数に持つこととする．さらに，CaboChaの解析結果（neko.txt.cabocha）を読み込み，各文をMorphオブジェクトのリストとして表現し，3文目の形態素列を表示せよ．"
   ]
  },
  {
   "cell_type": "code",
   "execution_count": 24,
   "metadata": {
    "collapsed": false
   },
   "outputs": [
    {
     "name": "stdout",
     "output_type": "stream",
     "text": [
      "[Morph: {\"surface\": \"名前\", \"base\": \"一般\" ,\"pos\": \"名前\", \"pos1\": \"名詞\"}, Morph: {\"surface\": \"は\", \"base\": \"係助詞\" ,\"pos\": \"は\", \"pos1\": \"助詞\"}, Morph: {\"surface\": \"まだ\", \"base\": \"助詞類接続\" ,\"pos\": \"まだ\", \"pos1\": \"副詞\"}, Morph: {\"surface\": \"無い\", \"base\": \"自立\" ,\"pos\": \"無い\", \"pos1\": \"形容詞\"}, Morph: {\"surface\": \"。\", \"base\": \"句点\" ,\"pos\": \"。\", \"pos1\": \"記号\"}]\n"
     ]
    }
   ],
   "source": [
    "import re\n",
    "\n",
    "class Morph:    \n",
    "    def __init__(self, surface, pos, pos1, base):\n",
    "        self.surface = surface\n",
    "        self.base = base\n",
    "        self.pos = pos\n",
    "        self.pos1 = pos1\n",
    "    \n",
    "    def __str__(self):\n",
    "        return (\"Morph: {\\\"surface\\\": \\\"%s\\\", \\\"base\\\": \\\"%s\\\" ,\\\"pos\\\": \\\"%s\\\", \\\"pos1\\\": \\\"%s\\\"}\" %\n",
    "                (self.surface, self.base, self.pos, self.pos1))\n",
    "\n",
    "    def __repr__(self):\n",
    "        return self.__str__()\n",
    "\n",
    "def make_morph(word):\n",
    "    splitted = re.split('[\\t,]', word)\n",
    "    return Morph(splitted[0], splitted[7], splitted[1], splitted[2])\n",
    "    \n",
    "def neko_morphed():\n",
    "    with open(\"neko.txt.cabocha\", \"rt\") as neko:\n",
    "        return [[make_morph(word) for word in line.split('\\n')\n",
    "                 if len(word) >= 4 and not re.match(r'^\\*.*', word)]\n",
    "            for line in re.split(r'EOS\\n', neko.read())\n",
    "                if len(line) is not 0]\n",
    "\n",
    "print(neko_morphed()[2])"
   ]
  },
  {
   "cell_type": "code",
   "execution_count": null,
   "metadata": {
    "collapsed": true
   },
   "outputs": [],
   "source": []
  }
 ],
 "metadata": {
  "kernelspec": {
   "display_name": "Python 3",
   "language": "python",
   "name": "python3"
  },
  "language_info": {
   "codemirror_mode": {
    "name": "ipython",
    "version": 3
   },
   "file_extension": ".py",
   "mimetype": "text/x-python",
   "name": "python",
   "nbconvert_exporter": "python",
   "pygments_lexer": "ipython3",
   "version": "3.5.0"
  }
 },
 "nbformat": 4,
 "nbformat_minor": 0
}
