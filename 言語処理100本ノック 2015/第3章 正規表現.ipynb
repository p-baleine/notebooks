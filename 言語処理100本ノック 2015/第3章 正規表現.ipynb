{
 "cells": [
  {
   "cell_type": "markdown",
   "metadata": {},
   "source": [
    "Wikipediaの記事を以下のフォーマットで書き出したファイル[jawiki-country.json.gz](http://www.cl.ecei.tohoku.ac.jp/nlp100/data/jawiki-country.json.gz)がある．\n",
    "\n",
    "* 1行に1記事の情報がJSON形式で格納される\n",
    "* 各行には記事名が\"title\"キーに，記事本文が\"text\"キーの辞書オブジェクトに格納され，そのオブジェクトがJSON形式で書き出される\n",
    "* ファイル全体はgzipで圧縮される\n",
    "\n",
    "以下の処理を行うプログラムを作成せよ．"
   ]
  },
  {
   "cell_type": "code",
   "execution_count": 1,
   "metadata": {
    "collapsed": true
   },
   "outputs": [],
   "source": [
    "import gzip\n",
    "import shutil\n",
    "import urllib.request\n",
    "\n",
    "url = \"http://www.cl.ecei.tohoku.ac.jp/nlp100/data/jawiki-country.json.gz\"\n",
    "\n",
    "with urllib.request.urlopen(url) as response, open(\"jawiki-country.json\", \"wb\") as json:\n",
    "    with gzip.GzipFile(fileobj=response) as uncompressed:\n",
    "        shutil.copyfileobj(uncompressed, json)"
   ]
  },
  {
   "cell_type": "markdown",
   "metadata": {},
   "source": [
    "---\n",
    "\n",
    "### 20. JSONデータの読み込み\n",
    "Wikipedia記事のJSONファイルを読み込み，「イギリス」に関する記事本文を表示せよ．問題21-29では，ここで抽出した記事本文に対して実行せよ．"
   ]
  },
  {
   "cell_type": "code",
   "execution_count": 2,
   "metadata": {
    "collapsed": false
   },
   "outputs": [
    {
     "name": "stdout",
     "output_type": "stream",
     "text": [
      "{{redirect|UK}}\n",
      "{{基礎情報 国\n",
      "|略名 = イギリス\n",
      "|日本語国名 = グレートブリテン及び北アイルランド連合王国\n",
      "|公式国名 = {{lang|en|United Kingdom of Great Britain and Northern Ireland}}<ref>英語以外での正式国名:<br/>\n",
      "*{{lang|gd|An Rìoghachd Aonaichte na Breatainn Mhòr agus Eirinn mu Thuath}}（[[スコットランド・ゲール語]]）<br/>\n",
      "*{{lang|cy|Teyrnas Gyfunol Prydain Fawr a Gogledd Iwerddon}}（[[ウェールズ語]]）<br/>\n",
      "*{{lang|ga|Ríocht Aontaithe na Breataine Móire agus Tuaisceart na hÉireann}}（[[アイルランド語]]）<br/>\n",
      "*{{lang|kw|An Rywvaneth Unys a Vreten Veur hag Iwerdhon Glédh}}（[[コーンウォール語]]）<br/>\n",
      "*{{lang|sco|Unitit Kinrick o Great Breetain an Northren Ireland}}（[[スコットランド語]]）<br/>\n"
     ]
    }
   ],
   "source": [
    "import json\n",
    "import re\n",
    "\n",
    "def jawiki_england():\n",
    "    text = None\n",
    "    with open(\"jawiki-country.json\", \"rt\") as jawiki:\n",
    "        text = [line for line in [json.loads(line) for line in list(jawiki)]\n",
    "            if re.match('イギリス', line[\"title\"])][0][\"text\"]\n",
    "    return text\n",
    "\n",
    "def head(multiline_text, n=10):\n",
    "    return '\\n'.join(multiline_text.split('\\n')[:n])\n",
    "\n",
    "print(head(jawiki_england()))"
   ]
  },
  {
   "cell_type": "markdown",
   "metadata": {
    "collapsed": true
   },
   "source": [
    "### 21. カテゴリ名を含む行を抽出\n",
    "記事中でカテゴリ名を宣言している行を抽出せよ．\n",
    "\n"
   ]
  },
  {
   "cell_type": "code",
   "execution_count": 3,
   "metadata": {
    "collapsed": false
   },
   "outputs": [
    {
     "data": {
      "text/plain": [
       "['[[Category:イギリス|*]]',\n",
       " '[[Category:英連邦王国|*]]',\n",
       " '[[Category:G8加盟国]]',\n",
       " '[[Category:欧州連合加盟国]]',\n",
       " '[[Category:海洋国家]]',\n",
       " '[[Category:君主国]]',\n",
       " '[[Category:島国|くれいとふりてん]]',\n",
       " '[[Category:1801年に設立された州・地域]]']"
      ]
     },
     "execution_count": 3,
     "metadata": {},
     "output_type": "execute_result"
    }
   ],
   "source": [
    "[line for line in jawiki_england().split('\\n') if re.match(r'^.*Category', line)]"
   ]
  },
  {
   "cell_type": "markdown",
   "metadata": {},
   "source": [
    "### 22. カテゴリ名の抽出\n",
    "記事のカテゴリ名を（行単位ではなく名前で）抽出せよ．"
   ]
  },
  {
   "cell_type": "code",
   "execution_count": 4,
   "metadata": {
    "collapsed": false
   },
   "outputs": [
    {
     "data": {
      "text/plain": [
       "['イギリス',\n",
       " '英連邦王国',\n",
       " 'G8加盟国]]',\n",
       " '欧州連合加盟国]]',\n",
       " '海洋国家]]',\n",
       " '君主国]]',\n",
       " '島国',\n",
       " '1801年に設立された州・地域]]']"
      ]
     },
     "execution_count": 4,
     "metadata": {},
     "output_type": "execute_result"
    }
   ],
   "source": [
    "[re.match(r'^.*Category:([^|]+)|', line).group(1) for line in\n",
    "    [line for line in jawiki_england().split('\\n') if re.match(r'^.*Category', line)]]"
   ]
  },
  {
   "cell_type": "markdown",
   "metadata": {},
   "source": [
    "### 23. セクション構造\n",
    "記事中に含まれるセクション名とそのレベル（例えば\"== セクション名 ==\"なら1）を表示せよ．"
   ]
  },
  {
   "cell_type": "code",
   "execution_count": 5,
   "metadata": {
    "collapsed": false
   },
   "outputs": [
    {
     "name": "stdout",
     "output_type": "stream",
     "text": [
      "2 国名\n",
      "2 歴史\n",
      "2 地理\n",
      "3 気候\n",
      "2 政治\n",
      "2 外交と軍事\n",
      "2 地方行政区分\n",
      "3 主要都市\n",
      "2 科学技術\n",
      "2 経済\n",
      "3 鉱業\n",
      "3 農業\n",
      "3 貿易\n",
      "3 通貨\n",
      "3 企業\n",
      "2 交通\n",
      "3 道路\n",
      "3 鉄道\n",
      "3 海運\n",
      "3 航空\n",
      "2 通信\n",
      "2 国民\n",
      "3 言語\n",
      "3 宗教\n",
      "3  婚姻 \n",
      "3 教育\n",
      "2 文化\n",
      "3 食文化\n",
      "3 文学\n",
      "3  哲学 \n",
      "3 音楽\n",
      "4 イギリスのポピュラー音楽\n",
      "3 映画\n",
      "3 コメディ\n",
      "3 国花\n",
      "3 世界遺産\n",
      "3 祝祭日\n",
      "2 スポーツ\n",
      "3 サッカー\n",
      "3 競馬\n",
      "3 モータースポーツ\n",
      "2 脚注\n",
      "2 関連項目\n",
      "2 外部リンク\n"
     ]
    }
   ],
   "source": [
    "print('\\n'.join([\"%d %s\" % (len(matched.group(1)), matched.group(2)) for matched in\n",
    "    [re.match(r'^(=+)([^=]+)=', line) for line in jawiki_england().split('\\n') if re.match(r'^=+', line)]]))"
   ]
  },
  {
   "cell_type": "markdown",
   "metadata": {},
   "source": [
    "### 24. ファイル参照の抽出\n",
    "記事から参照されているメディアファイルをすべて抜き出せ．"
   ]
  },
  {
   "cell_type": "code",
   "execution_count": 6,
   "metadata": {
    "collapsed": false
   },
   "outputs": [
    {
     "data": {
      "text/plain": [
       "['Battle of Waterloo 1815.PNG',\n",
       " 'The British Empire.png',\n",
       " 'Uk topo en.jpg',\n",
       " 'BenNevis2005.jpg',\n",
       " 'Elizabeth II greets NASA GSFC employees, May 8, 2007 edit.jpg',\n",
       " 'Palace of Westminster, London - Feb 2007.jpg',\n",
       " 'David Cameron and Barack Obama at the G20 Summit in Toronto.jpg',\n",
       " 'Soldiers Trooping the Colour, 16th June 2007.jpg',\n",
       " 'Scotland Parliament Holyrood.jpg',\n",
       " 'London.bankofengland.arp.jpg',\n",
       " 'City of London skyline from London City Hall - Oct 2008.jpg',\n",
       " 'Oil platform in the North SeaPros.jpg',\n",
       " 'Eurostar at St Pancras Jan 2008.jpg',\n",
       " 'Heathrow T5.jpg',\n",
       " 'Anglospeak.svg']"
      ]
     },
     "execution_count": 6,
     "metadata": {},
     "output_type": "execute_result"
    }
   ],
   "source": [
    "[re.match(r'^.*File:([^|]+)|', line).group(1)\n",
    "    for line in jawiki_england().split('\\n') if re.match(r'^.*File', line)]"
   ]
  },
  {
   "cell_type": "markdown",
   "metadata": {},
   "source": [
    "### 25. テンプレートの抽出\n",
    "記事中に含まれる「基礎情報」テンプレートのフィールド名と値を抽出し，辞書オブジェクトとして格納せよ．"
   ]
  },
  {
   "cell_type": "code",
   "execution_count": 7,
   "metadata": {
    "collapsed": false
   },
   "outputs": [
    {
     "data": {
      "text/plain": [
       "{'GDP/人': '36,727<ref name=\"imf-statistics-gdp\" />',\n",
       " 'GDP値': '2兆3162億<ref name=\"imf-statistics-gdp\" />',\n",
       " 'GDP値MER': '2兆4337億<ref name=\"imf-statistics-gdp\" />',\n",
       " 'GDP値元': '1兆5478億<ref name=\"imf-statistics-gdp\">[http://www.imf.org/external/pubs/ft/weo/2012/02/weodata/weorept.aspx?pr.x=70&pr.y=13&sy=2010&ey=2012&scsm=1&ssd=1&sort=country&ds=.&br=1&c=112&s=NGDP%2CNGDPD%2CPPPGDP%2CPPPPC&grp=0&a= IMF>Data and Statistics>World Economic Outlook Databases>By Countrise>United Kingdom]</ref>',\n",
       " 'GDP統計年': '2012',\n",
       " 'GDP統計年MER': '2012',\n",
       " 'GDP統計年元': '2012',\n",
       " 'GDP順位': '6',\n",
       " 'GDP順位MER': '5',\n",
       " 'ISO 3166-1': 'GB / GBR',\n",
       " 'ccTLD': '[[.uk]] / [[.gb]]<ref>使用は.ukに比べ圧倒的少数。</ref>',\n",
       " '人口値': '63,181,775<ref>[http://esa.un.org/unpd/wpp/Excel-Data/population.htm United Nations Department of Economic and Social Affairs>Population Division>Data>Population>Total Population]</ref>',\n",
       " '人口大きさ': '1 E7',\n",
       " '人口密度値': '246',\n",
       " '人口統計年': '2011',\n",
       " '人口順位': '22',\n",
       " '位置画像': 'Location_UK_EU_Europe_001.svg',\n",
       " '元首等氏名': '[[エリザベス2世]]',\n",
       " '元首等肩書': '[[イギリスの君主|女王]]',\n",
       " '公式国名': '{{lang|en|United Kingdom of Great Britain and Northern Ireland}}<ref>英語以外での正式国名:*{{lang|gd|An Rìoghachd Aonaichte na Breatainn Mhòr agus Eirinn mu Thuath}}（[[スコットランド・ゲール語]]）*{{lang|cy|Teyrnas Gyfunol Prydain Fawr a Gogledd Iwerddon}}（[[ウェールズ語]]）*{{lang|ga|Ríocht Aontaithe na Breataine Móire agus Tuaisceart na hÉireann}}（[[アイルランド語]]）*{{lang|kw|An Rywvaneth Unys a Vreten Veur hag Iwerdhon Glédh}}（[[コーンウォール語]]）*{{lang|sco|Unitit Kinrick o Great Breetain an Northren Ireland}}（[[スコットランド語]]）**{{lang|sco|Claught Kängrick o Docht Brätain an Norlin Airlann}}、{{lang|sco|Unitet Kängdom o Great Brittain an Norlin Airlann}}（アルスター・スコットランド語）</ref>',\n",
       " '公用語': '[[英語]]（事実上）',\n",
       " '国旗画像': 'Flag of the United Kingdom.svg',\n",
       " '国歌': '[[女王陛下万歳|神よ女王陛下を守り給え]]',\n",
       " '国章リンク': '（[[イギリスの国章|国章]]）',\n",
       " '国章画像': '[[ファイル:Royal Coat of Arms of the United Kingdom.svg|85px|イギリスの国章]]',\n",
       " '国際電話番号': '44',\n",
       " '夏時間': '+1',\n",
       " '建国形態': '建国',\n",
       " '日本語国名': 'グレートブリテン及び北アイルランド連合王国',\n",
       " '時間帯': '±0',\n",
       " '最大都市': 'ロンドン',\n",
       " '標語': '{{lang|fr|Dieu et mon droit}}<br/>（[[フランス語]]:神と私の権利）',\n",
       " '水面積率': '1.3%',\n",
       " '注記': '<references />',\n",
       " '略名': 'イギリス',\n",
       " '確立年月日1': '[[927年]]／[[843年]]',\n",
       " '確立年月日2': '[[1707年]]',\n",
       " '確立年月日3': '[[1801年]]',\n",
       " '確立年月日4': '[[1927年]]',\n",
       " '確立形態1': '[[イングランド王国]]／[[スコットランド王国]]<br />（両国とも[[連合法 (1707年)|1707年連合法]]まで）',\n",
       " '確立形態2': '[[グレートブリテン王国]]建国<br />（[[連合法 (1707年)|1707年連合法]]）',\n",
       " '確立形態3': '[[グレートブリテン及びアイルランド連合王国]]建国<br />（[[連合法 (1800年)|1800年連合法]]）',\n",
       " '確立形態4': \"現在の国号「'''グレートブリテン及び北アイルランド連合王国'''」に変更\",\n",
       " '通貨': '[[スターリング・ポンド|UKポンド]] (&pound;)',\n",
       " '通貨コード': 'GBP',\n",
       " '面積値': '244,820',\n",
       " '面積大きさ': '1 E11',\n",
       " '面積順位': '76',\n",
       " '首相等氏名': '[[デーヴィッド・キャメロン]]',\n",
       " '首相等肩書': '[[イギリスの首相|首相]]',\n",
       " '首都': '[[ロンドン]]'}"
      ]
     },
     "execution_count": 7,
     "metadata": {},
     "output_type": "execute_result"
    }
   ],
   "source": [
    "infopattern = re.compile(r'.+\\{\\{基礎情報\\s国(.+)\\}\\}', re.DOTALL)\n",
    "keyvaluepattern = re.compile('\\|(.+)\\s+=\\s+(.+)')\n",
    "linebreakpattern = re.compile('<br/>\\n')\n",
    "\n",
    "info = infopattern.match(jawiki_england()).group(1)\n",
    "dict([keyvaluepattern.match(line).group(1, 2)\n",
    "      for line in linebreakpattern.sub('', info).split('\\n')\n",
    "      if keyvaluepattern.match(line)])"
   ]
  },
  {
   "cell_type": "markdown",
   "metadata": {
    "collapsed": false
   },
   "source": [
    "### 26. 強調マークアップの除去\n",
    "25の処理時に，テンプレートの値からMediaWikiの強調マークアップ（弱い強調，強調，強い強調のすべて）を除去してテキストに変換せよ（参考: [マークアップ早見表](http://ja.wikipedia.org/wiki/Help:%E6%97%A9%E8%A6%8B%E8%A1%A8)）．"
   ]
  },
  {
   "cell_type": "code",
   "execution_count": 8,
   "metadata": {
    "collapsed": false
   },
   "outputs": [
    {
     "data": {
      "text/plain": [
       "{'GDP/人': '36,727<ref name=\"imf-statistics-gdp\" />',\n",
       " 'GDP値': '2兆3162億<ref name=\"imf-statistics-gdp\" />',\n",
       " 'GDP値MER': '2兆4337億<ref name=\"imf-statistics-gdp\" />',\n",
       " 'GDP値元': '1兆5478億<ref name=\"imf-statistics-gdp\">[http://www.imf.org/external/pubs/ft/weo/2012/02/weodata/weorept.aspx?pr.x=70&pr.y=13&sy=2010&ey=2012&scsm=1&ssd=1&sort=country&ds=.&br=1&c=112&s=NGDP%2CNGDPD%2CPPPGDP%2CPPPPC&grp=0&a= IMF>Data and Statistics>World Economic Outlook Databases>By Countrise>United Kingdom]</ref>',\n",
       " 'GDP統計年': '2012',\n",
       " 'GDP統計年MER': '2012',\n",
       " 'GDP統計年元': '2012',\n",
       " 'GDP順位': '6',\n",
       " 'GDP順位MER': '5',\n",
       " 'ISO 3166-1': 'GB / GBR',\n",
       " 'ccTLD': '[[.uk]] / [[.gb]]<ref>使用は.ukに比べ圧倒的少数。</ref>',\n",
       " '人口値': '63,181,775<ref>[http://esa.un.org/unpd/wpp/Excel-Data/population.htm United Nations Department of Economic and Social Affairs>Population Division>Data>Population>Total Population]</ref>',\n",
       " '人口大きさ': '1 E7',\n",
       " '人口密度値': '246',\n",
       " '人口統計年': '2011',\n",
       " '人口順位': '22',\n",
       " '位置画像': 'Location_UK_EU_Europe_001.svg',\n",
       " '元首等氏名': '[[エリザベス2世]]',\n",
       " '元首等肩書': '[[イギリスの君主|女王]]',\n",
       " '公式国名': '{{lang|en|United Kingdom of Great Britain and Northern Ireland}}<ref>英語以外での正式国名:*{{lang|gd|An Rìoghachd Aonaichte na Breatainn Mhòr agus Eirinn mu Thuath}}（[[スコットランド・ゲール語]]）*{{lang|cy|Teyrnas Gyfunol Prydain Fawr a Gogledd Iwerddon}}（[[ウェールズ語]]）*{{lang|ga|Ríocht Aontaithe na Breataine Móire agus Tuaisceart na hÉireann}}（[[アイルランド語]]）*{{lang|kw|An Rywvaneth Unys a Vreten Veur hag Iwerdhon Glédh}}（[[コーンウォール語]]）*{{lang|sco|Unitit Kinrick o Great Breetain an Northren Ireland}}（[[スコットランド語]]）**{{lang|sco|Claught Kängrick o Docht Brätain an Norlin Airlann}}、{{lang|sco|Unitet Kängdom o Great Brittain an Norlin Airlann}}（アルスター・スコットランド語）</ref>',\n",
       " '公用語': '[[英語]]（事実上）',\n",
       " '国旗画像': 'Flag of the United Kingdom.svg',\n",
       " '国歌': '[[女王陛下万歳|神よ女王陛下を守り給え]]',\n",
       " '国章リンク': '（[[イギリスの国章|国章]]）',\n",
       " '国章画像': '[[ファイル:Royal Coat of Arms of the United Kingdom.svg|85px|イギリスの国章]]',\n",
       " '国際電話番号': '44',\n",
       " '夏時間': '+1',\n",
       " '建国形態': '建国',\n",
       " '日本語国名': 'グレートブリテン及び北アイルランド連合王国',\n",
       " '時間帯': '±0',\n",
       " '最大都市': 'ロンドン',\n",
       " '標語': '{{lang|fr|Dieu et mon droit}}<br/>（[[フランス語]]:神と私の権利）',\n",
       " '水面積率': '1.3%',\n",
       " '注記': '<references />',\n",
       " '略名': 'イギリス',\n",
       " '確立年月日1': '[[927年]]／[[843年]]',\n",
       " '確立年月日2': '[[1707年]]',\n",
       " '確立年月日3': '[[1801年]]',\n",
       " '確立年月日4': '[[1927年]]',\n",
       " '確立形態1': '[[イングランド王国]]／[[スコットランド王国]]<br />（両国とも[[連合法 (1707年)|1707年連合法]]まで）',\n",
       " '確立形態2': '[[グレートブリテン王国]]建国<br />（[[連合法 (1707年)|1707年連合法]]）',\n",
       " '確立形態3': '[[グレートブリテン及びアイルランド連合王国]]建国<br />（[[連合法 (1800年)|1800年連合法]]）',\n",
       " '確立形態4': '現在の国号「グレートブリテン及び北アイルランド連合王国」に変更',\n",
       " '通貨': '[[スターリング・ポンド|UKポンド]] (&pound;)',\n",
       " '通貨コード': 'GBP',\n",
       " '面積値': '244,820',\n",
       " '面積大きさ': '1 E11',\n",
       " '面積順位': '76',\n",
       " '首相等氏名': '[[デーヴィッド・キャメロン]]',\n",
       " '首相等肩書': '[[イギリスの首相|首相]]',\n",
       " '首都': '[[ロンドン]]'}"
      ]
     },
     "execution_count": 8,
     "metadata": {},
     "output_type": "execute_result"
    }
   ],
   "source": [
    "infopattern = re.compile(r'.+\\{\\{基礎情報\\s国(.+)\\}\\}', re.DOTALL)\n",
    "keyvaluepattern = re.compile('\\|(.+)\\s+=\\s+(.+)')\n",
    "linebreakpattern = re.compile('<br/>\\n')\n",
    "\n",
    "info = infopattern.match(jawiki_england()).group(1)\n",
    "\n",
    "dict([(key, re.sub(r\"'{1,3}\", '', value))\n",
    "      for key, value in\n",
    "      [keyvaluepattern.match(line).group(1, 2)\n",
    "          for line in linebreakpattern.sub('', info).split('\\n')\n",
    "          if keyvaluepattern.match(line)]])"
   ]
  },
  {
   "cell_type": "markdown",
   "metadata": {},
   "source": [
    "### 27. 内部リンクの除去\n",
    "26の処理に加えて，テンプレートの値からMediaWikiの内部リンクマークアップを除去し，テキストに変換せよ（参考: マークアップ早見表）．"
   ]
  },
  {
   "cell_type": "code",
   "execution_count": 9,
   "metadata": {
    "collapsed": false
   },
   "outputs": [
    {
     "data": {
      "text/plain": [
       "{'GDP/人': '36,727<ref name=\"imf-statistics-gdp\" />',\n",
       " 'GDP値': '2兆3162億<ref name=\"imf-statistics-gdp\" />',\n",
       " 'GDP値MER': '2兆4337億<ref name=\"imf-statistics-gdp\" />',\n",
       " 'GDP値元': '1兆5478億<ref name=\"imf-statistics-gdp\">[http://www.imf.org/external/pubs/ft/weo/2012/02/weodata/weorept.aspx?pr.x=70&pr.y=13&sy=2010&ey=2012&scsm=1&ssd=1&sort=country&ds=.&br=1&c=112&s=NGDP%2CNGDPD%2CPPPGDP%2CPPPPC&grp=0&a= IMF>Data and Statistics>World Economic Outlook Databases>By Countrise>United Kingdom]</ref>',\n",
       " 'GDP統計年': '2012',\n",
       " 'GDP統計年MER': '2012',\n",
       " 'GDP統計年元': '2012',\n",
       " 'GDP順位': '6',\n",
       " 'GDP順位MER': '5',\n",
       " 'ISO 3166-1': 'GB / GBR',\n",
       " 'ccTLD': '.uk / .gb<ref>使用は.ukに比べ圧倒的少数。</ref>',\n",
       " '人口値': '63,181,775<ref>[http://esa.un.org/unpd/wpp/Excel-Data/population.htm United Nations Department of Economic and Social Affairs>Population Division>Data>Population>Total Population]</ref>',\n",
       " '人口大きさ': '1 E7',\n",
       " '人口密度値': '246',\n",
       " '人口統計年': '2011',\n",
       " '人口順位': '22',\n",
       " '位置画像': 'Location_UK_EU_Europe_001.svg',\n",
       " '元首等氏名': 'エリザベス2世',\n",
       " '元首等肩書': 'イギリスの君主|女王',\n",
       " '公式国名': '{{lang|en|United Kingdom of Great Britain and Northern Ireland}}<ref>英語以外での正式国名:*{{lang|gd|An Rìoghachd Aonaichte na Breatainn Mhòr agus Eirinn mu Thuath}}（スコットランド・ゲール語）*{{lang|cy|Teyrnas Gyfunol Prydain Fawr a Gogledd Iwerddon}}（ウェールズ語）*{{lang|ga|Ríocht Aontaithe na Breataine Móire agus Tuaisceart na hÉireann}}（アイルランド語）*{{lang|kw|An Rywvaneth Unys a Vreten Veur hag Iwerdhon Glédh}}（コーンウォール語）*{{lang|sco|Unitit Kinrick o Great Breetain an Northren Ireland}}（スコットランド語）**{{lang|sco|Claught Kängrick o Docht Brätain an Norlin Airlann}}、{{lang|sco|Unitet Kängdom o Great Brittain an Norlin Airlann}}（アルスター・スコットランド語）</ref>',\n",
       " '公用語': '英語（事実上）',\n",
       " '国旗画像': 'Flag of the United Kingdom.svg',\n",
       " '国歌': '女王陛下万歳|神よ女王陛下を守り給え',\n",
       " '国章リンク': '（イギリスの国章|国章）',\n",
       " '国章画像': 'ファイル:Royal Coat of Arms of the United Kingdom.svg|85px|イギリスの国章',\n",
       " '国際電話番号': '44',\n",
       " '夏時間': '+1',\n",
       " '建国形態': '建国',\n",
       " '日本語国名': 'グレートブリテン及び北アイルランド連合王国',\n",
       " '時間帯': '±0',\n",
       " '最大都市': 'ロンドン',\n",
       " '標語': '{{lang|fr|Dieu et mon droit}}<br/>（フランス語:神と私の権利）',\n",
       " '水面積率': '1.3%',\n",
       " '注記': '<references />',\n",
       " '略名': 'イギリス',\n",
       " '確立年月日1': '927年／843年',\n",
       " '確立年月日2': '1707年',\n",
       " '確立年月日3': '1801年',\n",
       " '確立年月日4': '1927年',\n",
       " '確立形態1': 'イングランド王国／スコットランド王国<br />（両国とも連合法 (1707年)|1707年連合法まで）',\n",
       " '確立形態2': 'グレートブリテン王国建国<br />（連合法 (1707年)|1707年連合法）',\n",
       " '確立形態3': 'グレートブリテン及びアイルランド連合王国建国<br />（連合法 (1800年)|1800年連合法）',\n",
       " '確立形態4': '現在の国号「グレートブリテン及び北アイルランド連合王国」に変更',\n",
       " '通貨': 'スターリング・ポンド|UKポンド (&pound;)',\n",
       " '通貨コード': 'GBP',\n",
       " '面積値': '244,820',\n",
       " '面積大きさ': '1 E11',\n",
       " '面積順位': '76',\n",
       " '首相等氏名': 'デーヴィッド・キャメロン',\n",
       " '首相等肩書': 'イギリスの首相|首相',\n",
       " '首都': 'ロンドン'}"
      ]
     },
     "execution_count": 9,
     "metadata": {},
     "output_type": "execute_result"
    }
   ],
   "source": [
    "\n",
    "def normalize(value):\n",
    "    return re.sub('\\[\\[(.*?)\\]\\]', r'\\1', re.sub(r\"'{1,3}\", '', value))\n",
    "\n",
    "def basic_info(normalizer):\n",
    "    infopattern = re.compile(r'.+\\{\\{基礎情報\\s国(.+)\\}\\}', re.DOTALL)\n",
    "    keyvaluepattern = re.compile('\\|(.+)\\s+=\\s+(.+)')\n",
    "    linebreakpattern = re.compile('<br/>\\n')\n",
    "\n",
    "    info = infopattern.match(jawiki_england()).group(1)\n",
    "    \n",
    "    return dict([(key, normalizer(value))\n",
    "          for key, value in\n",
    "          [keyvaluepattern.match(line).group(1, 2)\n",
    "              for line in linebreakpattern.sub('', info).split('\\n')\n",
    "              if keyvaluepattern.match(line)]])\n",
    "\n",
    "basic_info(normalize)"
   ]
  },
  {
   "cell_type": "markdown",
   "metadata": {},
   "source": [
    "### 28. MediaWikiマークアップの除去\n",
    "27の処理に加えて，テンプレートの値からMediaWikiマークアップを可能な限り除去し，国の基本情報を整形せよ．"
   ]
  },
  {
   "cell_type": "markdown",
   "metadata": {},
   "source": [
    "### 29. 国旗画像のURLを取得する\n",
    "テンプレートの内容を利用し，国旗画像のURLを取得せよ．（ヒント: [MediaWiki API](http://www.mediawiki.org/wiki/API:Main_page/ja)の[imageinfo](http://www.mediawiki.org/wiki/API:Properties/ja#imageinfo_.2F_ii)を呼び出して，ファイル参照をURLに変換すればよい）"
   ]
  },
  {
   "cell_type": "code",
   "execution_count": 10,
   "metadata": {
    "collapsed": false
   },
   "outputs": [
    {
     "data": {
      "image/svg+xml": [
       "<svg height=\"600\" viewBox=\"0 0 60 30\" width=\"1200\" xmlns=\"http://www.w3.org/2000/svg\">\n",
       "<clipPath id=\"t\">\n",
       "\t<path d=\"M30,15 h30 v15 z v15 h-30 z h-30 v-15 z v-15 h30 z\"/>\n",
       "</clipPath>\n",
       "<path d=\"M0,0 v30 h60 v-30 z\" fill=\"#00247d\"/>\n",
       "<path d=\"M0,0 L60,30 M60,0 L0,30\" stroke=\"#fff\" stroke-width=\"6\"/>\n",
       "<path clip-path=\"url(#t)\" d=\"M0,0 L60,30 M60,0 L0,30\" stroke=\"#cf142b\" stroke-width=\"4\"/>\n",
       "<path d=\"M30,0 v30 M0,15 h60\" stroke=\"#fff\" stroke-width=\"10\"/>\n",
       "<path d=\"M30,0 v30 M0,15 h60\" stroke=\"#cf142b\" stroke-width=\"6\"/>\n",
       "</svg>"
      ],
      "text/plain": [
       "<IPython.core.display.SVG object>"
      ]
     },
     "metadata": {},
     "output_type": "display_data"
    }
   ],
   "source": [
    "from urllib.parse import quote\n",
    "import requests\n",
    "from IPython.core.display import SVG, display\n",
    "\n",
    "image_file = basic_info(normalize)[\"国旗画像\"]\n",
    "url = 'https://commons.wikimedia.org/w/api.php?\\\n",
    "action=query&format=json&prop=imageinfo&iiprop=url&titles=File:'\n",
    "url += quote(image_file)\n",
    "\n",
    "imageinfo = requests.get(url).json()\n",
    "pageid = list(imageinfo[\"query\"][\"pages\"].keys())[0]\n",
    "imageurl = imageinfo[\"query\"][\"pages\"][pageid][\"imageinfo\"][0][\"url\"]\n",
    "\n",
    "display(SVG(url=imageurl))"
   ]
  },
  {
   "cell_type": "code",
   "execution_count": null,
   "metadata": {
    "collapsed": true
   },
   "outputs": [],
   "source": []
  }
 ],
 "metadata": {
  "kernelspec": {
   "display_name": "Python 3",
   "language": "python",
   "name": "python3"
  },
  "language_info": {
   "codemirror_mode": {
    "name": "ipython",
    "version": 3
   },
   "file_extension": ".py",
   "mimetype": "text/x-python",
   "name": "python",
   "nbconvert_exporter": "python",
   "pygments_lexer": "ipython3",
   "version": "3.5.0"
  }
 },
 "nbformat": 4,
 "nbformat_minor": 0
}
