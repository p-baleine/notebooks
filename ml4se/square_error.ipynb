{
 "cells": [
  {
   "cell_type": "code",
   "execution_count": 1,
   "metadata": {
    "collapsed": false
   },
   "outputs": [],
   "source": [
    "%matplotlib inline\n",
    "import numpy as np\n",
    "import matplotlib.pyplot as plt\n",
    "import pandas as pd\n",
    "from pandas import Series, DataFrame\n",
    "from numpy.random import normal"
   ]
  },
  {
   "cell_type": "code",
   "execution_count": 2,
   "metadata": {
    "collapsed": false
   },
   "outputs": [
    {
     "data": {
      "text/plain": [
       "<matplotlib.text.Text at 0x7fe9bdb777b8>"
      ]
     },
     "execution_count": 2,
     "metadata": {},
     "output_type": "execute_result"
    },
    {
     "data": {
      "image/png": "[encoded data removed]",
      "text/plain": [
       "<matplotlib.figure.Figure at 0x7fe9bddc1ba8>"
      ]
     },
     "metadata": {},
     "output_type": "display_data"
    }
   ],
   "source": [
    "N = 10 # サンプルを取得する位置x１の個数\n",
    "\n",
    "def create_dataset(num):\n",
    "    dataset = DataFrame(columns=['x', 'y'])\n",
    "    for i in range(num):\n",
    "        x = float(i) / float(num - 1)\n",
    "        y = np.sin(2 * np.pi * x) + normal(scale = 0.3)\n",
    "        dataset = dataset.append(Series([x, y], index=['x', 'y']),\n",
    "                                ignore_index=True)\n",
    "    return dataset\n",
    "\n",
    "set = create_dataset(N)\n",
    "plt.scatter(set.x, set.y)\n",
    "plt.xlabel(\"x\")\n",
    "plt.ylabel(\"t\")"
   ]
  },
  {
   "cell_type": "markdown",
   "metadata": {
    "collapsed": true
   },
   "source": [
    "上記の通り、10箇所の観測点$x$に対し、それぞれに観測値$t$が与えられているとする。$x$と$t$の間にある関係関数を推測する。以下の様な$x$の多項式を想定する。\n",
    "\n",
    "$$\n",
    "\\begin{align*}\n",
    "f(x) &= w_0 + w_1x + w_2x^2 + \\cdots + w_Mx^M \\\\\n",
    "&= \\sum_{m=0}^Mw_mx^m \\tag{1}\n",
    "\\end{align*}\n",
    "$$\n",
    "\n",
    "(1)式で計算される$t$の値と実際に観測された$t_n$の差の二乗和を誤差とする。\n",
    "\n",
    "$$\n",
    "\\left\\{f(x_1) - t_1\\right\\}^2 + \\left\\{f(x_2) - t_2\\right\\}^2 + \\cdots + \\left\\{f(x_n) - t_n\\right\\}^2 \\\\\n",
    "$$\n",
    "\n",
    "この値がなるべく小さくなるような$f(x)$が得られるようにパラメーター$\\left\\{w_m\\right\\}_{m=0}^M$を決定したい。「誤差$E_D$」を以下のとおり定義する(観測点の数を$N$としている)。\n",
    "\n",
    "$$\n",
    "E_D = \\frac{1}{2}\\sum_{n=1}^N\\left\\{f(x_n)-t_n\\right\\}^2 \\tag{2}\n",
    "$$\n",
    "\n",
    "(2)に(1)を代入すると\n",
    "\n",
    "$$\n",
    "E_D= \\frac{1}{2}\\sum_{n=1}^N\\left(\\sum_{m=0}^Mw_mx_n^m - t_n \\right)^2 \\tag{3}\n",
    "$$\n",
    "\n"
   ]
  },
  {
   "cell_type": "markdown",
   "metadata": {},
   "source": [
    "\n",
    "(3)を最小にする$\\left\\{w_m\\right\\}_{m=0}^M$を決定したい。これは(3)を$\\left\\{w_m\\right\\}_{m=0}^M$の関数とみなした際の偏微分係数が0になるという条件で決定される。\n",
    "\n",
    "$$\n",
    "\\begin{align*}\n",
    "\\frac{\\partial E_D}{\\partial w_m} = 0 &\\ \\ \\ (m = 0, \\cdots , M) \\tag{4}\n",
    "\\end{align*}\n",
    "$$\n",
    "\n",
    "(4)に(3)を代入して偏微分を計算すると(代入する際、添字$m$が被らないように(3)の$m$を$m'$に変更している)(<font color=\"red\">※なんで右辺の$x_n^m$にはダッシュつかないの？</font>)\n",
    "\n",
    "$$\n",
    "\\begin{align*}\n",
    "\\frac{\\partial E_D}{\\partial w_m} &= \\left\\{\\ \\frac{1}{2}\\sum_{n=1}^N\\left( \\sum_{m'=0}^Mw_{m'}x_n^{m'} - t_n \\right)^2 \\right\\}' \\\\\n",
    "&= \\sum_{n=1}^N\\left( \\sum_{m'=0}^Mw_{m'}x_n^{m'} - t_n \\right) x_n^m \\\\\n",
    "&= 0\n",
    "\\end{align*}\n",
    "$$\n",
    "\n",
    "上式を変形して\n",
    "\n",
    "$$\n",
    "\\sum_{m'=0}^Mw_{m'}\\sum_{n=1}^N x_n^{m'}x_n^m - \\sum_{n=1}^Nt_nx_n^m = 0 \\tag{5}\n",
    "$$\n",
    "\n",
    "ここで$x_n^m$を$(n,m)$成分とする$N*(M+1)$行列$\\Phi$を用いると、以下のとおり行列形式で書き直せる。(<font color=\"red\">※なんで$x_n^{m'}$(ダッシュ付きの方)は$\\mathbf{\\Phi}^{\\mathrm{T}}$になるの？</font>)\n",
    "\n",
    "$$\n",
    "\\mathbf{w}^{\\mathrm{T}}\\mathbf{\\Phi}^{\\mathrm{T}}\\mathbf{\\Phi} - \\mathbf{t}^{\\mathrm{T}}\\mathbf{\\Phi} = \\mathbf{0} \\tag{6} \n",
    "$$\n",
    "\n",
    "ここで\n",
    "\n",
    "$$\n",
    "\\begin{align*}\n",
    "\\mathbf{w} &= (w_0, \\cdots ,w_m)^{\\mathrm{T}} \\\\\n",
    "\\mathbf{t} &= (t_1, \\cdots, t_N)^{\\mathrm{T}}\\\\\n",
    "\\end{align*}\n",
    "$$\n",
    "\n",
    "$$\n",
    "\\mathbf{\\Phi} = \\left(\n",
    "    \\begin{array}{cccc}\n",
    "      x_1^0 & x_1^1 & \\ldots & x_1^M \\\\\n",
    "      x_2^0 & x_2^1 & \\ldots & x_2^M \\\\\n",
    "      \\vdots & \\vdots & \\ddots & \\vdots \\\\\n",
    "      x_N^0 & x_N^1 & \\ldots & x_N^M \\\\\n",
    "    \\end{array}\n",
    "  \\right)\n",
    "$$\n",
    "\n",
    "(6)の両辺の転置をとって\n",
    "\n",
    "$$\n",
    "\\begin{align*}\n",
    "\\mathbf{w}^{\\mathrm{T}}\\mathbf{\\Phi}^{\\mathrm{T}}\\mathbf{\\Phi} - \\mathbf{t}^{\\mathrm{T}}\\mathbf{\\Phi} &= \\mathbf{0} \\\\\n",
    "\\mathbf{w}^{\\mathrm{T}}\\mathbf{\\Phi}^{\\mathrm{T}}\\mathbf{\\Phi} &= \\mathbf{t}^{\\mathrm{T}}\\mathbf{\\Phi} \\\\\n",
    "\\left(\\mathbf{w}^{\\mathrm{T}}\\mathbf{\\Phi}^{\\mathrm{T}}\\mathbf{\\Phi}\\right)^{\\mathrm{T}} &= \\left(\\mathbf{t}^{\\mathrm{T}}\\mathbf{\\Phi}\\right)^{\\mathrm{T}} \\\\\n",
    "\\left(\\mathbf{\\Phi}^{\\mathrm{T}}\\mathbf{\\Phi}\\right)^{\\mathrm{T}}\\mathbf{w} &= \\mathbf{\\Phi}^{\\mathrm{T}}\\mathbf{t} \\\\\n",
    "\\left(\\mathbf{\\Phi}^{\\mathrm{T}}\\mathbf{\\Phi}\\right)\\mathbf{w} &= \\mathbf{\\Phi}^{\\mathrm{T}}\\mathbf{t} \\\\\n",
    "\\left(\\mathbf{\\Phi}^{\\mathrm{T}}\\mathbf{\\Phi}\\right)^{-1}\\left(\\mathbf{\\Phi}^{\\mathrm{T}}\\mathbf{\\Phi}\\right)\\mathbf{w} &= \\left(\\mathbf{\\Phi}^{\\mathrm{T}}\\mathbf{\\Phi}\\right)^{-1}\\mathbf{\\Phi}^{\\mathrm{T}}\\mathbf{t} \\\\\n",
    "\\mathbf{w} &= \\left(\\mathbf{\\Phi}^{\\mathrm{T}}\\mathbf{\\Phi}\\right)^{-1}\\mathbf{\\Phi}^{\\mathrm{T}}\\mathbf{t}\n",
    "\\end{align*} \\tag{7}\n",
    "$$\n",
    "\n",
    "右辺の$\\mathbf{\\Phi}$と$\\mathbf{t}$は観測データから決まるものなので、(7)は観測データを用いて多項式の係数$\\mathbf{w}$を決定する公式なっている。\n"
   ]
  },
  {
   "cell_type": "code",
   "execution_count": null,
   "metadata": {
    "collapsed": true
   },
   "outputs": [],
   "source": []
  }
 ],
 "metadata": {
  "kernelspec": {
   "display_name": "Python 3",
   "language": "python",
   "name": "python3"
  },
  "language_info": {
   "codemirror_mode": {
    "name": "ipython",
    "version": 3
   },
   "file_extension": ".py",
   "mimetype": "text/x-python",
   "name": "python",
   "nbconvert_exporter": "python",
   "pygments_lexer": "ipython3",
   "version": "3.4.3"
  }
 },
 "nbformat": 4,
 "nbformat_minor": 0
}
