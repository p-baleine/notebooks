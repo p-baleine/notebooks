{
 "cells": [
  {
   "cell_type": "markdown",
   "metadata": {},
   "source": [
    "# 最小二乗法"
   ]
  },
  {
   "cell_type": "markdown",
   "metadata": {},
   "source": [
    "## サンプルデータ"
   ]
  },
  {
   "cell_type": "code",
   "execution_count": 1,
   "metadata": {
    "collapsed": false
   },
   "outputs": [],
   "source": [
    "%matplotlib inline\n",
    "import numpy as np\n",
    "import matplotlib.pyplot as plt\n",
    "import pandas as pd\n",
    "from pandas import Series, DataFrame\n",
    "from numpy.random import normal"
   ]
  },
  {
   "cell_type": "code",
   "execution_count": 2,
   "metadata": {
    "collapsed": false
   },
   "outputs": [
    {
     "data": {
      "text/plain": [
       "<matplotlib.text.Text at 0x7fecdd32e7b8>"
      ]
     },
     "execution_count": 2,
     "metadata": {},
     "output_type": "execute_result"
    },
    {
     "data": {
      "image/png": "[encoded data removed]",
      "text/plain": [
       "<matplotlib.figure.Figure at 0x7fecdd57abe0>"
      ]
     },
     "metadata": {},
     "output_type": "display_data"
    }
   ],
   "source": [
    "N = 10 # サンプルを取得する位置x１の個数\n",
    "\n",
    "def create_dataset(num):\n",
    "    dataset = DataFrame(columns=['x', 'y'])\n",
    "    for i in range(num):\n",
    "        x = float(i) / float(num - 1)\n",
    "        # y = sin(2 pi x)に標準偏差0.3の乱数を加えて生成\n",
    "        y = np.sin(2 * np.pi * x) + normal(scale = 0.3)\n",
    "        dataset = dataset.append(Series([x, y], index=['x', 'y']),\n",
    "                                ignore_index=True)\n",
    "    return dataset\n",
    "\n",
    "set = create_dataset(N)\n",
    "plt.scatter(set.x, set.y)\n",
    "plt.xlabel(\"x\")\n",
    "plt.ylabel(\"t\")"
   ]
  },
  {
   "cell_type": "markdown",
   "metadata": {
    "collapsed": true
   },
   "source": [
    "## 多項式による近似\n",
    "\n",
    "上記の通り、10箇所の観測点$x$に対し、それぞれに観測値$t$が与えられているとする。$x$と$t$の間にある関係関数を推測する。以下の様な$x$の多項式を想定する。\n",
    "\n",
    "$$\n",
    "\\begin{align*}\n",
    "f(x) &= w_0 + w_1x + w_2x^2 + \\cdots + w_Mx^M \\\\\n",
    "&= \\sum_{m=0}^Mw_mx^m \\tag{1}\n",
    "\\end{align*}\n",
    "$$\n",
    "\n",
    "(1)式で計算される$t$の値と実際に観測された$t_n$の差の二乗和を誤差とする。\n",
    "\n",
    "$$\n",
    "\\left\\{f(x_1) - t_1\\right\\}^2 + \\left\\{f(x_2) - t_2\\right\\}^2 + \\cdots + \\left\\{f(x_n) - t_n\\right\\}^2 \\\\\n",
    "$$\n",
    "\n",
    "この値がなるべく小さくなるような$f(x)$が得られるようにパラメーター$\\left\\{w_m\\right\\}_{m=0}^M$を決定したい。「誤差$E_D$」を以下のとおり定義する(観測点の数を$N$としている)。\n",
    "\n",
    "$$\n",
    "E_D = \\frac{1}{2}\\sum_{n=1}^N\\left\\{f(x_n)-t_n\\right\\}^2 \\tag{2}\n",
    "$$\n",
    "\n",
    "(2)に(1)を代入すると\n",
    "\n",
    "$$\n",
    "E_D= \\frac{1}{2}\\sum_{n=1}^N\\left(\\sum_{m=0}^Mw_mx_n^m - t_n \\right)^2 \\tag{3}\n",
    "$$\n",
    "\n"
   ]
  },
  {
   "cell_type": "markdown",
   "metadata": {},
   "source": [
    "\n",
    "(3)を最小にする$\\left\\{w_m\\right\\}_{m=0}^M$を決定したい。これは(3)を$\\left\\{w_m\\right\\}_{m=0}^M$の関数とみなした際の偏微分係数が0になるという条件で決定される。\n",
    "\n",
    "$$\n",
    "\\begin{align*}\n",
    "\\frac{\\partial E_D}{\\partial w_m} = 0 &\\ \\ \\ (m = 0, \\cdots , M) \\tag{4}\n",
    "\\end{align*}\n",
    "$$\n",
    "\n",
    "(4)に(3)を代入して偏微分を計算すると(代入する際、添字$m$が被らないように(3)の$m$を$m'$に変更している)(式の展開は[補足](#【補足】偏微分方程式の展開)参照)\n",
    "\n",
    "$$\n",
    "\\begin{align*}\n",
    "\\frac{\\partial E_D}{\\partial w_m} &= \\left\\{\\ \\frac{1}{2}\\sum_{n=1}^N\\left( \\sum_{m'=0}^Mw_{m'}x_n^{m'} - t_n \\right)^2 \\right\\}' \\\\\n",
    "&= \\sum_{n=1}^N\\left( \\sum_{m'=0}^Mw_{m'}x_n^{m'} - t_n \\right) x_n^m \\\\\n",
    "&= 0\n",
    "\\end{align*}\n",
    "$$\n",
    "\n",
    "上式を変形して\n",
    "\n",
    "$$\n",
    "\\sum_{m'=0}^Mw_{m'}\\sum_{n=1}^N x_n^{m'}x_n^m - \\sum_{n=1}^Nt_nx_n^m = 0 \\tag{5}\n",
    "$$\n",
    "\n",
    "ここで$x_n^m$を$(n,m)$成分とする$N*(M+1)$行列$\\Phi$を用いると、以下のとおり行列形式で書き直せる。\n",
    "\n",
    "$$\n",
    "\\mathbf{w}^{\\mathrm{T}}\\mathbf{\\Phi}^{\\mathrm{T}}\\mathbf{\\Phi} - \\mathbf{t}^{\\mathrm{T}}\\mathbf{\\Phi} = \\mathbf{0} \\tag{6} \n",
    "$$\n",
    "\n",
    "ここで\n",
    "\n",
    "$$\n",
    "\\begin{align*}\n",
    "\\mathbf{w} &= (w_0, \\cdots ,w_m)^{\\mathrm{T}} \\\\\n",
    "\\mathbf{t} &= (t_1, \\cdots, t_N)^{\\mathrm{T}}\\\\\n",
    "\\end{align*}\n",
    "$$\n",
    "\n",
    "$$\n",
    "\\mathbf{\\Phi} = \\left(\n",
    "    \\begin{array}{cccc}\n",
    "      x_1^0 & x_1^1 & \\ldots & x_1^M \\\\\n",
    "      x_2^0 & x_2^1 & \\ldots & x_2^M \\\\\n",
    "      \\vdots & \\vdots & \\ddots & \\vdots \\\\\n",
    "      x_N^0 & x_N^1 & \\ldots & x_N^M \\\\\n",
    "    \\end{array}\n",
    "  \\right)\n",
    "$$\n",
    "\n",
    "(6)の式を変形して\n",
    "\n",
    "$$\n",
    "\\begin{align*}\n",
    "\\mathbf{w}^{\\mathrm{T}}\\mathbf{\\Phi}^{\\mathrm{T}}\\mathbf{\\Phi} - \\mathbf{t}^{\\mathrm{T}}\\mathbf{\\Phi} &= \\mathbf{0} \\\\\n",
    "\\mathbf{w}^{\\mathrm{T}}\\mathbf{\\Phi}^{\\mathrm{T}}\\mathbf{\\Phi} &= \\mathbf{t}^{\\mathrm{T}}\\mathbf{\\Phi} \\\\\n",
    "\\end{align*}\n",
    "$$\n",
    "\n",
    "両辺の転置をとって([行列の転置の性質](../basics/matrix.ipynb#定理2(行列の転置))を利用して)\n",
    "\n",
    "$$\n",
    "\\begin{align*}\n",
    "\\left(\\mathbf{w}^{\\mathrm{T}}\\mathbf{\\Phi}^{\\mathrm{T}}\\mathbf{\\Phi}\\right)^{\\mathrm{T}} &= \\left(\\mathbf{t}^{\\mathrm{T}}\\mathbf{\\Phi}\\right)^{\\mathrm{T}} \\\\\n",
    "\\left(\\mathbf{\\Phi}^{\\mathrm{T}}\\mathbf{\\Phi}\\right)^{\\mathrm{T}}\\mathbf{w} &= \\mathbf{\\Phi}^{\\mathrm{T}}\\mathbf{t} \\\\\n",
    "\\left(\\mathbf{\\Phi}^{\\mathrm{T}}\\mathbf{\\Phi}\\right)\\mathbf{w} &= \\mathbf{\\Phi}^{\\mathrm{T}}\\mathbf{t}\n",
    "\\end{align*}\n",
    "$$\n",
    "\n",
    "両辺に左から$\\left(\\mathbf{\\Phi}^{\\mathrm{T}}\\mathbf{\\Phi}\\right)^{-1}$をかけて\n",
    "\n",
    "$$\n",
    "\\begin{align*}\n",
    "\\left(\\mathbf{\\Phi}^{\\mathrm{T}}\\mathbf{\\Phi}\\right)^{-1}\\left(\\mathbf{\\Phi}^{\\mathrm{T}}\\mathbf{\\Phi}\\right)\\mathbf{w} &= \\left(\\mathbf{\\Phi}^{\\mathrm{T}}\\mathbf{\\Phi}\\right)^{-1}\\mathbf{\\Phi}^{\\mathrm{T}}\\mathbf{t} \\\\\n",
    "\\mathbf{w} &= \\left(\\mathbf{\\Phi}^{\\mathrm{T}}\\mathbf{\\Phi}\\right)^{-1}\\mathbf{\\Phi}^{\\mathrm{T}}\\mathbf{t}\n",
    "\\end{align*} \\tag{7}\n",
    "$$\n",
    "\n",
    "右辺の$\\mathbf{\\Phi}$と$\\mathbf{t}$は観測データから決まるものなので、(7)は観測データを用いて多項式の係数$\\mathbf{w}$を決定する公式なっている。\n",
    "\n",
    "\n",
    "<font color=\"red\">※ヘッセ行列はまだ理解できてない</font>"
   ]
  },
  {
   "cell_type": "code",
   "execution_count": 3,
   "metadata": {
    "collapsed": false,
    "scrolled": false
   },
   "outputs": [
    {
     "name": "stdout",
     "output_type": "stream",
     "text": [
      "Table of the coefficients\n",
      "        M=0       M=1        M=3            M=9\n",
      "0 -0.088974  0.614938   0.035937       0.205340\n",
      "1       NaN -1.407824   7.808275    -153.638638\n",
      "2       NaN       NaN -23.929738    3597.018680\n",
      "3       NaN       NaN  15.806429  -32388.802448\n",
      "4       NaN       NaN        NaN  151538.733196\n",
      "5       NaN       NaN        NaN -409646.962058\n",
      "6       NaN       NaN        NaN  663370.103169\n",
      "7       NaN       NaN        NaN -634995.857325\n",
      "8       NaN       NaN        NaN  331279.148295\n",
      "9       NaN       NaN        NaN  -72600.282157\n"
     ]
    },
    {
     "data": {
      "image/png": "[encoded data removed]",
      "text/plain": [
       "<matplotlib.figure.Figure at 0x7fecdb274e48>"
      ]
     },
     "metadata": {},
     "output_type": "display_data"
    }
   ],
   "source": [
    "M = [0, 1, 3, 9] # 多項式の次数\n",
    "\n",
    "# 平方根平均二乗誤差(Root mean square error)を計算する\n",
    "def rms_error(dataset, f):\n",
    "    err = 0.0\n",
    "    for index, line in dataset.iterrows():\n",
    "        x, y = line.x, line.y\n",
    "        err += 0.5 * (y - f(x)) ** 2\n",
    "    return np.sqrt(2 * err / len(dataset))\n",
    "\n",
    "# 最小二乗法で解を求める\n",
    "def resolve(dataset, m):\n",
    "    t = dataset.y\n",
    "    phi = DataFrame()\n",
    "    for i in range(0, m + 1):\n",
    "        p = dataset.x ** i\n",
    "        p.name = \"x**%d\" % i\n",
    "        phi = pd.concat([phi, p], axis=1)\n",
    "    tmp = np.linalg.inv(np.dot(phi.T, phi))\n",
    "    ws = np.dot(np.dot(tmp, phi.T), t)\n",
    "    \n",
    "    def f(x):\n",
    "        y = 0\n",
    "        for i, w in enumerate(ws):\n",
    "            y += w * (x ** i)\n",
    "        return y\n",
    "    \n",
    "    return (f, ws)\n",
    "\n",
    "train_set = create_dataset(N)\n",
    "test_set = create_dataset(N)\n",
    "df_ws = DataFrame()\n",
    "\n",
    "fig = plt.figure(figsize=(8, 6))\n",
    "for c, m in enumerate(M):\n",
    "    f, ws = resolve(train_set, m)\n",
    "    df_ws = df_ws.append(Series(ws, name=\"M=%d\" % m))\n",
    "    \n",
    "    subplot = fig.add_subplot(2, 2, c+1)\n",
    "    subplot.set_xlim(-0.05, 1.05)\n",
    "    subplot.set_ylim(-1.5, 1.5)\n",
    "    subplot.set_title(\"M=%d\" % m)\n",
    "    \n",
    "    # トレーニングセットを表示\n",
    "    subplot.scatter(train_set.x, train_set.y, marker='o', color='b')\n",
    "    \n",
    "    # 真の曲線を表示\n",
    "    linex = np.linspace(0, 1, 101)\n",
    "    liney = np.sin(2 * np.pi * linex)\n",
    "    subplot.plot(linex, liney, color='g', linestyle='--')\n",
    "    \n",
    "    # 多項式近似の曲線を表示\n",
    "    linex = np.linspace(0, 1, 101)\n",
    "    liney = f(linex)\n",
    "    label = \"E(RMS)=%.2f\" % rms_error(train_set, f)\n",
    "    subplot.plot(linex, liney, color='r', label=label)\n",
    "    subplot.legend(loc=1)\n",
    "\n",
    "# 係数の値\n",
    "print(\"Table of the coefficients\")\n",
    "print(df_ws.transpose())"
   ]
  },
  {
   "cell_type": "markdown",
   "metadata": {},
   "source": [
    "上のグラフでE(RMS)(Root mean square error)は平方根平均二乗誤差、\n",
    "\n",
    "$$\n",
    "E_{RMS} = \\sqrt{\\frac{2E_D}{N}}\n",
    "$$\n",
    "\n",
    "多項式から予想される値とトレーニングセットの値が、平均的にどの程度異なっているかを表す。"
   ]
  },
  {
   "cell_type": "markdown",
   "metadata": {},
   "source": [
    "## オーバーフィッティングの検出\n",
    "\n",
    "事前にトレーニングセットとテストセットを用意しておき、トレーニングセットを用いて得られた多項式を用いて、トレーニングセットとテストセットの平方根平均二乗誤差を計算する。\n"
   ]
  },
  {
   "cell_type": "code",
   "execution_count": 4,
   "metadata": {
    "collapsed": false,
    "scrolled": false
   },
   "outputs": [
    {
     "data": {
      "text/plain": [
       "<matplotlib.axes._subplots.AxesSubplot at 0x7fecdb246400>"
      ]
     },
     "execution_count": 4,
     "metadata": {},
     "output_type": "execute_result"
    },
    {
     "data": {
      "image/png": "[encoded data removed]",
      "text/plain": [
       "<matplotlib.figure.Figure at 0x7fecddd7db70>"
      ]
     },
     "metadata": {},
     "output_type": "display_data"
    }
   ],
   "source": [
    "# トレーニングセットとテストセットでの誤差の変化を表示\n",
    "df = DataFrame(columns=['Training set', 'Test set'])\n",
    "for m in range(0, 10):\n",
    "    f, ws = resolve(train_set, m)\n",
    "    train_error = rms_error(train_set, f)\n",
    "    test_error = rms_error(test_set, f)\n",
    "    df = df.append(Series([train_error, test_error],\n",
    "                          index=['Training set', 'Test set']),\n",
    "                   ignore_index=True)\n",
    "df.plot(title='RMS Error', style=['-', '--'], grid=True, ylim=(0, 0.9))\n"
   ]
  },
  {
   "cell_type": "markdown",
   "metadata": {},
   "source": [
    "テストセットに対する「予測力」―モデルの汎化能力が、$M=4$を越えると、テストセットに対する誤差は減少せず、トレーニングセットに対する誤差だけが減少している。トレーニングセットだけが持つ特徴に合わせて、過剰なチューニングが行われている－オーバーフィッティング(過学習)"
   ]
  },
  {
   "cell_type": "markdown",
   "metadata": {
    "collapsed": true
   },
   "source": [
    "## 【補足】偏微分方程式の展開\n",
    "\n",
    "$$\n",
    "E_D= \\frac{1}{2}\\sum_{n=1}^N\\left(\\sum_{m=0}^Mw_mx_n^m - t_n \\right)^2 \\tag{3}\n",
    "$$\n",
    "\n",
    "を具体的に展開してみると、\n",
    "\n",
    "$$\n",
    "\\begin{align*}\n",
    "E_D = &\\frac{1}{2}\\left\\{ \\left( w_0x_1^0 - t_1 \\right) + \\left( w_1x_1^1 - t_1 \\right) + \\cdots + \\left( w_Mx_1^M - t_1 \\right) \\right\\}^2 + \\\\\n",
    "&\\frac{1}{2}\\left\\{ \\left( w_0x_2^0 - t_2 \\right) + \\left( w_1x_2^1 - t_2 \\right) + \\cdots + \\left( w_Mx_2^M - t_2 \\right) \\right\\}^2  + \\cdots + \\\\\n",
    "&\\frac{1}{2}\\left\\{ \\left( w_0x_N^0 - t_N \\right) + \\left( w_1x_N^1 - t_N \\right) + \\cdots + \\left( w_Mx_N^M - t_N \\right) \\right\\}^2   \\tag{*1}\n",
    "\\end{align*}\n",
    "$$\n",
    "\n",
    "(4)は$m=0, m=1, \\cdots, m=M$のそれぞれで上式を偏微分した結果を$0$とおいた連立一次方程式を求めることを意味する、\n",
    "\n",
    "$$\n",
    "\\begin{align*}\n",
    "\\frac{\\partial E_D}{\\partial w_m} = 0 &\\ \\ \\ (m = 0, \\cdots , M) \\tag{4}\n",
    "\\end{align*}\n",
    "$$\n",
    "\n",
    "$m=0$の場合、$w_0$で偏微分すると、\n",
    "\n",
    "$$\n",
    "\\begin{align*}\n",
    "\\frac{\\partial{E_D}}{\\partial{w_0}} = &\\left\\{ \\left( w_0x_1^0 - t_1 \\right) + \\left( w_1x_1^1 - t_1 \\right) + \\cdots + \\left( w_Mx_1^M - t_1 \\right) \\right\\} x_1^0 + \\\\\n",
    "&\\left\\{ \\left( w_0x_2^0 - t_2 \\right) + \\left( w_1x_2^1 - t_2 \\right) + \\cdots + \\left( w_Mx_2^M - t_2 \\right) \\right\\} x_2^0 + \\cdots + \\\\ \n",
    "&\\left\\{ \\left( w_0x_N^0 - t_N \\right) + \\left( w_1x_N^1 - t_N \\right) + \\cdots + \\left( w_Mx_N^M - t_N \\right) \\right\\} x_N^0 = 0\n",
    "\\end{align*}\n",
    "$$\n",
    "\n",
    "$m=1$の場合、$w_1$で偏微分すると、\n",
    "\n",
    "$$\n",
    "\\begin{align*}\n",
    "\\frac{\\partial{E_D}}{\\partial{w_1}} = &\\left\\{ \\left( w_0x_1^0 - t_1 \\right) + \\left( w_1x_1^1 - t_1 \\right) + \\cdots + \\left( w_Mx_1^M - t_1 \\right) \\right\\} x_1^1 + \\\\\n",
    "&\\left\\{ \\left( w_0x_2^0 - t_2 \\right) + \\left( w_1x_2^1 - t_2 \\right) + \\cdots + \\left( w_Mx_2^M - t_2 \\right) \\right\\} x_2^1 + \\cdots + \\\\ \n",
    "&\\left\\{ \\left( w_0x_N^0 - t_N \\right) + \\left( w_1x_N^1 - t_N \\right) + \\cdots + \\left( w_Mx_N^M - t_N \\right) \\right\\} x_N^1 = 0\n",
    "\\end{align*}\n",
    "$$\n",
    "\n",
    "$m=M$の場合、$w_M$で偏微分すると、\n",
    "\n",
    "$$\n",
    "\\begin{align*}\n",
    "\\frac{\\partial{E_D}}{\\partial{w_M}} = &\\left\\{ \\left( w_0x_1^0 - t_1 \\right) + \\left( w_1x_1^1 - t_1 \\right) + \\cdots + \\left( w_Mx_1^M - t_1 \\right) \\right\\} x_1^M + \\\\\n",
    "&\\left\\{ \\left( w_0x_2^0 - t_2 \\right) + \\left( w_1x_2^1 - t_2 \\right) + \\cdots + \\left( w_Mx_2^M - t_2 \\right) \\right\\} x_2^M + \\cdots + \\\\ \n",
    "&\\left\\{ \\left( w_0x_N^0 - t_N \\right) + \\left( w_1x_N^1 - t_N \\right) + \\cdots + \\left( w_Mx_N^M - t_N \\right) \\right\\} x_N^M = 0\n",
    "\\end{align*}\n",
    "$$\n",
    "\n",
    "以上を一般に表すと(代入する際、添字$m$が被らないように(3)の$m$を$m'$に変更している)\n",
    "\n",
    "$$\n",
    "\\begin{align*}\n",
    "\\frac{\\partial E_D}{\\partial w_m} = \\sum_{n=1}^N\\left( \\sum_{m'=0}^Mw_{m'}x_n^{m'} - t_n \\right) x_n^m = 0 &\\ \\ \\ (m = 0, \\cdots , M)\n",
    "\\end{align*}\n",
    "$$\n",
    "\n",
    "\n",
    "\n",
    "\n",
    "\n",
    "\n",
    "\n",
    "\n",
    "\n",
    "\n",
    "\n",
    "\n",
    "\n",
    "\n",
    "\n",
    "\n",
    "\n",
    "\n"
   ]
  },
  {
   "cell_type": "code",
   "execution_count": null,
   "metadata": {
    "collapsed": true
   },
   "outputs": [],
   "source": []
  }
 ],
 "metadata": {
  "kernelspec": {
   "display_name": "Python 3",
   "language": "python",
   "name": "python3"
  },
  "language_info": {
   "codemirror_mode": {
    "name": "ipython",
    "version": 3
   },
   "file_extension": ".py",
   "mimetype": "text/x-python",
   "name": "python",
   "nbconvert_exporter": "python",
   "pygments_lexer": "ipython3",
   "version": "3.4.3"
  }
 },
 "nbformat": 4,
 "nbformat_minor": 0
}
