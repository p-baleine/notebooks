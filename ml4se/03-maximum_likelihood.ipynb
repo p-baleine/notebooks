{
 "cells": [
  {
   "cell_type": "markdown",
   "metadata": {
    "collapsed": true
   },
   "source": [
    "# 最尤推定法\n",
    "\n",
    "## サンプルデータ"
   ]
  },
  {
   "cell_type": "code",
   "execution_count": 1,
   "metadata": {
    "collapsed": true
   },
   "outputs": [],
   "source": [
    "%matplotlib inline\n",
    "import numpy as np\n",
    "import matplotlib.pyplot as plt\n",
    "import pandas as pd\n",
    "from pandas import Series, DataFrame\n",
    "\n",
    "from numpy.random import normal"
   ]
  },
  {
   "cell_type": "code",
   "execution_count": 2,
   "metadata": {
    "collapsed": true
   },
   "outputs": [],
   "source": [
    "N = 10 # サンプルを取得する位置 x の個数\n",
    "M = [0, 1, 3, 9] # 多項式の次数"
   ]
  },
  {
   "cell_type": "code",
   "execution_count": 3,
   "metadata": {
    "collapsed": false
   },
   "outputs": [
    {
     "data": {
      "text/plain": [
       "<matplotlib.collections.PathCollection at 0x7fd3b80749e8>"
      ]
     },
     "execution_count": 3,
     "metadata": {},
     "output_type": "execute_result"
    },
    {
     "data": {
      "image/png": "[encoded data removed]",
      "text/plain": [
       "<matplotlib.figure.Figure at 0x7fd3ba3168d0>"
      ]
     },
     "metadata": {},
     "output_type": "display_data"
    }
   ],
   "source": [
    "# データセット {x_n,y_n} (n = 1...N)を準備\n",
    "def create_dataset(num):\n",
    "    dataset = DataFrame(columns=['x', 'y'])\n",
    "    for i in range(num):\n",
    "        x = float(i) / float(num - 1)\n",
    "        y = np.sin(2 * np.pi * x) + normal(scale=0.3)\n",
    "        dataset = dataset.append(Series([x, y], index=['x', 'y']),\n",
    "                                 ignore_index=True)\n",
    "    return dataset\n",
    "\n",
    "set = create_dataset(N)\n",
    "plt.scatter(set.x, set.y)"
   ]
  },
  {
   "cell_type": "markdown",
   "metadata": {},
   "source": [
    "## 確率モデルの利用\n",
    "\n",
    "### 「データ発生確率」の設定\n",
    "\n",
    "パラメトリックモデルの3ステップの第一ステップ、パラメーターを含むモデル(数式)を設定する。\n",
    "\n",
    "「このデータの背後には、$M$次多項式の関係があり、さらに標準偏差$\\sigma^2$の誤差が含まれている」と仮定する。\n",
    "\n",
    "まず、特徴変数$x$と目的変数$t$の間には以下のような$M$次多項式の関係があるものとする。\n",
    "\n",
    "$$\n",
    "\\begin{align*}\n",
    "f(x) &= w_0 + w_1x + w_2x^2 + \\cdots + w_Mx^M \\\\\n",
    "&= \\sum_{m=0}^Mw_mx_m \\tag{3.1}\n",
    "\\end{align*}\n",
    "$$\n",
    "\n",
    "そのうえで「観測点$x_n$における観測値$t$は、$f(x_n)$を中心として、およそ$f(x_n) \\pm \\sigma$の範囲に散らばる」と考える。ここで誤差として正規分布を採用する。\n",
    "\n",
    "以上から今回のモデルは、観測点$x_n$における観測値$t$の確率を表す次の数式となる。\n",
    "\n",
    "$$\n",
    "N\\left(t \\mid f(x_n), \\sigma^2\\right) = \\frac{1}{\\sqrt{2 \\pi \\sigma^2}} \\mathrm{e}^{-\\frac{1}{2 \\sigma^2} \\left\\{ t - f(x_n) \\right\\}^2} \\tag{3.5}\n",
    "$$\n",
    "\n",
    "$$\n",
    "f(x) = \\sum_{m=0}^Mw_mx^m \\tag{3.6}\n",
    "$$\n",
    "\n",
    "ここでこのモデルのパラメーターは(3.6)の係数$\\left\\{w_m\\right\\}_{m=0}^M$と(3.5)の標準偏差$\\sigma$である。"
   ]
  },
  {
   "cell_type": "markdown",
   "metadata": {},
   "source": [
    "### 尤度関数によるパラメーターの評価\n",
    "\n",
    "パラメトリックモデルの3つのステップの第2ステップ、パラメーターを評価する基準を定める。\n",
    "\n",
    "トレーニングセットに含まれるデータ$\\left\\{ x_n, t_n \\right\\}_{n=1}^N$の得られる確率$P$を以下の通り表す。\n",
    "\n",
    "$$\n",
    "\\begin{align*}\n",
    "P &= N(t_1 \\mid f(x_1), \\sigma^2)\\times \\cdots \\times N(t_N \\mid f(x_N), \\sigma^2) \\\\\n",
    "  &= \\prod_{n=1}^N N(t_n \\mid f(x_n), \\sigma^2) \\tag{3.8}\n",
    "\\end{align*}\n",
    "$$\n",
    "\n",
    "ここで$N$はある特定の観測点$x_n$で$t_n$が得られる確率で、以下式で表せる\n",
    "\n",
    "$$\n",
    "N(t_n \\mid f(x_n), \\sigma^2) = \\frac{1}{\\sqrt{2 \\pi \\sigma^2}} \\mathrm{e} ^ {\\left\\{ - \\frac{1}{2 \\sigma^2} t_n - f(x_n) \\right\\}^2} \\tag{3.7}\n",
    "$$\n",
    "\n",
    "(3.8)はパラメーター$\\left\\{ x_n, t_n \\right\\}_{n=1}^N$の関数であり、「トレーニングセットのデータが得られる確率」をパラメーターの関数とみなした尤度関数である。\n",
    "\n",
    "ここで「観測されたデータ(トレーニングセット)は、最も発生確率が高いデータに違いない」という仮定をして、(3.8)で計算される確率$P$が最大になるようにパラメーターを設定する。このようなパラメーターの決定の方法を最尤推定法をいう。"
   ]
  },
  {
   "cell_type": "markdown",
   "metadata": {},
   "source": [
    "(3.8)の$P$を最大にするパラメーターを求める。\n",
    "\n",
    "まず(3.7)を(3.8)に代入して\n",
    "\n",
    "$$\n",
    "\\begin{align*}\n",
    "P &= \\prod_{n=1}^N \\frac{1}{\\sqrt{2 \\pi \\sigma^2}} \\mathrm{e} ^ {\\left\\{ - \\frac{1}{2 \\sigma^2} t_n - f(x_n) \\right\\}^2} \\\\\n",
    "  &= (\\frac{1}{2 \\pi \\sigma^2})^{\\frac{N}{2}} \\exp{\\left[ -\\frac{1}{2 \\sigma^2} \\sum_{n=1}^{N} \\left\\{ t_n - f(x_n) \\right\\}^2 \\right]} \\tag{3.9}\n",
    "\\end{align*}\n",
    "$$\n",
    "\n",
    "ここで、以下の二乗誤差を\n",
    "\n",
    "$$\n",
    "E_D = \\frac{1}{2} \\sum_{n=1}^N \\left\\{ f(x_n) - t_n \\right\\}^2\n",
    "$$\n",
    "\n",
    "(3.9)に代入すると、尤度関数は以下のように表せる\n",
    "\n",
    "$$\n",
    "P = (\\frac{1}{2 \\pi \\sigma^2})^{\\frac{N}{2}} \\mathrm{e} ^ {- \\frac{1}{\\sigma^2} E_D} \\tag{3.11}\n",
    "$$\n",
    "\n",
    "パラメーターに対する依存性を確認する。(3.11)にはパラメータ$\\sigma$が$\\frac{1}{\\sigma^2}$という形のみで含まれているため、これを\n",
    "\n",
    "$$\n",
    "\\beta = \\frac{1}{\\sigma^2}\n",
    "$$\n",
    "\n",
    "とおいて$\\sigma$の代わりに$\\beta$をパラメーターとみなして計算を進める。また二乗誤差$E_D$は、多項式の係数$\\mathbf{w} = (w_0, \\cdots, w_M)^T$に依存しているため、パラメーター$(\\beta, \\mathbf{w})$に対する依存性を明示して\n",
    "\n",
    "$$\n",
    "P(\\beta, \\mathbf{w}) = (\\frac{\\beta}{2 \\pi})^{\\frac{N}{2}} \\mathrm{e}^{-\\beta E_D(\\mathbf{w})}\n",
    "$$\n",
    "\n",
    "これを最大にする$(\\beta, \\mathbf{w})$を求めたい。両辺の対数をとって\n",
    "\n",
    "$$\n",
    "\\ln{P(\\beta, \\mathbf{w})} = \\frac{N}{2}\\ln{\\beta} - \\frac{N}{2}\\ln{2 \\pi} -\\beta E_D(\\mathbf{w})\n",
    "$$\n",
    "\n",
    "対数は単調増加関数なので、$\\ln{P}$が最大となるようにパラメーターを求める。$\\ln{P}$を対数尤度関数という。これを最大にする$(\\beta, \\mathbf{w})$は以下条件で求まる。\n",
    "\n",
    "$$\n",
    "\\frac{\\partial(\\ln{P})}{\\partial w_m} = 0\\ \\ \\ (m = 0, \\cdots, M) \\tag{3.15}\n",
    "$$\n",
    "\n",
    "$$\n",
    "\\frac{\\partial(\\ln{P})}{\\partial \\beta} = 0 \\tag{3.16}\n",
    "$$\n",
    "\n",
    "まず(3.14)を(3.15)に代入すると\n",
    "\n",
    "$$\n",
    "\\frac{\\partial(\\ln{P})}{\\partial w_m} = \\frac{\\partial E_D}{\\partial w_m} = 0\\ \\ \\ (m = 0, \\cdots, M) \\tag{3.17}\n",
    "$$\n",
    "\n",
    "これは二乗誤差を最小にする条件と全く同じなので、多項式の係数$\\left\\{ w_m \\right\\}_{m=0}^M$は最小二乗法と同じ以下値となる。\n",
    "\n",
    "$$\n",
    "\\mathbf{w} = \\left(\\mathbf{\\Phi}^{\\mathrm{T}}\\mathbf{\\Phi}\\right)^{-1}\\mathbf{\\Phi}^{\\mathrm{T}}\\mathbf{t}\n",
    "$$\n",
    "\n",
    "次に(3.14)を(3.16)に代入すると\n",
    "\n",
    "$$\n",
    "\\begin{align*}\n",
    "\\frac{\\partial(\\ln{P})}{\\partial \\beta} &= \\frac{N}{2} \\cdot \\frac{1}{\\beta} - E_D(\\mathbf{w}) = 0 \\\\\n",
    "\\frac{1}{\\beta} &= \\frac{2E_D}{N} \\tag{3.18}\n",
    "\\end{align*}\n",
    "$$\n",
    "\n",
    "これに(3.12)を代入すると、標準偏差$\\sigma$を決定する以下式が得られる\n",
    "\n",
    "$$\n",
    "\\sigma = \\sqrt{\\frac{1}{\\beta}} = \\sqrt{\\frac{2E_D}{N}} \\tag{3.19}\n",
    "$$\n",
    "\n",
    "これは$E_{RMS}$―平方根平均二乗誤差である。つまり(3.19)は、トレーニングセットに含まれるデータの「多項式で推定される値$f(x_n)$に対する平均的な誤差」を標準偏差$\\sigma$の推定値として採用することを意味する。\n",
    "\n",
    "$$\n",
    "\\sigma = \\sqrt{\\frac{2E_D}{N}} = E_{RMS} = \\sqrt{ \\frac{1}{N} \\sum_{n=1}^N (\\sum_{m=0}^M w_mx_n - t_n)^2 }\n",
    "$$\n",
    "\n",
    "以上から、最尤推定方で正規分布を採用した場合、最小二乗法と全く同じ多項式が得られた。したがって最小二乗法は最尤推定法の中でも、正規分布の誤差を仮定した特別な場合に対応するとみなすことができる。"
   ]
  },
  {
   "cell_type": "code",
   "execution_count": 4,
   "metadata": {
    "collapsed": false
   },
   "outputs": [
    {
     "data": {
      "image/png": "[encoded data removed]",
      "text/plain": [
       "<matplotlib.figure.Figure at 0x7fd3b7fee8d0>"
      ]
     },
     "metadata": {},
     "output_type": "display_data"
    }
   ],
   "source": [
    "# 最尤推定で解を求める\n",
    "def resolve(dataset, m):\n",
    "    t = dataset.y\n",
    "    phi = DataFrame()\n",
    "    for i in range(0, m + 1):\n",
    "        p = dataset.x ** i\n",
    "        p.name = \"x**%d\" % i\n",
    "        phi = pd.concat([phi, p], axis=1)\n",
    "    tmp = np.linalg.inv(np.dot(phi.T, phi))\n",
    "    ws = np.dot(np.dot(tmp, phi.T), t)\n",
    "    \n",
    "    def f(x):\n",
    "        y = 0.0\n",
    "        for i, w in enumerate(ws):\n",
    "            y += w * (x ** i)\n",
    "        return y\n",
    "    \n",
    "    sigma2 = 0.0\n",
    "    for index, line in dataset.iterrows():\n",
    "        sigma2 += (f(line.x) - line.y) ** 2\n",
    "    sigma2 /= len(dataset)\n",
    "    \n",
    "    return (f, ws, np.sqrt(sigma2))\n",
    "\n",
    "train_set = create_dataset(N)\n",
    "test_set = create_dataset(N)\n",
    "df_ws = DataFrame()\n",
    "\n",
    "fig = plt.figure(figsize=(8, 6))\n",
    "\n",
    "for c, m in enumerate(M):\n",
    "    f, ws, sigma = resolve(train_set, m)\n",
    "    df_ws = df_ws.append(Series(ws, name=\"M=%d\" % m))\n",
    "    \n",
    "    subplot = fig.add_subplot(2, 2, c+1)\n",
    "    subplot.set_xlim(-0.05, 1.05)\n",
    "    subplot.set_ylim(-1.5, 1.5)\n",
    "    subplot.set_title(\"M=%d\" % m)\n",
    "    \n",
    "    # トレーニングセットを表示\n",
    "    subplot.scatter(train_set.x, train_set.y, marker='o', color='b')\n",
    "    \n",
    "    # 真の曲線を表示\n",
    "    linex = np.linspace(0, 1, 101)\n",
    "    liney = np.sin(2 * np.pi * linex)\n",
    "    subplot.plot(linex, liney, color='g', linestyle='--')\n",
    "    \n",
    "    # 多項式近似の曲線を表示\n",
    "    linex = np.linspace(0, 1, 101)\n",
    "    liney = f(linex)\n",
    "    label = \"Sigma=%.2f\" % sigma\n",
    "    subplot.plot(linex, liney, color='r', label=label)\n",
    "    subplot.plot(linex, liney + sigma, color='r', linestyle='--')\n",
    "    subplot.plot(linex, liney - sigma, color='r', linestyle='--')    \n",
    "    subplot.legend(loc=1)"
   ]
  },
  {
   "cell_type": "markdown",
   "metadata": {},
   "source": [
    "#### オーバーフィッティングの検出\n",
    "\n",
    "トレーニングセットとは別に用意しいたテストセットに対する予測の精度を確認する。最尤推定法では、対象となるデータが得られる確率、すなわち尤度関数(3.8)の値の変化をみる。ここでは事前に用意したトレーニングセットとテストセットを用いて、それぞれに対する対数尤度関数を計算する。これは尤度関数は値が大きく変動するので、グラフを見やすくするために対数で計算する。"
   ]
  },
  {
   "cell_type": "code",
   "execution_count": 5,
   "metadata": {
    "collapsed": false
   },
   "outputs": [
    {
     "data": {
      "text/plain": [
       "<matplotlib.axes._subplots.AxesSubplot at 0x7fd3b7fd68d0>"
      ]
     },
     "execution_count": 5,
     "metadata": {},
     "output_type": "execute_result"
    },
    {
     "data": {
      "image/png": "[encoded data removed]",
      "text/plain": [
       "<matplotlib.figure.Figure at 0x7fd3ba303cc0>"
      ]
     },
     "metadata": {},
     "output_type": "display_data"
    }
   ],
   "source": [
    "# 最大対数尤度(Maximum log likelihood)を計算\n",
    "def log_likelihood(dataset, f):\n",
    "    dev = 0.0\n",
    "    n = float(len(dataset))\n",
    "    for index, line in dataset.iterrows():\n",
    "        x, y = line.x, line.y\n",
    "        dev += (y - f(x)) ** 2\n",
    "    err = dev * 0.5\n",
    "    beta = n / dev\n",
    "    lp = - beta * err + 0.5 * n * np.log(0.5 * beta / np.pi)\n",
    "    return lp\n",
    "\n",
    "df = DataFrame()\n",
    "train_mlh = []\n",
    "test_mlh = []\n",
    "\n",
    "for m in range(min(M), max(M)):\n",
    "    f, ws, sigma = resolve(train_set, m)\n",
    "    train_mlh.append(log_likelihood(train_set, f))\n",
    "    test_mlh.append(log_likelihood(test_set, f))\n",
    "    \n",
    "df = pd.concat([\n",
    "    df,\n",
    "    DataFrame(train_mlh, columns=['Training set']),\n",
    "    DataFrame(test_mlh, columns=['Test set'])\n",
    "], axis=1)\n",
    "\n",
    "df.plot(title='Log likelihood for N=%d' % N, grid=True, style=['-', '--'])"
   ]
  },
  {
   "cell_type": "code",
   "execution_count": null,
   "metadata": {
    "collapsed": true
   },
   "outputs": [],
   "source": []
  }
 ],
 "metadata": {
  "kernelspec": {
   "display_name": "Python 3",
   "language": "python",
   "name": "python3"
  },
  "language_info": {
   "codemirror_mode": {
    "name": "ipython",
    "version": 3
   },
   "file_extension": ".py",
   "mimetype": "text/x-python",
   "name": "python",
   "nbconvert_exporter": "python",
   "pygments_lexer": "ipython3",
   "version": "3.4.3"
  }
 },
 "nbformat": 4,
 "nbformat_minor": 0
}
