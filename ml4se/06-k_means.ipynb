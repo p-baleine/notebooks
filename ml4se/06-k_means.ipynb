{
 "cells": [
  {
   "cell_type": "markdown",
   "metadata": {},
   "source": [
    "# k平均法\n",
    "\n",
    "## k平均法によるクラスタリングと応用例\n",
    "\n",
    "### 教師なし学習モデルとしてのクラスタリング\n",
    "\n",
    "k平均法は「教師なし学習」、トレーニングセットとして与えられるデータは目的変数を持たない。クラスタリングを行うには、何らかの方法で、グループ分けの良し悪しを判断する基準を事前に設定する必要がある。ここでは「二乗歪み」と呼ばれる値を定義し、これをなるべく小さくするグループ分けの方法を見つけ出す。\n",
    "\n",
    "### k平均法によるクラスタリング\n",
    "\n",
    "例として、$(x, y)$平面上の多数の点$\\left\\{ (x_n, y_n) \\right\\}_{n=1}^N$が与えられたとする。このデータを2つのクラスターに分類する。この後の説明では$(x, y)$平面上の点はベクトル記号で表記する($\\mathbf{x} = (x_n, y_n) ^ {\\mathrm{T}}$)。\n",
    "\n",
    "まずそれぞれのクラスターの代表点$\\left\\{\\mathbf{\\mu}_k\\right\\}_{k=1}^2$を設定する。続いて、トレーニングセットの各点について、「どちらの代表点に所属するか」を、代表点との距離$\\| \\mathbf{x}_n - \\mathbf{\\mu}_k \\|$を計算して、距離が短い方の代表点に所属すると決める。それぞれの点がどちらの代表点に所属するかを示す変数$r_{nk}$を以下のとおり定義する。\n",
    "\n",
    "$$\n",
    "r_{nk} = \\begin{cases}\n",
    "    1 & x_nがk番目の代表点に所属する場合 \\\\\n",
    "    0 & それ以外の場合\n",
    "\\end{cases}\n",
    "$$\n",
    "\n",
    "次に、現在のクラスターを元にして、あらたな代表点をとりなおす。代表点としては、それぞれのクラスターに所属する点の「重心」をあらたな代表点とする。\n",
    "\n",
    "$$\n",
    "\\begin{align*}\n",
    "\\mathbf{\\mu}_k &= \\frac{\\sum \\mathbf{x}_n}{N_k} \\ \\ \\ (k = 1, 2) \\tag{6.2} \\\\\n",
    "&= \\frac{\\sum_{n=1}^N r_{nk} \\mathbf{x}_n}{\\sum_{n=1}^N r_{nk}} \\tag{6.3}\n",
    "\\end{align*}\n",
    "$$\n",
    "\n",
    "この新たな代表点を元にして、トレーニングセットの各点がどちらの代表点に所属するかを決めなおす。後は同じ手続きを繰り返していく。"
   ]
  },
  {
   "cell_type": "code",
   "execution_count": null,
   "metadata": {
    "collapsed": true
   },
   "outputs": [],
   "source": []
  },
  {
   "cell_type": "code",
   "execution_count": null,
   "metadata": {
    "collapsed": true
   },
   "outputs": [],
   "source": []
  }
 ],
 "metadata": {
  "kernelspec": {
   "display_name": "Python 3",
   "language": "python",
   "name": "python3"
  },
  "language_info": {
   "codemirror_mode": {
    "name": "ipython",
    "version": 3
   },
   "file_extension": ".py",
   "mimetype": "text/x-python",
   "name": "python",
   "nbconvert_exporter": "python",
   "pygments_lexer": "ipython3",
   "version": "3.5.0"
  }
 },
 "nbformat": 4,
 "nbformat_minor": 0
}
