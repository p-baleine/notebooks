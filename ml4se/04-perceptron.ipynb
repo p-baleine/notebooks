{
 "cells": [
  {
   "cell_type": "markdown",
   "metadata": {},
   "source": [
    "# パーセプトロン\n",
    "\n",
    "## サンプルデータ"
   ]
  },
  {
   "cell_type": "code",
   "execution_count": 1,
   "metadata": {
    "collapsed": true
   },
   "outputs": [],
   "source": [
    "%matplotlib inline\n",
    "import numpy as np\n",
    "import matplotlib.pyplot as plt\n",
    "import pandas as pd\n",
    "from pandas import Series, DataFrame\n",
    "from numpy.random import multivariate_normal"
   ]
  },
  {
   "cell_type": "code",
   "execution_count": 2,
   "metadata": {
    "collapsed": true
   },
   "outputs": [],
   "source": [
    "N1 = 20 # クラス t=+1 のデータ数\n",
    "Mu1 = [15, 10] # クラス t=+1 の中心座標\n",
    "N2 = 30 # クラス t=+2 のデータ数\n",
    "Mu2 = [0, 0] # クラス t=+2 の中心座標\n",
    "\n",
    "Variances = [15, 30] #両クラス共通の分散(2種類の分散で計算を実施)"
   ]
  },
  {
   "cell_type": "code",
   "execution_count": 3,
   "metadata": {
    "collapsed": false
   },
   "outputs": [
    {
     "data": {
      "text/plain": [
       "<matplotlib.collections.PathCollection at 0x10f93c710>"
      ]
     },
     "execution_count": 3,
     "metadata": {},
     "output_type": "execute_result"
    },
    {
     "data": {
      "image/png": "[encoded data removed]",
      "text/plain": [
       "<matplotlib.figure.Figure at 0x10f8a69e8>"
      ]
     },
     "metadata": {},
     "output_type": "display_data"
    }
   ],
   "source": [
    "# データセット {x_n, y_n, type_n} を容易\n",
    "def prepare_dataset(variance):\n",
    "    cov1 = np.array([[variance, 0], [0, variance]])\n",
    "    cov2 = np.array([[variance, 0], [0, variance]])\n",
    "    \n",
    "    df1 = DataFrame(multivariate_normal(Mu1, cov1, N1), columns=['x', 'y'])\n",
    "    df1['type' ] = 1\n",
    "    df2 = DataFrame(multivariate_normal(Mu2, cov2, N2), columns=['x', 'y'])\n",
    "    df2['type' ] = -1\n",
    "    df = pd.concat([df1, df2], ignore_index=True)\n",
    "    df = df.reindex(np.random.permutation(df.index)).reset_index(drop=True)\n",
    "    return df\n",
    "\n",
    "set = prepare_dataset(Variances[0])\n",
    "set1 = set[set['type'] == 1]\n",
    "set2 = set[set['type'] == -1]\n",
    "plt.scatter(set1.x, set1.y, marker='o')\n",
    "plt.scatter(set2.x, set2.y, marker='x')\n",
    "    "
   ]
  },
  {
   "cell_type": "markdown",
   "metadata": {},
   "source": [
    "$t=\\pm-1$の2種類の属性を持つデータを分類する直線を発見する。直線を決定するアルゴリズムとして、誤差関数を用いて、誤差を最小にするパラメーターを決定するために確率的勾配降下法(stochastic gradient descent, SGD)を利用する。"
   ]
  },
  {
   "cell_type": "markdown",
   "metadata": {},
   "source": [
    "## 確率的勾配降下法のアルゴリズム\n",
    "\n",
    "### 平面を分割する直線の方程式\n",
    "\n",
    "パラメトリックモデルのステップ1、パラメーターを含むモデル(数式)を設定する。\n",
    "\n",
    "$(x, y)$平面を分割する直線として、以下の線形関数$f(x, y)$を用意する。\n",
    "\n",
    "$$\n",
    "f(x, y) = w_0 + w_1 x + w_2 + t \\tag{4.1}\n",
    "$$\n",
    "\n",
    "この時$(x, y)$平面を分割する直線は、次式で表される。\n",
    "\n",
    "$$\n",
    "f(x, y) = 0 \\tag{4.2}\n",
    "$$\n",
    "\n",
    "ここでは次のルールで、データを分類する。\n",
    "\n",
    "$$\n",
    "f(x, y) > 0 \\Rightarrow t = +1 \\tag{4.3}\n",
    "$$\n",
    "\n",
    "$$\n",
    "f(x, y) < 0 \\Rightarrow t = -1 \\tag{4.4}\n",
    "$$\n",
    "\n",
    "このとき、トレーニングセットとして与えられたデータ$\\left\\{ (x_n, y_n, t_n) \\right\\}_{n=1}^N$について、それぞれ正しく分類されているかは、以下のルールで判定することができる。\n",
    "\n",
    "$$\n",
    "f(x_n, y_n) \\times t_n > 0 : 正解 \\tag{4.5}\n",
    "$$\n",
    "\n",
    "$$\n",
    "f(x_n, y_n) \\times t_n < 0 : 不正解 \\tag{4.6}\n",
    "$$\n",
    "\n",
    "すべての$(x_n, y_n, t_n)$について、(4.5)が成り立つような直線、すなわち、(4.1)の係数$(w_0, w_1, w_2)$を見つけることが目標になる。"
   ]
  },
  {
   "cell_type": "markdown",
   "metadata": {},
   "source": [
    "### 誤差関数による分類結果の評価\n",
    "\n",
    "パラメトリックモデルのステップ2、パラメーターを評価する基準を決める。\n",
    "\n",
    "パラメーターの評価基準として、正しく分類できなかった点、すなわち、(4.6)が成り立つ点が合った場合に、これを誤差―誤って判定したペナルティとする。ペナルティの合計値が小さいほど正しい分類に近いものと考える。\n",
    "\n",
    "正しく分類できなかった任意の点の誤差として以下値を採用する。\n",
    "\n",
    "$$\n",
    "E_n = |f(x_n, y_n)| \\tag{4.7}\n",
    "$$\n",
    "\n",
    "分類の誤差は、誤って分類された点の誤差を合計したもので、以下$E$となる。\n",
    "\n",
    "$$\n",
    "E = \\sum_n E_n = \\sum_n |f(x_n, y_n)| \\tag{4.8}\n",
    "$$\n",
    "\n",
    "(4.8)について、(4.6)を満たすので以下の関係式が成り立つ。\n",
    "\n",
    "$$\n",
    "|f(x_n, y_n)| = -f(x_n, y_n) \\times t_n \\tag{4.9}\n",
    "$$\n",
    "\n",
    "(4.9)と(4.1)を用いて(4.8)は次のように表せる。\n",
    "\n",
    "$$\n",
    "E = - \\sum_n (w_0 + w_1x_n + w_2y_n)t_n \\tag{4.10}\n",
    "$$\n",
    "\n",
    "あるいはベクトルを用いて以下のとおり表せる。\n",
    "\n",
    "$$\n",
    "E = - \\sum_n t_n \\mathbf{w}^\\mathrm{T} \\phi_n \\tag{4.11}\n",
    "$$\n",
    "\n",
    "ここで$\\mathbf{w}$と$\\phi_n$は次で定義されるベクトルである。\n",
    "\n",
    "$$\n",
    "\\mathbf{w} = \\left(\n",
    "    \\begin{array}{c}\n",
    "    w_0 \\\\\n",
    "    w_1 \\\\\n",
    "    w_2 \\\\\n",
    "    \\end{array}\n",
    "\\right) \\tag{4.12}\n",
    "$$\n",
    "\n",
    "$$\n",
    "\\mathbf{\\phi_n} = \\left(\n",
    "    \\begin{array}{c}\n",
    "    1 \\\\\n",
    "    x_n \\\\\n",
    "    y_n \\\\\n",
    "    \\end{array}\n",
    "\\right) \\tag{4.13}\n",
    "$$\n",
    "\n",
    "ここで$\\phi_n$の第一成分$1$は、係数$w_0$に対する成分で、バイアス項と呼ばれる。"
   ]
  },
  {
   "cell_type": "markdown",
   "metadata": {},
   "source": [
    "### 勾配ベクトルによるパラメーターの修正\n",
    "\n",
    "パラメトリックモデルのステップ3、最良の評価を与えるパラメーターを決定する。\n",
    "\n",
    "(4.11)で計算される誤差$E$を最小にするパラメーター$\\mathbf{w}$を求める。\n",
    "\n",
    "(4.11)の勾配ベクトルが$\\mathbf{0}$になるようにしたい、\n",
    "\n",
    "$$\n",
    "\\nabla E(\\mathbf{w}) = - \\sum_n t_n \\mathbf{\\phi_n} = 0 \\tag{4.15}\n",
    "$$\n",
    "\n",
    "ここで勾配ベクトルは\n",
    "\n",
    "$$\n",
    "\\nabla E(\\mathbf{w}) = \\left(\n",
    "    \\begin{array}{c}\n",
    "    \\partial{E} / \\partial{w_0} \\\\\n",
    "    \\partial{E} / \\partial{w_1} \\\\\n",
    "    \\partial{E} / \\partial{w_2} \\\\\n",
    "    \\end{array}\n",
    "\\right) \\tag{4.16}\n",
    "$$\n",
    "\n",
    "純粋な式変換で$\\mathbf{w}$を求めることは不可能なので、数値計算を用いて$\\mathbf{w}$の値を修正しながら、誤差$E$がなるべく小さくなるものを求める。\n",
    "\n",
    "$\\mathbf{w}$の値を任意に決めた際に、その点で計算される勾配ベクトル$\\nabla E(\\mathbf{w})$の反対方向、すなわち、次式の方向に$\\mathbf{w}$を修正することで誤差$E(\\mathbf{w})$の値を小さくすることが可能である。\n",
    "\n",
    "$$\n",
    "- \\nabla E(\\mathbf{w}) = \\sum_n t_n \\phi_n \\tag{4.20}\n",
    "$$\n",
    "\n",
    "勾配ベクトルの反対方向にパラメーターを修正して、「誤差の谷」を降っていくという考え方から、「確率的勾配降下法」の「勾配降下」という言葉が来ている。\n",
    "\n",
    "(4.20)の右辺は、「正しく分類されなかった点」についてそれぞれ$t_n\\phi_n$を計算して合計することを意味するが、データ数が膨大にある場合にはこの計算に時間がかかる。そのため、正しく分類されていない点$(x_n, y_n)$をどれか一つ選んで、とりあえずその分だけパラメーターを修正し、\n",
    "\n",
    "$$\n",
    "\\mathbf{w}_{new} = \\mathbf{w}_{old} + t_n\\phi_n \\tag{4.21}\n",
    "$$\n",
    "\n",
    "得られた新しい$\\mathbf{w}$の元で、別の正しく分類されていない点を一つ選んで同様に(4.21)の修正を行う、という行為を繰り返す。これが「確率的」の所以。"
   ]
  },
  {
   "cell_type": "code",
   "execution_count": 4,
   "metadata": {
    "collapsed": false
   },
   "outputs": [
    {
     "data": {
      "image/png": "[encoded data removed]",
      "text/plain": [
       "<matplotlib.figure.Figure at 0x10f9c8358>"
      ]
     },
     "metadata": {},
     "output_type": "display_data"
    }
   ],
   "source": [
    "fig = plt.figure()\n",
    "\n",
    "# Perceptronのアルゴリズム(確率的勾配降下法)を実行\n",
    "def run_simulation(variance, data_graph, param_graph):\n",
    "    train_set = prepare_dataset(variance)\n",
    "    train_set1 = train_set[train_set['type'] == 1]\n",
    "    train_set2 = train_set[train_set['type'] == -1]\n",
    "    ymin, ymax = train_set.y.min() - 5, train_set.y.max() + 10\n",
    "    xmin, xmax = train_set.x.min() - 5, train_set.x.max() + 10\n",
    "    data_graph.set_ylim([ymin - 1, ymax + 1])\n",
    "    data_graph.set_xlim([xmin - 1, xmax + 1])\n",
    "    data_graph.scatter(train_set1.x, train_set1.y, marker='o')\n",
    "    data_graph.scatter(train_set2.x, train_set2.y, marker='x')\n",
    "    \n",
    "    #  パラメーターの初期値とbias項の設定\n",
    "    w0 = w1 = w2 = 0.0\n",
    "    bias = 0.5 * (train_set.x.mean() + train_set.y.mean())\n",
    "    \n",
    "    # Iterationを30回実施\n",
    "    paramhist = DataFrame([[w0, w1, w2]], columns=['w0', 'w1', 'w2'])\n",
    "    for i in range(30):\n",
    "        for index, point in train_set.iterrows():\n",
    "            x, y, type = point.x, point.y, point.type\n",
    "            if type * (w0 * bias + w1 * x + w2 * y) <= 0:\n",
    "                w0 += type * 1\n",
    "                w1 += type * x\n",
    "                w2 += type * y\n",
    "        paramhist = paramhist.append(\n",
    "                                Series([w0, w1, w2], ['w0', 'w1', 'w2']),\n",
    "                                ignore_index=True)\n",
    "    \n",
    "    # 判定誤差の計算\n",
    "    err = 0\n",
    "    for index, point in train_set.iterrows():\n",
    "        x, y, type = point.x, point.y, point.type\n",
    "        if type * (w0 * bias + w1 * x + w2 * y) <= 0:\n",
    "            err += 1\n",
    "    err_rate = err * 100 / len(train_set)\n",
    "    \n",
    "    # 結果の表示\n",
    "    linex = np.arange(xmin - 5, xmax + 5)\n",
    "    liney = - linex * w1 / w2 - bias * w0 / w2\n",
    "    label = \"ERR %.2f%%\" % err_rate\n",
    "    data_graph.plot(linex, liney, label=label, color='r')\n",
    "    data_graph.legend(loc=1)\n",
    "    paramhist.plot(ax=param_graph)\n",
    "    param_graph.legend(loc=1)\n",
    "\n",
    "# 2種類の分散で実行\n",
    "for c, variance in enumerate(Variances):\n",
    "    subplots1 = fig.add_subplot(2, 2, c + 1)\n",
    "    subplots2 = fig.add_subplot(2, 2, c + 2 + 1)\n",
    "    run_simulation(variance, subplots1, subplots2)"
   ]
  },
  {
   "cell_type": "markdown",
   "metadata": {},
   "source": [
    "ここで$\\phi_n$のバイアス項の値として\n",
    "\n",
    "$$\n",
    "\\frac{1}{2N}\\sum_{n=1}^N(x_n + y_n)\n",
    "$$\n",
    "\n",
    "を採用している。試行一回ごとに$w_0$はバイアス項の分だけ変化するため、このようにバイアス項の値を適切に調整することでアルゴリズムの収束速度を改善することができる。"
   ]
  },
  {
   "cell_type": "markdown",
   "metadata": {},
   "source": [
    "### バイアス項の幾何学的な意味"
   ]
  },
  {
   "cell_type": "code",
   "execution_count": null,
   "metadata": {
    "collapsed": true
   },
   "outputs": [],
   "source": []
  }
 ],
 "metadata": {
  "kernelspec": {
   "display_name": "Python 3",
   "language": "python",
   "name": "python3"
  },
  "language_info": {
   "codemirror_mode": {
    "name": "ipython",
    "version": 3
   },
   "file_extension": ".py",
   "mimetype": "text/x-python",
   "name": "python",
   "nbconvert_exporter": "python",
   "pygments_lexer": "ipython3",
   "version": "3.5.0"
  }
 },
 "nbformat": 4,
 "nbformat_minor": 0
}
