{
 "cells": [
  {
   "cell_type": "markdown",
   "metadata": {},
   "source": [
    "# ロジスティック回帰とROC曲線\n",
    "\n",
    "## サンプルデータ"
   ]
  },
  {
   "cell_type": "code",
   "execution_count": 1,
   "metadata": {
    "collapsed": true
   },
   "outputs": [],
   "source": [
    "%matplotlib inline\n",
    "import numpy as np\n",
    "import matplotlib.pyplot as plt\n",
    "import pandas as pd\n",
    "from pandas import Series, DataFrame\n",
    "from numpy.random import rand, multivariate_normal\n",
    "\n",
    "pd.options.mode.chained_assignment = None"
   ]
  },
  {
   "cell_type": "code",
   "execution_count": 2,
   "metadata": {
    "collapsed": true
   },
   "outputs": [],
   "source": [
    "Variances = [5, 10, 30, 50] # 両クラス共通の分散(4種類の分散で計算を実施)"
   ]
  },
  {
   "cell_type": "code",
   "execution_count": 4,
   "metadata": {
    "collapsed": false
   },
   "outputs": [
    {
     "data": {
      "text/plain": [
       "<matplotlib.collections.PathCollection at 0x10cb9a748>"
      ]
     },
     "execution_count": 4,
     "metadata": {},
     "output_type": "execute_result"
    },
    {
     "data": {
      "image/png": "[encoded data removed]",
      "text/plain": [
       "<matplotlib.figure.Figure at 0x10cb0d8d0>"
      ]
     },
     "metadata": {},
     "output_type": "display_data"
    }
   ],
   "source": [
    "def prepare_dataset(variance):\n",
    "    n1 = 10\n",
    "    n2 = 10\n",
    "    mu1 = [7, 7]\n",
    "    mu2 = [-3, -3]\n",
    "    cov1 = np.array([[variance, 0], [0, variance]])\n",
    "    cov2 = np.array([[variance, 0], [0, variance]])\n",
    "    \n",
    "    df1 = DataFrame(multivariate_normal(mu1, cov1, n1), columns=['x', 'y'])\n",
    "    df1['type'] = 1\n",
    "    df2 = DataFrame(multivariate_normal(mu2, cov2, n2), columns=['x', 'y'])\n",
    "    df2['type'] = 0\n",
    "    df = pd.concat([df1, df2], ignore_index=True)\n",
    "    df = df.reindex(np.random.permutation(df.index)).reset_index(drop=True)\n",
    "    return df\n",
    "\n",
    "set = prepare_dataset(Variances[3])\n",
    "set1 = set[set['type'] == 1]\n",
    "set2 = set[set['type'] == 0]\n",
    "plt.scatter(set1.x, set1.y, marker='o')\n",
    "plt.scatter(set2.x, set2.y, marker='x')"
   ]
  },
  {
   "cell_type": "markdown",
   "metadata": {},
   "source": [
    "ロジスティック回帰を用いて上記データを分類する。ロジスティック回帰では、確率を用いた最尤推定法でパラメーターを決定する。最尤推定法では「あるデータが得られる確率」を設定しておき、そこから逆にトレーニングセットで与えられるデータが得られる確率(尤度関数)を計算して、尤度関数が最大となるという条件から、最初に設定した確率の式に含まれるパラメーターを決定する。"
   ]
  },
  {
   "cell_type": "markdown",
   "metadata": {},
   "source": [
    "## 分類問題への最尤推定法の適用\n",
    "\n",
    "### データの発生確率の設定\n",
    "\n",
    "2種類のデータを分割する直線を表す線形関数$f(x, y)$を次式で定義する。\n",
    "\n",
    "$$\n",
    "f(x, y) = w_0 + w_1x + w_2y \\tag{5.1}\n",
    "$$\n",
    "\n",
    "次に、$(x, y)$平面上の任意の点において、そこで得られるデータの属性が$t=1$である確率を考える。ここでは$f(x, y)$の値に対して、ロジスティック関数で得られる確率を対応させる。\n",
    "\n",
    "$$\n",
    "\\sigma(a) = \\frac{1}{1 + \\mathrm{e} ^ {-a}} \\tag{5.2}\n",
    "$$\n",
    "\n",
    "以上から点$(x, y)$で得られたデータの属性が$t=1$である確率は次式で表せる。\n",
    "\n",
    "$$\n",
    "P(x, y) = \\sigma(w_0 + w_1x + w_2y) \\tag{5.3}\n",
    "$$\n",
    "\n",
    "次に、トレーニングセットとして与えられたデータ$\\left\\{ (x_n, y_n, t_n) \\right\\}_{n=1}^N$が得られる確率を考える。まず、特定の一つのデータ$(x_n, y_n, t_n)$について考えると、そのようなデータが得られる確率は次式で表せる。\n",
    "\n",
    "$$\n",
    "\\begin{align*}\n",
    "t_n = 1の場合 &: P(x_n, y_n) \\tag{5.4} \\\\\n",
    "t_n = 0の場合 &: 1 - P(x_n, y_n) \\tag{5.5}\n",
    "\\end{align*}\n",
    "$$\n",
    "\n",
    "これらはまとめて以下の式で表せる。\n",
    "\n",
    "$$\n",
    "P_n = P(x_n, y_n)^{t_n} \\left\\{ 1 - P(x_n, y_n) \\right\\} ^ {1 - t_n} \\tag{5.6}\n",
    "$$\n",
    "\n",
    "(5.6)に(5.3)を代入すると以下式が得られる。\n",
    "\n",
    "$$\n",
    "P_n = z_n^{t_n}(1 - z_n) ^ {1 - t_n} \\tag{5.9}\n",
    "$$\n",
    "\n",
    "ここで$z_n$は「n番目のデータの属性が$t=1$である確率」で次式で表せる。\n",
    "\n",
    "$$\n",
    "\\begin{align*}\n",
    "z_n &= \\sigma(\\mathbf{w}^\\mathrm{T} \\mathbf{\\phi_n}) \\tag{5.10} \\\\\n",
    "\\mathbf{w} &= \\left(\n",
    "    \\begin{array}{c}\n",
    "    w_0 \\\\\n",
    "    w_1 \\\\\n",
    "    w_2 \\\\\n",
    "    \\end{array}\n",
    "\\right) \\tag{5.11} \\\\\n",
    "\\mathbf{\\phi_n} &= \\left(\n",
    "    \\begin{array}{c}\n",
    "    1 \\\\\n",
    "    x_n \\\\\n",
    "    y_n \\\\\n",
    "    \\end{array}\n",
    "\\right) \\tag{5.12}\n",
    "\\end{align*}\n",
    "$$\n",
    "\n",
    "最後に、トレーニングセットに含まれるデータが得られる確率は確率(5.9)の積になり次式で表せる。\n",
    "\n",
    "$$\n",
    "P = \\prod_{n=1}^N P_n = \\prod_{n=1}^N z_n^{t_n} (1 - z_n) ^ {1 - t_n} \\tag{5.13}\n",
    "$$"
   ]
  },
  {
   "cell_type": "markdown",
   "metadata": {},
   "source": [
    "### 最尤推定法によるパラメーターの決定\n",
    "\n",
    "(5.13)はトレーニングセットが得られる確率$P$をパラメーター$\\mathbf{w}$の関数としてみたもので、尤度関数である。最尤推定法ではこの尤度関数を最大にする$\\mathbf{w}$を決定する。そのためには、確率$P$の値が大きくなる方向に$\\mathbf{w}$を修正する手順を繰り返すアルゴリズムを採用する。アルゴリズムとしては、「ニュートン・ラフソン法」を適用した以下を用いる(<font color=\"red\">ニュートン・ラフソン法はまだ理解できてない</font>)。\n",
    "\n",
    "$$\n",
    "\\mathbf{w_{new}} = \\mathbf{w_{old}} - (\\mathbf{\\Phi} ^ \\mathrm{T} \\mathbf{R} \\mathbf{\\Phi}) ^ {-1} \\mathbf{\\Phi} ^ \\mathrm{T} (\\mathbf{z} - \\mathbf{t}) \\tag{5.14}\n",
    "$$\n",
    "\n",
    "$$\n",
    "\\begin{align*}\n",
    "\\mathbf{t} &= \\left(\n",
    "    \\begin{array}{c}\n",
    "    t_1 \\\\\n",
    "    \\vdots \\\\\n",
    "    t_N\n",
    "    \\end{array}\n",
    "\\right) \\tag{5.15} \\\\\n",
    "\\mathbf{\\Phi} &= \\left(\n",
    "    \\begin{array}{c}\n",
    "    1 & x_1 & y_1 \\\\\n",
    "    1 & x_2 & y_2 \\\\\n",
    "    \\vdots & \\vdots & \\vdots \\\\\n",
    "    1 & x_N & y_N \\\\\n",
    "    \\end{array}\n",
    "\\right) \\tag{5.16} \\\\\n",
    "\\mathbf{z} = &= \\left(\n",
    "    \\begin{array}{c}\n",
    "    z_1 \\\\\n",
    "    \\vdots \\\\\n",
    "    z_N\n",
    "    \\end{array}\n",
    "\\right) \\tag{5.17} \\\\\n",
    "\\mathbf{R} &= \\mathrm{diag}[z_1(1 - z_1), \\cdots, z_N(1 - z_N)] \\tag{5.18}\n",
    "\\end{align*}\n",
    "$$\n",
    "\n",
    "ここで$\\mathbf{t}$と$\\mathbf{\\Phi}$はトレーニングセットのデータから決まる定数のベクトル／行列、一方$\\mathbf{z}$と$\\mathbf{R}$に含まれる$z_n$はパラメーター$\\mathbf{w}$に依存している。従って、パラメーター$\\mathbf{w_{old}}$が与えられた際に、これを用いて$\\mathbf{z}$と$\\mathbf{R}$を計算して、これを(5.14)に代入することで新しい$\\mathbf{w_{new}}$が求まる。これを繰り返すことで確立$P$を最大にする$\\mathbf{w}$を求める。\n",
    "\n",
    "この試行は、次式が成立した時点で計算を打ち切るようにする。\n",
    "\n",
    "$$\n",
    "\\frac{\\| \\mathbf{w_{new}} - \\mathbf{w_{old}} \\| ^ 2}{\\| \\mathbf{w_{old}} \\| ^ 2} < 0.001 \\tag{5.19}\n",
    "$$"
   ]
  },
  {
   "cell_type": "code",
   "execution_count": 10,
   "metadata": {
    "collapsed": false
   },
   "outputs": [
    {
     "data": {
      "image/png": "[encoded data removed]",
      "text/plain": [
       "<matplotlib.figure.Figure at 0x10d18a5f8>"
      ]
     },
     "metadata": {},
     "output_type": "display_data"
    }
   ],
   "source": [
    "# ロジスティック回帰\n",
    "def run_logistic(train_set, subplot):\n",
    "    w = np.array([[0], [0.1], [0.1]])\n",
    "    phi = train_set[['x', 'y']]\n",
    "    phi['bias'] = 1\n",
    "    phi = phi.as_matrix(columns=['bias', 'x', 'y'])\n",
    "    t = train_set[['type']]\n",
    "    t = t.as_matrix()\n",
    "    \n",
    "    # 最大30回のIterationを実施\n",
    "    for i in range(30):\n",
    "        # IRLS法によるパラメーターの修正\n",
    "        y = np.array([])\n",
    "        for line in phi:\n",
    "            a = np.dot(line, w)\n",
    "            y = np.append(y, [1.0 / (1.0 + np.exp(-a))])\n",
    "        r = np.diag(y * (1 - y))\n",
    "        y = y[np.newaxis,:].T\n",
    "        tmp1 = np.linalg.inv(np.dot(np.dot(phi.T, r), phi))\n",
    "        tmp2 = np.dot(phi.T, (y - t))\n",
    "        w_new = w - np.dot(tmp1, tmp2)\n",
    "        # パラメーターの変化が0.1%1未満になったら終了\n",
    "        if np.dot((w_new - w).T, (w_new - w)) < 0.001 * np.dot(w.T, w):\n",
    "            w = w_new\n",
    "            break\n",
    "        w = w_new\n",
    "        \n",
    "    # 分類誤差の計算\n",
    "    w0, w1, w2 = w[0], w[1], w[2]\n",
    "    err = 0\n",
    "    for index, point in train_set.iterrows():\n",
    "        x, y, type = point.x, point.y, point.type\n",
    "        type = type * 2 - 1\n",
    "        if type * (w0 + w1 * x + w2 * y) < 0:\n",
    "            err += 1\n",
    "    err_rate = err * 100 / len(train_set)\n",
    "    \n",
    "    # 結果を表示\n",
    "    xmin, xmax = train_set.x.min() - 5, train_set.x.max() + 10\n",
    "    linex = np.arange(xmin - 5, xmax + 5)\n",
    "    liney = - linex * w1 / w2 - w0 / w2\n",
    "    label = \"ERR %.2f%%\" % err_rate\n",
    "    subplot.plot(linex, liney, label=label, color='b')\n",
    "    subplot.legend(loc=1)\n",
    "\n",
    "# パーセプトロン\n",
    "def run_perceptron(train_set, subplot):\n",
    "    w0 = w1 = w2 = 0.0\n",
    "    bias = 0.5 * (train_set.x.mean() + train_set.y.mean())\n",
    "    \n",
    "    # Iterationを30回実施\n",
    "    for i in range(30):\n",
    "        # 確率的勾配降下法によるパラメーターの修正\n",
    "        for index, point in train_set.iterrows():\n",
    "            x, y, type = point.x, point.y, point.type\n",
    "            type = type * 2 - 1\n",
    "            if type * (w0 * bias + w1 * x + w2 * y) <= 0:\n",
    "                w0 += type * 1\n",
    "                w1 += type * x\n",
    "                w2 += type * y\n",
    "    # 分類誤差の計算\n",
    "    err = 0\n",
    "    for index, point in train_set.iterrows():\n",
    "        x, y, type = point.x, point.y, point.type\n",
    "        type = type * 2 - 1\n",
    "        if type * (w0 * bias + w1 * x + w2 * y) <= 0:\n",
    "            err += 1\n",
    "    err_rate = err * 100 / len(train_set)\n",
    "    \n",
    "    # 結果を表示\n",
    "    xmin, xmax = train_set.x.min() - 5, train_set.x.max() + 10\n",
    "    linex = np.arange(xmin - 5, xmax + 5)\n",
    "    liney = -linex * w1 / w2 - bias * w0 / w2\n",
    "    label = \"ERR %.2f%%\" % err_rate\n",
    "    subplot.plot(linex, liney, label=label, color='r', linestyle='--')\n",
    "    subplot.legend(loc=1)\n",
    "\n",
    "def run_simulation(variance, subplot):\n",
    "    train_set = prepare_dataset(variance)\n",
    "    train_set1 = train_set[train_set['type'] == 1]\n",
    "    train_set2 = train_set[train_set['type'] == 0]\n",
    "    ymin, ymax = train_set.y.min() - 5, train_set.y.max() + 10\n",
    "    xmin, xmax = train_set.x.min() - 5, train_set.x.max() + 10\n",
    "    subplot.set_ylim([ymin - 1, ymax + 1])\n",
    "    subplot.set_xlim([xmin - 1, xmax + 1])\n",
    "    subplot.scatter(train_set1.x, train_set1.y, marker='o')\n",
    "    subplot.scatter(train_set2.x, train_set2.y, marker='x')\n",
    "    \n",
    "    run_logistic(train_set, subplot)\n",
    "    run_perceptron(train_set, subplot)\n",
    "\n",
    "fig = plt.figure()\n",
    "plt.suptitle('Blue: Logistic Regression, Red: Perceptron')\n",
    "for c, variance in enumerate(Variances):\n",
    "    subplot = fig.add_subplot(2, 2, c + 1)\n",
    "    run_simulation(variance, subplot)"
   ]
  },
  {
   "cell_type": "markdown",
   "metadata": {},
   "source": [
    "ロジスティック回帰とパーセプトロンの分類結果を比較すると、ロジスティック回帰の優位性がわかる。これは、パーセプトロンの確率的勾配降下法では、一度すべてのデータが正しく分類されるとそこでパラメーターの変化が停止するため。ロジスティック回帰ではトレーニングセットのデータが得られる全体的な確率を最大化しようとするため、正しく分類する直線の中でも、よりもっともらしいものが選択される。"
   ]
  },
  {
   "cell_type": "code",
   "execution_count": null,
   "metadata": {
    "collapsed": true
   },
   "outputs": [],
   "source": []
  }
 ],
 "metadata": {
  "kernelspec": {
   "display_name": "Python 3",
   "language": "python",
   "name": "python3"
  },
  "language_info": {
   "codemirror_mode": {
    "name": "ipython",
    "version": 3
   },
   "file_extension": ".py",
   "mimetype": "text/x-python",
   "name": "python",
   "nbconvert_exporter": "python",
   "pygments_lexer": "ipython3",
   "version": "3.5.0"
  }
 },
 "nbformat": 4,
 "nbformat_minor": 0
}
