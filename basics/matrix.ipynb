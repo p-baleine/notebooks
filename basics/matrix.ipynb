{
 "cells": [
  {
   "cell_type": "markdown",
   "metadata": {},
   "source": [
    "### 定理1(「やさしく学べる線形代数」〜定理1.6)\n",
    "\n",
    "正則なn次行列$A$、$B$に対して\n",
    "\n",
    "$$\n",
    "(AB)^{-1} = B^{-1}A^{-1}\n",
    "$$\n",
    "\n",
    "が成り立つ\n",
    "\n",
    "-----\n",
    "\n",
    "【証明】\n",
    "\n",
    "$C=AB$、$X=B^{-1}A^{-1}$とおくとき、\n",
    "\n",
    "$$\n",
    "CX = XC = E\n",
    "$$\n",
    "\n",
    "が示せれば、逆行列の定義より$X=C^{-1}$が示せる。\n",
    "\n",
    "$$\n",
    "\\begin{align*}\n",
    "CX &= (AB)(B^{-1}A^{-1}) & XC &= (B^{-1}A^{-1})(AB) \\\\\n",
    "&= A(BB^{-1})A^{-1} & &= B^{-1}(A^{-1}A)B \\\\\n",
    "&= AEA^{-1} & &= B^{-1}EB \\\\\n",
    "&= AA^{-1} & &= B^{-1}B \\\\\n",
    "&= E & &= E\n",
    "\\end{align*}\n",
    "$$\n",
    "\n",
    "ゆえに$CX = XC = E$なので$X = C^{-1}$。以上から$B^{-1}A^{-1}=(AB)^{-1}$"
   ]
  },
  {
   "cell_type": "markdown",
   "metadata": {
    "collapsed": true
   },
   "source": [
    "## 定理2([行列の転置](https://www.cck.dendai.ac.jp/math/support/ch2-supp/%E8%A1%8C%E5%88%97%E3%81%AE%E8%BB%A2%E7%BD%AE.pdf))\n",
    "\n",
    "行列$A$と$B$の積$AB$が定義されるとき\n",
    "\n",
    "$$\n",
    "(AB)^{\\mathrm{T}} = B^{\\mathrm{T}}A^{\\mathrm{T}}\n",
    "$$\n",
    "\n",
    "が成り立つ\n",
    "\n",
    "-----\n",
    "\n",
    "【証明】\n",
    "\n",
    "$A=(a_{ij})$を$m \\times n$行列、$B=(b_jk)$を$n \\times l$行列とする。まず$(AB)^{\\mathrm{T}}$と$B^{\\mathrm{T}}A^{\\mathrm{T}}$の大きさを確認する。$AB$は$m \\times l$行列だから$(AB)^{\\mathrm{T}}$は$l \\times m$行列である。一方$B^{\\mathrm{T}}$は$l \\times n$行列で$A^{\\mathrm{T}}$は$n \\times m$行列だから$B^{\\mathrm{T}}A^{\\mathrm{T}}$は$l \\times m$行列である。よって$(AB)^{\\mathrm{T}}$と$B^{\\mathrm{T}}A^{\\mathrm{T}}$の大きさは同じ。\n",
    "\n",
    "次に成分について、\n",
    "\n",
    "$$\n",
    "(AB)^{\\mathrm{T}}の(i,j)成分 = ABの(j,i)成分 = \\sum_{k=1}^na_{jk}b_{ki}\n",
    "$$\n",
    "\n",
    "次に、$B^{\\mathrm{T}}A^{\\mathrm{T}}$の$(i,j)$成分は$B^{\\mathrm{T}}$の第$i$行と$A^{\\mathrm{T}}$の第$j$列の対応する成分の積の和であるが、転置行列の定義から、これは$B$の第$i$列と$A$の第$j$行の成分の積の和となる。よって、\n",
    "\n",
    "$$\n",
    "B^{\\mathrm{T}}A^{\\mathrm{T}}の(i,j)成分 = \\sum_{k=1}^nb_{ki}a_{jk}\n",
    "$$\n",
    "\n",
    "両者は等しい。以上より$(AB)^{\\mathrm{T}} = B^{\\mathrm{T}}A^{\\mathrm{T}}$。"
   ]
  },
  {
   "cell_type": "code",
   "execution_count": null,
   "metadata": {
    "collapsed": true
   },
   "outputs": [],
   "source": []
  }
 ],
 "metadata": {
  "kernelspec": {
   "display_name": "Python 3",
   "language": "python",
   "name": "python3"
  },
  "language_info": {
   "codemirror_mode": {
    "name": "ipython",
    "version": 3
   },
   "file_extension": ".py",
   "mimetype": "text/x-python",
   "name": "python",
   "nbconvert_exporter": "python",
   "pygments_lexer": "ipython3",
   "version": "3.4.3"
  }
 },
 "nbformat": 4,
 "nbformat_minor": 0
}
