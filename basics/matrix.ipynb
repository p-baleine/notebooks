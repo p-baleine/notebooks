{
 "cells": [
  {
   "cell_type": "markdown",
   "metadata": {},
   "source": [
    "### 定理1(「やさしく学べる線形代数」〜定理1.6)\n",
    "\n",
    "正則なn次行列$A$、$B$に対して\n",
    "\n",
    "$$\n",
    "(AB)^{-1} = B^{-1}A^{-1}\n",
    "$$\n",
    "\n",
    "が成り立つ\n",
    "\n",
    "-----\n",
    "\n",
    "【証明】\n",
    "\n",
    "$C=AB$、$X=B^{-1}A^{-1}$とおくとき、\n",
    "\n",
    "$$\n",
    "CX = XC = E\n",
    "$$\n",
    "\n",
    "が示せれば、逆行列の定義より$X=C^{-1}$が示せる。\n",
    "\n",
    "$$\n",
    "\\begin{align*}\n",
    "CX &= (AB)(B^{-1}A^{-1}) & XC &= (B^{-1}A^{-1})(AB) \\\\\n",
    "&= A(BB^{-1})A^{-1} & &= B^{-1}(A^{-1}A)B \\\\\n",
    "&= AEA^{-1} & &= B^{-1}EB \\\\\n",
    "&= AA^{-1} & &= B^{-1}B \\\\\n",
    "&= E & &= E\n",
    "\\end{align*}\n",
    "$$\n",
    "\n",
    "ゆえに$CX = XC = E$なので$X = C^{-1}$。以上から$B^{-1}A^{-1}=(AB)^{-1}$"
   ]
  },
  {
   "cell_type": "code",
   "execution_count": null,
   "metadata": {
    "collapsed": true
   },
   "outputs": [],
   "source": []
  }
 ],
 "metadata": {
  "kernelspec": {
   "display_name": "Python 3",
   "language": "python",
   "name": "python3"
  },
  "language_info": {
   "codemirror_mode": {
    "name": "ipython",
    "version": 3
   },
   "file_extension": ".py",
   "mimetype": "text/x-python",
   "name": "python",
   "nbconvert_exporter": "python",
   "pygments_lexer": "ipython3",
   "version": "3.4.3"
  }
 },
 "nbformat": 4,
 "nbformat_minor": 0
}
