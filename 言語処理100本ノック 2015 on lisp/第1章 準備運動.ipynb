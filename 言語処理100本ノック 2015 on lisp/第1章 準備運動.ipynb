{
 "cells": [
  {
   "cell_type": "markdown",
   "metadata": {},
   "source": [
    "# 第1章: 準備運動"
   ]
  },
  {
   "cell_type": "code",
   "execution_count": 1,
   "metadata": {
    "collapsed": false,
    "scrolled": true
   },
   "outputs": [
    {
     "name": "stdout",
     "output_type": "stream",
     "text": [
      "To load \"cl21\":\n",
      "  Load 1 ASDF system:\n",
      "    cl21\n",
      "\n",
      "; Loading \"cl21\"\n",
      ".......\n"
     ]
    },
    {
     "data": {
      "text/plain": [
       "#<PACKAGE \"NOCK-100\">"
      ]
     },
     "execution_count": 1,
     "metadata": {},
     "output_type": "execute_result"
    }
   ],
   "source": [
    "(load \"nock-100.lisp\")\n",
    "(in-package :nock-100)"
   ]
  },
  {
   "cell_type": "markdown",
   "metadata": {},
   "source": [
    "---\n",
    "\n",
    "### 00. 文字列の逆順\n",
    "文字列\"stressed\"の文字を逆に（末尾から先頭に向かって）並べた文字列を得よ．"
   ]
  },
  {
   "cell_type": "code",
   "execution_count": 2,
   "metadata": {
    "collapsed": false
   },
   "outputs": [
    {
     "data": {
      "text/plain": [
       "\"desserts\""
      ]
     },
     "execution_count": 2,
     "metadata": {},
     "output_type": "execute_result"
    }
   ],
   "source": [
    "(reverse \"stressed\")"
   ]
  },
  {
   "cell_type": "markdown",
   "metadata": {},
   "source": [
    "### 01. 「パタトクカシーー」\n",
    "「パタトクカシーー」という文字列の1,3,5,7文字目を取り出して連結した文字列を得よ"
   ]
  },
  {
   "cell_type": "code",
   "execution_count": 3,
   "metadata": {
    "collapsed": false
   },
   "outputs": [
    {
     "data": {
      "text/plain": [
       "\"パトカー\""
      ]
     },
     "execution_count": 3,
     "metadata": {},
     "output_type": "execute_result"
    }
   ],
   "source": [
    "(let ((str \"パタトクカシーー\" )\n",
    "      (indices '(0 2 4 6)))\n",
    "      (coerce (map (curry #'elt str) indices) 'string))"
   ]
  },
  {
   "cell_type": "markdown",
   "metadata": {
    "collapsed": false
   },
   "source": [
    "### 02. 「パトカー」＋「タクシー」＝「パタトクカシーー」\n",
    "「パトカー」＋「タクシー」の文字を先頭から交互に連結して文字列「パタトクカシーー」を得よ．"
   ]
  },
  {
   "cell_type": "code",
   "execution_count": 4,
   "metadata": {
    "collapsed": false
   },
   "outputs": [
    {
     "data": {
      "text/plain": [
       "\"パタトクカシーー\""
      ]
     },
     "execution_count": 4,
     "metadata": {},
     "output_type": "execute_result"
    }
   ],
   "source": [
    "(let ((patrol-car (coerce \"パトカー\" 'list))\n",
    "      (taxi (coerce \"タクシー\" 'list)))\n",
    "     (coerce (flatten (zip patrol-car taxi)) 'string))"
   ]
  },
  {
   "cell_type": "markdown",
   "metadata": {},
   "source": [
    "### 03. 円周率\n",
    "\"Now I need a drink, alcoholic of course, after the heavy lectures involving quantum mechanics.\"という文を単語に分解し，各単語の（アルファベットの）文字数を先頭から出現順に並べたリストを作成せよ．"
   ]
  },
  {
   "cell_type": "code",
   "execution_count": 5,
   "metadata": {
    "collapsed": false
   },
   "outputs": [
    {
     "data": {
      "text/plain": [
       "(3 1 4 1 5 9 2 6 5 3 5 8 9 7 9)"
      ]
     },
     "execution_count": 5,
     "metadata": {},
     "output_type": "execute_result"
    }
   ],
   "source": [
    "(let* ((sentence \"Now I need a drink, alcoholic of course, after the heavy lectures involving quantum mechanics.\")\n",
    "       (words (map ^(re-replace #/[\\.,?]/ % \"\") (split #\\Space sentence))))\n",
    "      (map #'length words))"
   ]
  },
  {
   "cell_type": "markdown",
   "metadata": {},
   "source": [
    "### 04. 元素記号\n",
    "\"Hi He Lied Because Boron Could Not Oxidize Fluorine. New Nations Might Also Sign Peace Security Clause. Arthur King Can.\"という文を単語に分解し，1, 5, 6, 7, 8, 9, 15, 16, 19番目の単語は先頭の1文字，それ以外の単語は先頭に2文字を取り出し，取り出した文字列から単語の位置（先頭から何番目の単語か）への連想配列（辞書型もしくはマップ型）を作成せよ．"
   ]
  },
  {
   "cell_type": "code",
   "execution_count": 6,
   "metadata": {
    "collapsed": false
   },
   "outputs": [
    {
     "data": {
      "text/plain": [
       "((\"H\" . 0) (\"He\" . 1) (\"Li\" . 2) (\"Be\" . 3) (\"B\" . 4) (\"C\" . 5) (\"N\" . 6)\n",
       " (\"O\" . 7) (\"F\" . 8) (\"Ne\" . 9) (\"Na\" . 10) (\"Mi\" . 11) (\"Al\" . 12) (\"Si\" . 13)\n",
       " (\"P\" . 14) (\"S\" . 15) (\"Cl\" . 16) (\"Ar\" . 17) (\"K\" . 18) (\"Ca\" . 19))"
      ]
     },
     "execution_count": 6,
     "metadata": {},
     "output_type": "execute_result"
    }
   ],
   "source": [
    "(let* ((sentence \"Hi He Lied Because Boron Could Not Oxidize Fluorine. New Nations Might Also Sign Peace Security Clause. Arthur King Can.\")\n",
    "       (words (preprocess sentence))\n",
    "       (first-chars '(0 4 5 6 7 8 14 15 18))\n",
    "       (indices (iota (length words))))\n",
    "      (map (lambda (w i) `(,(subseq w 0 (if (member i first-chars) 1 2)) . ,i))\n",
    "           words indices))"
   ]
  },
  {
   "cell_type": "markdown",
   "metadata": {
    "collapsed": true
   },
   "source": [
    "### 05. n-gram\n",
    "与えられたシーケンス（文字列やリストなど）からn-gramを作る関数を作成せよ．この関数を用い，\"I am an NLPer\"という文から単語bi-gram，文字bi-gramを得よ．"
   ]
  },
  {
   "cell_type": "code",
   "execution_count": 7,
   "metadata": {
    "collapsed": false
   },
   "outputs": [
    {
     "name": "stdout",
     "output_type": "stream",
     "text": [
      "((I am) (am an) (an NLPer))\n",
      "(I   a am m   a an n   N NL LP Pe er)"
     ]
    },
    {
     "data": {
      "text/plain": [
       "(\"I \" \" a\" \"am\" \"m \" \" a\" \"an\" \"n \" \" N\" \"NL\" \"LP\" \"Pe\" \"er\")"
      ]
     },
     "execution_count": 7,
     "metadata": {},
     "output_type": "execute_result"
    }
   ],
   "source": [
    "(defun n-gram (seq &optional (n 2))\n",
    "     (apply #'zip (map ^(subseq seq %) (iota n))))\n",
    "\n",
    "(defun word-gram (seq &optional (n 2))\n",
    "    (n-gram (split #\\Space seq) n))\n",
    "\n",
    "(defun char-gram (seq &optional (n 2))\n",
    "    (map ^(coerce % 'string) (n-gram (coerce seq 'list) n)))\n",
    "\n",
    "(princ (word-gram \"I am an NLPer\"))\n",
    "(princ \"\\n\")\n",
    "(princ (char-gram \"I am an NLPer\"))"
   ]
  },
  {
   "cell_type": "markdown",
   "metadata": {
    "collapsed": true
   },
   "source": [
    "### 06. 集合\n",
    "\"paraparaparadise\"と\"paragraph\"に含まれる文字bi-gramの集合を，それぞれ, XとYとして求め，XとYの和集合，積集合，差集合を求めよ．さらに，'se'というbi-gramがXおよびYに含まれるかどうかを調べよ．"
   ]
  },
  {
   "cell_type": "code",
   "execution_count": 8,
   "metadata": {
    "collapsed": false
   },
   "outputs": [
    {
     "name": "stdout",
     "output_type": "stream",
     "text": [
      "union: (se is di ad pa ar ra ag gr ra ap ph)\n",
      "intersection: (ra ar pa ap ra ar pa ap ra ar pa)\n",
      "difference: (se is di ad)\n",
      "\"se\" is member of \"paraparaparadise\": (se)\n",
      "\"se\" is member of \"paragraph\": NIL\n"
     ]
    },
    {
     "data": {
      "text/plain": [
       "\"\\\"se\\\" is member of \\\"paragraph\\\": NIL\n",
       "\""
      ]
     },
     "execution_count": 8,
     "metadata": {},
     "output_type": "execute_result"
    }
   ],
   "source": [
    "(let ((paraparaparadise (char-gram \"paraparaparadise\"))\n",
    "      (paragraph (char-gram \"paragraph\")))\n",
    "     (princ #\"union: ${(union paraparaparadise paragraph :test #'string=)}\\n\")\n",
    "     (princ #\"intersection: ${(intersection paraparaparadise paragraph :test #'string=)}\\n\")\n",
    "     (princ #\"difference: ${(set-difference paraparaparadise paragraph :test #'string=)}\\n\")\n",
    "     (princ #\"\\\"se\\\" is member of \\\"paraparaparadise\\\": ${(member \"se\" paraparaparadise :test #'string=)}\\n\")\n",
    "     (princ #\"\\\"se\\\" is member of \\\"paragraph\\\": ${(member \"se\" paragraph :test #'string=)}\\n\"))     "
   ]
  },
  {
   "cell_type": "markdown",
   "metadata": {},
   "source": [
    "### 07. テンプレートによる文生成\n",
    "引数x, y, zを受け取り「x時のyはz」という文字列を返す関数を実装せよ．さらに，x=12, y=\"気温\", z=22.4として，実行結果を確認せよ．"
   ]
  },
  {
   "cell_type": "code",
   "execution_count": 9,
   "metadata": {
    "collapsed": false
   },
   "outputs": [
    {
     "data": {
      "text/plain": [
       "\"12時の気温は22.4\""
      ]
     },
     "execution_count": 9,
     "metadata": {},
     "output_type": "execute_result"
    }
   ],
   "source": [
    "(defun y-on-the-time-of-x-is-z (x y z)\n",
    "    #\"${x}時の${y}は${z}\")\n",
    "\n",
    "(y-on-the-time-of-x-is-z 12 \"気温\" 22.4)"
   ]
  },
  {
   "cell_type": "code",
   "execution_count": null,
   "metadata": {
    "collapsed": true
   },
   "outputs": [],
   "source": []
  }
 ],
 "metadata": {
  "kernelspec": {
   "display_name": "SBCL Lisp",
   "language": "lisp",
   "name": "lisp"
  },
  "language_info": {
   "codemirror_mode": "text/x-common-lisp",
   "mimetype": "text/x-common-lisp",
   "name": "common-lisp",
   "pygments_lexer": "common-lisp",
   "version": "X3J13"
  }
 },
 "nbformat": 4,
 "nbformat_minor": 0
}
