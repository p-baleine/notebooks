{
 "cells": [
  {
   "cell_type": "markdown",
   "metadata": {},
   "source": [
    "# 分類\n",
    "\n",
    "## ナイーブベイズ分類器\n",
    "\n",
    "### 多変数ベルヌーイモデル\n",
    "\n",
    "#### 例題 4.1"
   ]
  },
  {
   "cell_type": "code",
   "execution_count": 61,
   "metadata": {
    "collapsed": false
   },
   "outputs": [
    {
     "name": "stdout",
     "output_type": "stream",
     "text": [
      "p_P: 0.500000, p_N: 0.500000\n",
      "p_words_P: [ 0.33333333  0.33333333  0.66666667  0.66666667]\n",
      "p_words_N: [ 1.          0.66666667  0.33333333  0.33333333]\n"
     ]
    }
   ],
   "source": [
    "from functools import reduce\n",
    "import numpy as np\n",
    "\n",
    "d_P = [\n",
    "    \"good bad good good\",\n",
    "    \"exciting exciting\",\n",
    "    \"good good exciting boring\"\n",
    "]\n",
    "\n",
    "d_N = [\n",
    "    \"bad boring boring boring\",\n",
    "    \"bad good bad\",\n",
    "    \"bad bad boring exciting\"\n",
    "]\n",
    "\n",
    "C = [\"p\" for _ in d_P] + [\"n\" for _ in d_N]\n",
    "D = [d.split(\" \") for d in (d_P + d_N)]\n",
    "V = sorted(list(set(reduce(lambda x, y: x + y, D))))\n",
    "\n",
    "# 統計値\n",
    "\n",
    "N_P = len(d_P); N_N = len(d_N);\n",
    "N_words_P = np.array([sum([1 for d in d_P if w in d]) for w in V])\n",
    "N_words_N = np.array([sum([1 for d in d_N if w in d]) for w in V])\n",
    "\n",
    "# パラメーター\n",
    "\n",
    "p_P = N_P / (N_P + N_N); p_N = N_N / (N_P + N_N)\n",
    "p_words_P = N_words_P / N_P\n",
    "p_words_N = N_words_N / N_N\n",
    "\n",
    "print(\"p_P: %f, p_N: %f\" % (p_P, p_N))\n",
    "print(\"p_words_P: %s\" % p_words_P)\n",
    "print(\"p_words_N: %s\" % p_words_N)"
   ]
  },
  {
   "cell_type": "markdown",
   "metadata": {},
   "source": [
    "#### 例題 4.2"
   ]
  },
  {
   "cell_type": "code",
   "execution_count": 62,
   "metadata": {
    "collapsed": false
   },
   "outputs": [
    {
     "name": "stdout",
     "output_type": "stream",
     "text": [
      "\"good good bad boring\"がP氏に書かれた確率:\n",
      "P(C = P氏 | d) = P(C = P氏)P(d | P氏) = 0.012346\n",
      "\"good good bad boring\"がN氏に書かれた確率:\n",
      "P(C = P氏 | d) = P(C = P氏)P(d | P氏) = 0.074074\n"
     ]
    }
   ],
   "source": [
    "d = \"good good bad boring\".split(\" \")\n",
    "\n",
    "def predict(d, p_class, p_words, V):\n",
    "    tmp = [p_class] + [p_words[idx] if w in d else 1 - p_words[idx]\n",
    "                 for idx, w in enumerate(V)]\n",
    "    return np.multiply.accumulate(tmp)[-1]\n",
    "\n",
    "print(\"\\\"good good bad boring\\\"がP氏に書かれた確率:\")\n",
    "print(\"P(C = P氏 | d) = P(C = P氏)P(d | P氏) = %f\" % predict(d, p_P, p_words_P, V))\n",
    "print(\"\\\"good good bad boring\\\"がN氏に書かれた確率:\")\n",
    "print(\"P(C = P氏 | d) = P(C = P氏)P(d | P氏) = %f\" % predict(d, p_N, p_words_N, V))"
   ]
  },
  {
   "cell_type": "markdown",
   "metadata": {},
   "source": [
    "#### 例題 4.3"
   ]
  },
  {
   "cell_type": "code",
   "execution_count": 63,
   "metadata": {
    "collapsed": false
   },
   "outputs": [
    {
     "name": "stdout",
     "output_type": "stream",
     "text": [
      "p_P: 0.500000, p_N: 0.500000\n",
      "p_words_P: [ 0.33333333  0.33333333  0.66666667  0.33333333  0.66666667]\n",
      "p_words_N: [ 1.          0.66666667  0.33333333  0.          0.33333333]\n",
      "\n",
      "\"bad bad boring boring fine\"がP氏に書かれた確率:\n",
      "P(C = P氏 | d) = P(C = P氏)P(d | P氏) = 0.002058\n",
      "\"bad bad boring boring fine\"がN氏に書かれた確率:\n",
      "P(C = P氏 | d) = P(C = P氏)P(d | P氏) = 0.000000\n"
     ]
    }
   ],
   "source": [
    "d_P = [\n",
    "    \"good bad good good fine\",\n",
    "    \"exciting exciting\",\n",
    "    \"good good exciting boring\"\n",
    "]\n",
    "\n",
    "d_N = [\n",
    "    \"bad boring boring boring\",\n",
    "    \"bad good bad\",\n",
    "    \"bad bad boring exciting\"\n",
    "]\n",
    "\n",
    "C = [\"p\" for _ in d_P] + [\"n\" for _ in d_N]\n",
    "D = [d.split(\" \") for d in (d_P + d_N)]\n",
    "V = sorted(list(set(reduce(lambda x, y: x + y, D))))\n",
    "\n",
    "# 統計値\n",
    "\n",
    "N_P = len(d_P); N_N = len(d_N);\n",
    "N_words_P = np.array([sum([1 for d in d_P if w in d]) for w in V])\n",
    "N_words_N = np.array([sum([1 for d in d_N if w in d]) for w in V])\n",
    "\n",
    "# パラメーター\n",
    "\n",
    "p_P = N_P / (N_P + N_N); p_N = N_N / (N_P + N_N)\n",
    "p_words_P = N_words_P / N_P\n",
    "p_words_N = N_words_N / N_N\n",
    "\n",
    "d_str = \"bad bad boring boring fine\"\n",
    "d = d_str.split(\" \")\n",
    "\n",
    "print(\"p_P: %f, p_N: %f\" % (p_P, p_N))\n",
    "print(\"p_words_P: %s\" % p_words_P)\n",
    "print(\"p_words_N: %s\" % p_words_N)\n",
    "print(\"\")\n",
    "print(\"\\\"%s\\\"がP氏に書かれた確率:\" % d_str)\n",
    "print(\"P(C = P氏 | d) = P(C = P氏)P(d | P氏) = %f\" % predict(d, p_P, p_words_P, V))\n",
    "print(\"\\\"%s\\\"がN氏に書かれた確率:\"% d_str)\n",
    "print(\"P(C = P氏 | d) = P(C = P氏)P(d | P氏) = %f\" % predict(d, p_N, p_words_N, V))"
   ]
  },
  {
   "cell_type": "markdown",
   "metadata": {},
   "source": [
    "#### 例題 4.4"
   ]
  },
  {
   "cell_type": "code",
   "execution_count": 70,
   "metadata": {
    "collapsed": false
   },
   "outputs": [
    {
     "name": "stdout",
     "output_type": "stream",
     "text": [
      "p_P: 0.500000, p_N: 0.500000\n",
      "p_words_P: [ 0.4  0.4  0.6  0.4  0.6]\n",
      "p_words_N: [ 0.8  0.6  0.4  0.2  0.4]\n"
     ]
    }
   ],
   "source": [
    "d_P = [\n",
    "    \"good bad good good fine\",\n",
    "    \"exciting exciting\",\n",
    "    \"good good exciting boring\"\n",
    "]\n",
    "\n",
    "d_N = [\n",
    "    \"bad boring boring boring\",\n",
    "    \"bad good bad\",\n",
    "    \"bad bad boring exciting\"\n",
    "]\n",
    "\n",
    "C = [\"p\" for _ in d_P] + [\"n\" for _ in d_N]\n",
    "D = [d.split(\" \") for d in (d_P + d_N)]\n",
    "V = sorted(list(set(reduce(lambda x, y: x + y, D))))\n",
    "\n",
    "# 統計値\n",
    "\n",
    "N_P = len(d_P); N_N = len(d_N);\n",
    "N_words_P = np.array([sum([1 for d in d_P if w in d]) for w in V])\n",
    "N_words_N = np.array([sum([1 for d in d_N if w in d]) for w in V])\n",
    "\n",
    "# パラメーター\n",
    "\n",
    "p_P = (N_P + 1) / (N_P + N_N + 2)\n",
    "p_N = (N_N + 1) / (N_P + N_N + 2)\n",
    "p_words_P = (N_words_P + 1) / (N_P + 2)\n",
    "p_words_N = (N_words_N + 1) / (N_N + 2)\n",
    "\n",
    "print(\"p_P: %f, p_N: %f\" % (p_P, p_N))\n",
    "print(\"p_words_P: %s\" % p_words_P)\n",
    "print(\"p_words_N: %s\" % p_words_N)"
   ]
  },
  {
   "cell_type": "markdown",
   "metadata": {},
   "source": [
    "#### 例題 4.5"
   ]
  },
  {
   "cell_type": "code",
   "execution_count": 71,
   "metadata": {
    "collapsed": false
   },
   "outputs": [
    {
     "name": "stdout",
     "output_type": "stream",
     "text": [
      "\"bad bad boring boring fine\"がP氏に書かれた確率:\n",
      "P(C = P氏 | d) = P(C = P氏)P(d | P氏) = 0.005120\n",
      "\"bad bad boring boring fine\"がN氏に書かれた確率:\n",
      "P(C = P氏 | d) = P(C = P氏)P(d | P氏) = 0.017280\n"
     ]
    }
   ],
   "source": [
    "d_str = \"bad bad boring boring fine\"\n",
    "d = d_str.split(\" \")\n",
    "\n",
    "print(\"\\\"%s\\\"がP氏に書かれた確率:\" % d_str)\n",
    "print(\"P(C = P氏 | d) = P(C = P氏)P(d | P氏) = %f\" % predict(d, p_P, p_words_P, V))\n",
    "print(\"\\\"%s\\\"がN氏に書かれた確率:\"% d_str)\n",
    "print(\"P(C = P氏 | d) = P(C = P氏)P(d | P氏) = %f\" % predict(d, p_N, p_words_N, V))"
   ]
  },
  {
   "cell_type": "code",
   "execution_count": null,
   "metadata": {
    "collapsed": true
   },
   "outputs": [],
   "source": []
  }
 ],
 "metadata": {
  "kernelspec": {
   "display_name": "Python 3",
   "language": "python",
   "name": "python3"
  },
  "language_info": {
   "codemirror_mode": {
    "name": "ipython",
    "version": 3
   },
   "file_extension": ".py",
   "mimetype": "text/x-python",
   "name": "python",
   "nbconvert_exporter": "python",
   "pygments_lexer": "ipython3",
   "version": "3.5.1"
  }
 },
 "nbformat": 4,
 "nbformat_minor": 0
}
