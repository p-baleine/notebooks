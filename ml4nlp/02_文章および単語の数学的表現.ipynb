{
 "cells": [
  {
   "cell_type": "markdown",
   "metadata": {},
   "source": [
    "## 文のベクトル表現\n",
    "\n",
    "### 例題2.5"
   ]
  },
  {
   "cell_type": "code",
   "execution_count": 7,
   "metadata": {
    "collapsed": false
   },
   "outputs": [
    {
     "name": "stdout",
     "output_type": "stream",
     "text": [
      "bag-of-words of s1:\n",
      "[1 1 2 1 1 1]\n",
      "bag-of-words of s2:\n",
      "[1 1 2 1 1 1]\n"
     ]
    }
   ],
   "source": [
    "from collections import Counter\n",
    "from numpy.linalg import norm\n",
    "import numpy as np\n",
    "\n",
    "s1 = \"the pen is mightier than the sword\".split()\n",
    "s2 = \"the sword is mightier than the pen\".split()\n",
    "\n",
    "keys = list(set(s1 + s2))\n",
    "\n",
    "counter_s1 = Counter(s1)\n",
    "counter_s2 = Counter(s2)\n",
    "\n",
    "bow_s1 = np.array([counter_s1[key] if counter_s1[key] else 0 for key in keys])\n",
    "bow_s2 = np.array([counter_s2[key] if counter_s2[key] else 0 for key in keys])\n",
    "\n",
    "print(\"bag-of-words of s1:\")\n",
    "print(bow_s1)\n",
    "print(\"bag-of-words of s2:\")\n",
    "print(bow_s2)"
   ]
  },
  {
   "cell_type": "code",
   "execution_count": 9,
   "metadata": {
    "collapsed": false
   },
   "outputs": [
    {
     "name": "stdout",
     "output_type": "stream",
     "text": [
      "sim_cos(s1, s2) of bag-of-words:\n",
      "1.0\n"
     ]
    }
   ],
   "source": [
    "sim_bow = bow_s1.dot(bow_s2) / (norm(bow_s1) * norm(bow_s2))\n",
    "print(\"sim_cos(s1, s2) of bag-of-words:\")\n",
    "print(sim_bow)"
   ]
  },
  {
   "cell_type": "code",
   "execution_count": 8,
   "metadata": {
    "collapsed": false
   },
   "outputs": [
    {
     "name": "stdout",
     "output_type": "stream",
     "text": [
      "bag-og-bigrams of s1:\n",
      "[1 1 1 0 1 1 1]\n",
      "bag-og-bigrams of s2:\n",
      "[1 1 0 1 1 1 1]\n"
     ]
    }
   ],
   "source": [
    "keys = list(set(list(zip(s1, s1[1:])) + list(zip(s2, s2[1:]))))\n",
    "\n",
    "counter_s1 = Counter(list(zip(s1, s1[1:])))\n",
    "counter_s2 = Counter(list(zip(s2, s2[1:])))\n",
    "\n",
    "bobi_s1 = np.array([counter_s1[key] if counter_s1[key] else 0 for key in keys])\n",
    "bobi_s2 = np.array([counter_s2[key] if counter_s2[key] else 0 for key in keys])\n",
    "\n",
    "print(\"bag-of-bigrams of s1:\")\n",
    "print(bobi_s1)\n",
    "print(\"bag-of-bigrams of s2:\")\n",
    "print(bobi_s2)"
   ]
  },
  {
   "cell_type": "code",
   "execution_count": 10,
   "metadata": {
    "collapsed": false
   },
   "outputs": [
    {
     "name": "stdout",
     "output_type": "stream",
     "text": [
      "sim_cos(s1, s2) of bag-of-bigrams:\n",
      "0.833333333333\n"
     ]
    }
   ],
   "source": [
    "sim_bobi = bobi_s1.dot(bobi_s2) / (norm(bobi_s1) * norm(bobi_s2))\n",
    "print(\"sim_cos(s1, s2) of bag-of-bigrams:\")\n",
    "print(sim_bobi)"
   ]
  },
  {
   "cell_type": "markdown",
   "metadata": {},
   "source": [
    "### 例題2.6"
   ]
  },
  {
   "cell_type": "code",
   "execution_count": 28,
   "metadata": {
    "collapsed": false
   },
   "outputs": [
    {
     "name": "stdout",
     "output_type": "stream",
     "text": [
      "bow of s1:\n",
      "[1 0 1 0 1 1 1 0 1]\n",
      "bow of s2:\n",
      "[0 1 0 1 1 1 0 1 1]\n",
      "sim_cos(s1, s2):\n",
      "0.5\n"
     ]
    }
   ],
   "source": [
    "from functools import reduce\n",
    "import re\n",
    "\n",
    "s1 = re.sub(r'[\\.,?]', \"\", \"A cat sat on the mat.\").lower().split(\" \")\n",
    "s2 = re.sub(r'[\\.,?]', \"\", \"Cats are sitting on the mat.\").lower().split(\" \")\n",
    "\n",
    "def vectorize_with_bow(*sentences):\n",
    "    keys = sorted(set(reduce(lambda x, y: x + y, sentences)))\n",
    "    counters = [Counter(sentence) for sentence in sentences]\n",
    "    return [np.array([c[key] if c[key] else 0 for key in keys]) for c in counters]\n",
    "\n",
    "def sim_cos(lhs, rhs):\n",
    "    return lhs.dot(rhs) / norm(lhs) / norm(rhs)\n",
    "    \n",
    "bow_s1, bow_s2 = vectorize_with_bow(s1, s2)\n",
    "print(\"bow of s1:\")\n",
    "print(bow_s1)\n",
    "print(\"bow of s2:\")\n",
    "print(bow_s2)\n",
    "print(\"sim_cos(s1, s2):\")\n",
    "print(sim_cos(bow_s1, bow_s2))"
   ]
  },
  {
   "cell_type": "code",
   "execution_count": 29,
   "metadata": {
    "collapsed": false
   },
   "outputs": [
    {
     "name": "stdout",
     "output_type": "stream",
     "text": [
      "bow of s1:\n",
      "[1 0 1 1 0 1 1 1]\n",
      "bow of s2:\n",
      "[0 1 1 0 1 1 1 1]\n",
      "sim_cos(s1, s2):\n",
      "0.666666666667\n"
     ]
    }
   ],
   "source": [
    "lemmatizated_s1 = \"a cat sit on the mat\".split(\" \")\n",
    "lemmatizated_s2 = \"cat are sit on the mat.\".split(\" \")\n",
    "bow_s1, bow_s2 = vectorize_with_bow(lemmatizated_s1, lemmatizated_s2)\n",
    "print(\"bow of s1:\")\n",
    "print(bow_s1)\n",
    "print(\"bow of s2:\")\n",
    "print(bow_s2)\n",
    "print(\"sim_cos(s1, s2):\")\n",
    "print(sim_cos(bow_s1, bow_s2))"
   ]
  },
  {
   "cell_type": "code",
   "execution_count": null,
   "metadata": {
    "collapsed": true
   },
   "outputs": [],
   "source": []
  }
 ],
 "metadata": {
  "kernelspec": {
   "display_name": "Python 3",
   "language": "python",
   "name": "python3"
  },
  "language_info": {
   "codemirror_mode": {
    "name": "ipython",
    "version": 3
   },
   "file_extension": ".py",
   "mimetype": "text/x-python",
   "name": "python",
   "nbconvert_exporter": "python",
   "pygments_lexer": "ipython3",
   "version": "3.5.1"
  }
 },
 "nbformat": 4,
 "nbformat_minor": 0
}
