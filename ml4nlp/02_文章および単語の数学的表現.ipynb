{
 "cells": [
  {
   "cell_type": "markdown",
   "metadata": {},
   "source": [
    "## 文のベクトル表現\n",
    "\n",
    "### 例題2.5"
   ]
  },
  {
   "cell_type": "code",
   "execution_count": 1,
   "metadata": {
    "collapsed": false
   },
   "outputs": [
    {
     "name": "stdout",
     "output_type": "stream",
     "text": [
      "bag-of-words of s1:\n",
      "[1 1 1 1 1 2]\n",
      "bag-of-words of s2:\n",
      "[1 1 1 1 1 2]\n"
     ]
    }
   ],
   "source": [
    "from collections import Counter\n",
    "from numpy.linalg import norm\n",
    "import numpy as np\n",
    "\n",
    "s1 = \"the pen is mightier than the sword\".split()\n",
    "s2 = \"the sword is mightier than the pen\".split()\n",
    "\n",
    "keys = list(set(s1 + s2))\n",
    "\n",
    "counter_s1 = Counter(s1)\n",
    "counter_s2 = Counter(s2)\n",
    "\n",
    "bow_s1 = np.array([counter_s1[key] if counter_s1[key] else 0 for key in keys])\n",
    "bow_s2 = np.array([counter_s2[key] if counter_s2[key] else 0 for key in keys])\n",
    "\n",
    "print(\"bag-of-words of s1:\")\n",
    "print(bow_s1)\n",
    "print(\"bag-of-words of s2:\")\n",
    "print(bow_s2)"
   ]
  },
  {
   "cell_type": "code",
   "execution_count": 2,
   "metadata": {
    "collapsed": false
   },
   "outputs": [
    {
     "name": "stdout",
     "output_type": "stream",
     "text": [
      "sim_cos(s1, s2) of bag-of-words:\n",
      "1.0\n"
     ]
    }
   ],
   "source": [
    "sim_bow = bow_s1.dot(bow_s2) / (norm(bow_s1) * norm(bow_s2))\n",
    "print(\"sim_cos(s1, s2) of bag-of-words:\")\n",
    "print(sim_bow)"
   ]
  },
  {
   "cell_type": "code",
   "execution_count": 3,
   "metadata": {
    "collapsed": false
   },
   "outputs": [
    {
     "name": "stdout",
     "output_type": "stream",
     "text": [
      "bag-of-bigrams of s1:\n",
      "[1 1 1 1 1 0 1]\n",
      "bag-of-bigrams of s2:\n",
      "[1 1 1 1 0 1 1]\n"
     ]
    }
   ],
   "source": [
    "keys = list(set(list(zip(s1, s1[1:])) + list(zip(s2, s2[1:]))))\n",
    "\n",
    "counter_s1 = Counter(list(zip(s1, s1[1:])))\n",
    "counter_s2 = Counter(list(zip(s2, s2[1:])))\n",
    "\n",
    "bobi_s1 = np.array([counter_s1[key] if counter_s1[key] else 0 for key in keys])\n",
    "bobi_s2 = np.array([counter_s2[key] if counter_s2[key] else 0 for key in keys])\n",
    "\n",
    "print(\"bag-of-bigrams of s1:\")\n",
    "print(bobi_s1)\n",
    "print(\"bag-of-bigrams of s2:\")\n",
    "print(bobi_s2)"
   ]
  },
  {
   "cell_type": "code",
   "execution_count": 4,
   "metadata": {
    "collapsed": false
   },
   "outputs": [
    {
     "name": "stdout",
     "output_type": "stream",
     "text": [
      "sim_cos(s1, s2) of bag-of-bigrams:\n",
      "0.833333333333\n"
     ]
    }
   ],
   "source": [
    "sim_bobi = bobi_s1.dot(bobi_s2) / (norm(bobi_s1) * norm(bobi_s2))\n",
    "print(\"sim_cos(s1, s2) of bag-of-bigrams:\")\n",
    "print(sim_bobi)"
   ]
  },
  {
   "cell_type": "markdown",
   "metadata": {},
   "source": [
    "### 例題2.6"
   ]
  },
  {
   "cell_type": "code",
   "execution_count": 5,
   "metadata": {
    "collapsed": false
   },
   "outputs": [
    {
     "name": "stdout",
     "output_type": "stream",
     "text": [
      "bow of s1:\n",
      "[1 0 1 0 1 1 1 0 1]\n",
      "bow of s2:\n",
      "[0 1 0 1 1 1 0 1 1]\n",
      "sim_cos(s1, s2):\n",
      "0.5\n"
     ]
    }
   ],
   "source": [
    "from functools import reduce\n",
    "import re\n",
    "\n",
    "s1 = re.sub(r'[\\.,?]', \"\", \"A cat sat on the mat.\").lower().split(\" \")\n",
    "s2 = re.sub(r'[\\.,?]', \"\", \"Cats are sitting on the mat.\").lower().split(\" \")\n",
    "\n",
    "def vectorize_with_bow(*args):\n",
    "    keys = sorted(set(reduce(lambda x, y: x + y, args)))\n",
    "    counters = [Counter(arg) for arg in args]\n",
    "    return [np.array([c[key] if c[key] else 0 for key in keys]) for c in counters]\n",
    "\n",
    "def sim_cos(lhs, rhs):\n",
    "    return lhs.dot(rhs) / norm(lhs) / norm(rhs)\n",
    "    \n",
    "bow_s1, bow_s2 = vectorize_with_bow(s1, s2)\n",
    "print(\"bow of s1:\")\n",
    "print(bow_s1)\n",
    "print(\"bow of s2:\")\n",
    "print(bow_s2)\n",
    "print(\"sim_cos(s1, s2):\")\n",
    "print(sim_cos(bow_s1, bow_s2))"
   ]
  },
  {
   "cell_type": "code",
   "execution_count": 6,
   "metadata": {
    "collapsed": false
   },
   "outputs": [
    {
     "name": "stdout",
     "output_type": "stream",
     "text": [
      "bow of s1:\n",
      "[1 0 1 1 0 1 1 1]\n",
      "bow of s2:\n",
      "[0 1 1 0 1 1 1 1]\n",
      "sim_cos(s1, s2):\n",
      "0.666666666667\n"
     ]
    }
   ],
   "source": [
    "lemmatizated_s1 = \"a cat sit on the mat\".split(\" \")\n",
    "lemmatizated_s2 = \"cat are sit on the mat.\".split(\" \")\n",
    "bow_s1, bow_s2 = vectorize_with_bow(lemmatizated_s1, lemmatizated_s2)\n",
    "print(\"bow of s1:\")\n",
    "print(bow_s1)\n",
    "print(\"bow of s2:\")\n",
    "print(bow_s2)\n",
    "print(\"sim_cos(s1, s2):\")\n",
    "print(sim_cos(bow_s1, bow_s2))"
   ]
  },
  {
   "cell_type": "markdown",
   "metadata": {
    "collapsed": true
   },
   "source": [
    "### 章末問題1"
   ]
  },
  {
   "cell_type": "code",
   "execution_count": 10,
   "metadata": {
    "collapsed": false
   },
   "outputs": [
    {
     "name": "stdout",
     "output_type": "stream",
     "text": [
      "character unigram: {t, a, t, t, a, r, r, a, t, t, a, t}\n",
      "vector by unigram: [array([4, 2, 6])]\n",
      "character bigram: {ta, at, tt, ta, ar, rr, ra, at, tt, ta, at}\n",
      "vector by bigram: [array([1, 3, 1, 1, 3, 2])]\n",
      "character trigram: {tat, att, tta, tar, arr, rra, rat, att, tta, tat}\n",
      "vector by trigram: [array([1, 2, 1, 1, 1, 2, 2])]\n"
     ]
    }
   ],
   "source": [
    "w = \"tattarrattat\"\n",
    "print(\"character unigram: {%s}\" % \", \".join(list(w)))\n",
    "print(\"vector by unigram: %s\" % vectorize_with_bow(w))\n",
    "print(\"character bigram: {%s}\" % \", \".join([\"\".join(x) for x in list(zip(list(w), list(w)[1:]))]))\n",
    "print(\"vector by bigram: %s\" % vectorize_with_bow(list(zip(list(w), list(w)[1:]))))\n",
    "print(\"character trigram: {%s}\" % \", \".join([\"\".join(x) for x in list(zip(list(w), list(w)[1:], list(w)[2:]))]))\n",
    "print(\"vector by trigram: %s\" % vectorize_with_bow(list(zip(list(w), list(w)[1:], list(w)[2:]))))"
   ]
  },
  {
   "cell_type": "markdown",
   "metadata": {},
   "source": [
    "### 章末問題2"
   ]
  },
  {
   "cell_type": "code",
   "execution_count": 15,
   "metadata": {
    "collapsed": false
   },
   "outputs": [
    {
     "data": {
      "text/plain": [
       "[array([1, 1, 1])]"
      ]
     },
     "execution_count": 15,
     "metadata": {},
     "output_type": "execute_result"
    }
   ],
   "source": [
    "s = \"A cat sat on the mat.\"\n",
    "lemmatizated_s = 'a cat sit on the mat'.split(\" \")\n",
    "stopword = ['a', 'the', 'on', 'in', 'of']\n",
    "lemmatizated_and_stopword_removed = [w for w in lemmatizated_s if w not in stopword]\n",
    "vectorize_with_bow(lemmatizated_and_stopword_removed)"
   ]
  },
  {
   "cell_type": "markdown",
   "metadata": {},
   "source": [
    "### 章末問題3"
   ]
  },
  {
   "cell_type": "code",
   "execution_count": 37,
   "metadata": {
    "collapsed": false
   },
   "outputs": [
    {
     "data": {
      "text/plain": [
       "[0,\n",
       " 0,\n",
       " 0,\n",
       " 0,\n",
       " 1,\n",
       " 0,\n",
       " 0,\n",
       " 0,\n",
       " 0,\n",
       " 1,\n",
       " 0,\n",
       " 0,\n",
       " 0,\n",
       " 0,\n",
       " 1,\n",
       " 0,\n",
       " 0,\n",
       " 0,\n",
       " 0,\n",
       " 1,\n",
       " 0,\n",
       " 0,\n",
       " 0,\n",
       " 0,\n",
       " 0,\n",
       " 0,\n",
       " 0,\n",
       " 0]"
      ]
     },
     "execution_count": 37,
     "metadata": {},
     "output_type": "execute_result"
    }
   ],
   "source": [
    "from itertools import chain\n",
    "\n",
    "s = re.sub(r'[\\.,?]', '', \"I had a supercalifragilisticexpialidocious time with the friends.\").lower().split()\n",
    "target = \"supercalifragilisticexpialidocious\"\n",
    "target_idx = 3\n",
    "keys = list(chain.from_iterable([((w, 2), (w, 1), (w, -1), (w, -2), )\n",
    "                                 for w in s if w != target]))\n",
    "[1 if s[target_idx - key[1]] is key[0] else 0 for key in keys]"
   ]
  },
  {
   "cell_type": "code",
   "execution_count": null,
   "metadata": {
    "collapsed": true
   },
   "outputs": [],
   "source": []
  }
 ],
 "metadata": {
  "kernelspec": {
   "display_name": "Python 3",
   "language": "python",
   "name": "python3"
  },
  "language_info": {
   "codemirror_mode": {
    "name": "ipython",
    "version": 3
   },
   "file_extension": ".py",
   "mimetype": "text/x-python",
   "name": "python",
   "nbconvert_exporter": "python",
   "pygments_lexer": "ipython3",
   "version": "3.5.1"
  }
 },
 "nbformat": 4,
 "nbformat_minor": 0
}
