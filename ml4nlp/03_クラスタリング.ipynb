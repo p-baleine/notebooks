{
 "cells": [
  {
   "cell_type": "markdown",
   "metadata": {},
   "source": [
    "# クラスタリング\n",
    "\n",
    "## 凝集型クラスタリング\n",
    "\n",
    "### 例題 3.1"
   ]
  },
  {
   "cell_type": "code",
   "execution_count": 16,
   "metadata": {
    "collapsed": false
   },
   "outputs": [
    {
     "name": "stdout",
     "output_type": "stream",
     "text": [
      "aggolomerative clustering with single-link method:\n",
      "[[0], [1], [3], [5.5]]\n",
      "[[3], [5.5], [0, 1]]\n",
      "[[5.5], [3, 0, 1]]\n",
      "[[5.5, 3, 0, 1]]\n",
      "aggolomerative clustering with complete-link method:\n",
      "[[0], [1], [3], [5.5]]\n",
      "[[3], [5.5], [0, 1]]\n",
      "[[0, 1], [3, 5.5]]\n",
      "[[0, 1, 3, 5.5]]\n"
     ]
    }
   ],
   "source": [
    "import numpy as np\n",
    "import math\n",
    "\n",
    "D = [0, 1, 3, 5.5]\n",
    "\n",
    "# 事例間の類似度は、差の逆数\n",
    "def sim(d_k, d_l):\n",
    "    diff = math.fabs(d_k - d_l)\n",
    "    return 0 if diff <= 0.0 else (1 / diff)\n",
    "\n",
    "def merge(lst, lhs_idx, rhs_idx):\n",
    "    tmp = []\n",
    "\n",
    "    for i in range(0, len(lst)):\n",
    "        if (i is not lhs_idx and i is not rhs_idx):\n",
    "            tmp = tmp + [lst[i]]\n",
    "    \n",
    "    return tmp + [lst[lhs_idx] + lst[rhs_idx]]\n",
    "\n",
    "def aggolomerative_clustering(sim_fn):\n",
    "    C = [[d] for d in D]\n",
    "    \n",
    "    print(C)\n",
    "\n",
    "    while len(C) >= 2:\n",
    "        indices = [(c_i, c_j) for c_i in enumerate(C)\n",
    "                                           for c_j in enumerate(C)\n",
    "                                           if c_j[1] is not c_i[1]]\n",
    "        idx = np.argmax([sim_fn(c_i, c_j) for (_, c_i), (_, c_j) in indices])\n",
    "        (c_m_idx, c_m), (c_n_idx, c_n) = indices[idx]\n",
    "        C = merge(C, c_m_idx, c_n_idx)\n",
    "\n",
    "        print(C)\n",
    "\n",
    "# 単連結法による凝集型クラスタリング\n",
    "def sim_single_link(c_i, c_j):\n",
    "    return max([sim(x_k, x_l) for x_k in c_i for x_l in c_j])\n",
    "\n",
    "print(\"aggolomerative clustering with single-link method:\")\n",
    "aggolomerative_clustering(sim_single_link)\n",
    "\n",
    "# 完全連結法による凝集型クラスタリング\n",
    "def sim_complete_link(c_i, c_j):\n",
    "    return min([sim(x_k, x_l) for x_k in c_i for x_l in c_j])\n",
    "\n",
    "print(\"aggolomerative clustering with complete-link method:\")\n",
    "aggolomerative_clustering(sim_complete_link)"
   ]
  },
  {
   "cell_type": "markdown",
   "metadata": {},
   "source": [
    "## k-平均法\n",
    "\n",
    "### 例題 3.2"
   ]
  },
  {
   "cell_type": "code",
   "execution_count": 22,
   "metadata": {
    "collapsed": false
   },
   "outputs": [
    {
     "name": "stdout",
     "output_type": "stream",
     "text": [
      "clusters: [[0, 1], [3, 5.5]]\n",
      "new center: [0.5, 4.25]\n",
      "clusters: [[0, 1], [3, 5.5]]\n",
      "new center: [0.5, 4.25]\n"
     ]
    }
   ],
   "source": [
    "D = [0, 1, 3, 5.5]\n",
    "k = 2\n",
    "\n",
    "ms = [-1, 6]\n",
    "old_ms = [math.nan, math.nan]\n",
    "\n",
    "def convergence(ms, old_ms):\n",
    "    return np.isclose(ms[0], old_ms[0])\n",
    "\n",
    "while not convergence(ms, old_ms):\n",
    "    clusters = [[], []]\n",
    "\n",
    "    for x in D:\n",
    "        c_max = np.argmax([sim(x, m) for m in ms])\n",
    "        clusters[c_max] += [x]\n",
    "    \n",
    "    old_ms = ms\n",
    "    ms = [np.mean(c) for c in clusters]\n",
    "    \n",
    "    print(\"clusters: %s\" % clusters)\n",
    "    print(\"new center: %s\" % ms)"
   ]
  },
  {
   "cell_type": "code",
   "execution_count": null,
   "metadata": {
    "collapsed": true
   },
   "outputs": [],
   "source": []
  }
 ],
 "metadata": {
  "kernelspec": {
   "display_name": "Python 3",
   "language": "python",
   "name": "python3"
  },
  "language_info": {
   "codemirror_mode": {
    "name": "ipython",
    "version": 3
   },
   "file_extension": ".py",
   "mimetype": "text/x-python",
   "name": "python",
   "nbconvert_exporter": "python",
   "pygments_lexer": "ipython3",
   "version": "3.5.1"
  }
 },
 "nbformat": 4,
 "nbformat_minor": 0
}
